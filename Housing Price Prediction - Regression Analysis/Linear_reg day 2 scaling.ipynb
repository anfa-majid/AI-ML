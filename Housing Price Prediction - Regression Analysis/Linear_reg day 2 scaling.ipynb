{
 "cells": [
  {
   "cell_type": "code",
   "execution_count": 16,
   "metadata": {},
   "outputs": [],
   "source": [
    "import pandas as pd   \n",
    "from matplotlib import pyplot as plt\n",
    "from numpy import mean\n",
    "import time\n",
    "\n",
    "from sklearn.model_selection import train_test_split, RepeatedKFold, GridSearchCV, cross_val_score\n",
    "from sklearn.metrics import roc_curve, roc_auc_score\n",
    "from sklearn.preprocessing import MinMaxScaler\n",
    "from sklearn.preprocessing import LabelEncoder\n",
    "from sklearn.pipeline import Pipeline\n",
    "from sklearn.preprocessing import StandardScaler\n",
    "from sklearn.impute import KNNImputer, SimpleImputer\n",
    "from sklearn.feature_selection import SequentialFeatureSelector\n",
    "from sklearn.preprocessing import RobustScaler\n",
    "\n",
    "import warnings \n",
    "warnings.filterwarnings('ignore')\n",
    "\n",
    "\n",
    "from sklearn.linear_model import LinearRegression"
   ]
  },
  {
   "cell_type": "code",
   "execution_count": 17,
   "metadata": {},
   "outputs": [],
   "source": [
    "df1 = pd.read_csv(\"train.csv\")\n",
    "#df1.head()\n",
    "df2 = pd.read_csv('test.csv')\n",
    "#df2"
   ]
  },
  {
   "cell_type": "code",
   "execution_count": 18,
   "metadata": {},
   "outputs": [],
   "source": [
    "#from df1 drop sub_are\n",
    "df1 = df1.drop(columns=['sub_area'])\n"
   ]
  },
  {
   "cell_type": "code",
   "execution_count": 19,
   "metadata": {},
   "outputs": [],
   "source": [
    "#from df2 drop sub_area and row ID \n",
    "df2 = df2.drop(columns=['sub_area', 'row ID'])"
   ]
  },
  {
   "cell_type": "code",
   "execution_count": 20,
   "metadata": {},
   "outputs": [],
   "source": [
    "df_onehot = pd.get_dummies(df1)\n",
    "df_onehot.dtypes\n",
    "test_onehot = pd.get_dummies(df2)"
   ]
  },
  {
   "cell_type": "code",
   "execution_count": 21,
   "metadata": {},
   "outputs": [
    {
     "name": "stdout",
     "output_type": "stream",
     "text": [
      "Columns with Absolute Correlation < 0. with price_doc :\n",
      "['area_m', 'raion_popul', 'green_zone_part', 'indust_part', 'children_preschool', 'preschool_education_centers_raion', 'children_school', 'school_education_centers_raion', 'healthcare_centers_raion', 'sport_objects_raion', 'additional_education_raion', 'shopping_centers_raion', 'full_all', 'male_f', 'female_f', 'young_all', 'young_male', 'young_female', 'work_all', 'work_male', 'work_female', 'ekder_all', 'ekder_male', 'ekder_female', '0_6_all', '0_6_male', '0_6_female', '7_14_all', '7_14_male', '7_14_female', '0_17_all', '0_17_male', '0_17_female', '16_29_all', '16_29_male', '16_29_female', '0_13_all', '0_13_male', '0_13_female', 'raion_build_count_with_material_info', 'build_count_block', 'build_count_wood', 'build_count_frame', 'build_count_brick', 'build_count_panel', 'build_count_mix', 'raion_build_count_with_builddate_info', 'build_count_1921-1945', 'build_count_1946-1970', 'build_count_1971-1995', 'ID_metro', 'metro_min_avto', 'metro_km_avto', 'metro_min_walk', 'metro_km_walk', 'park_km', 'green_zone_km', 'water_treatment_km', 'cemetery_km', 'incineration_km', 'railroad_station_walk_km', 'railroad_station_walk_min', 'ID_railroad_station_walk', 'railroad_station_avto_km', 'railroad_station_avto_min', 'ID_railroad_station_avto', 'water_km', 'mkad_km', 'ttk_km', 'sadovoe_km', 'bulvar_ring_km', 'kremlin_km', 'big_road1_km', 'ID_big_road1', 'big_road2_km', 'ID_big_road2', 'railroad_km', 'zd_vokzaly_avto_km', 'ID_railroad_terminal', 'bus_terminal_avto_km', 'ID_bus_terminal', 'oil_chemistry_km', 'nuclear_reactor_km', 'radiation_km', 'power_transmission_line_km', 'thermal_power_plant_km', 'ts_km', 'big_market_km', 'market_shop_km', 'swim_pool_km', 'ice_rink_km', 'stadium_km', 'basketball_km', 'hospice_morgue_km', 'detention_facility_km', 'university_km', 'workplaces_km', 'shopping_centers_km', 'office_km', 'mosque_km', 'theater_km', 'museum_km', 'exhibition_km', 'catering_km', 'green_part_500', 'green_part_1000', 'prom_part_1000', 'green_part_1500', 'prom_part_1500', 'sport_count_1500', 'market_count_1500', 'green_part_2000', 'prom_part_2000', 'trc_count_2000', 'cafe_sum_2000_min_price_avg', 'cafe_sum_2000_max_price_avg', 'cafe_avg_price_2000', 'mosque_count_2000', 'sport_count_2000', 'market_count_2000', 'green_part_3000', 'prom_part_3000', 'office_sqm_3000', 'trc_count_3000', 'trc_sqm_3000', 'cafe_sum_3000_min_price_avg', 'cafe_sum_3000_max_price_avg', 'cafe_avg_price_3000', 'mosque_count_3000', 'sport_count_3000', 'market_count_3000', 'green_part_5000', 'prom_part_5000', 'office_count_5000', 'office_sqm_5000', 'trc_count_5000', 'trc_sqm_5000', 'cafe_count_5000', 'cafe_sum_5000_min_price_avg', 'cafe_sum_5000_max_price_avg', 'cafe_avg_price_5000', 'cafe_count_5000_na_price', 'cafe_count_5000_price_500', 'cafe_count_5000_price_1000', 'cafe_count_5000_price_1500', 'cafe_count_5000_price_2500', 'cafe_count_5000_price_4000', 'cafe_count_5000_price_high', 'big_church_count_5000', 'church_count_5000', 'mosque_count_5000', 'leisure_count_5000', 'sport_count_5000', 'market_count_5000', 'product_type_Investment', 'product_type_OwnerOccupier', 'culture_objects_top_25_no', 'culture_objects_top_25_yes', 'thermal_power_plant_raion_no', 'thermal_power_plant_raion_yes', 'incineration_raion_no', 'incineration_raion_yes', 'oil_chemistry_raion_no', 'oil_chemistry_raion_yes', 'radiation_raion_no', 'radiation_raion_yes', 'railroad_terminal_raion_no', 'railroad_terminal_raion_yes', 'big_market_raion_no', 'big_market_raion_yes', 'nuclear_reactor_raion_no', 'nuclear_reactor_raion_yes', 'detention_facility_raion_no', 'detention_facility_raion_yes', 'water_1line_no', 'water_1line_yes', 'big_road1_1line_no', 'big_road1_1line_yes', 'railroad_1line_no', 'railroad_1line_yes', 'ecology_excellent', 'ecology_good', 'ecology_no data', 'ecology_poor', 'ecology_satisfactory']\n"
     ]
    }
   ],
   "source": [
    "target_variable = 'price_doc'  # replace 'target' with the actual name of your target variable column\n",
    "\n",
    "correlation_with_target = df_onehot.corr()[[target_variable]].abs()\n",
    "\n",
    "\n",
    "low_correlation_columns = correlation_with_target[correlation_with_target[target_variable] < 0.5].index.tolist()\n",
    "\n",
    "print(\"Columns with Absolute Correlation < 0. with\", target_variable, \":\")\n",
    "print(low_correlation_columns)"
   ]
  },
  {
   "cell_type": "code",
   "execution_count": null,
   "metadata": {},
   "outputs": [],
   "source": [
    "df_onehot = df_onehot.drop(columns=low_correlation_columns)"
   ]
  },
  {
   "cell_type": "code",
   "execution_count": null,
   "metadata": {},
   "outputs": [],
   "source": [
    "X = df_onehot.drop(columns=['price_doc'])\n",
    "print(X.shape)\n",
    "y = df_onehot[['price_doc']]\n",
    "\n",
    "\n"
   ]
  },
  {
   "cell_type": "code",
   "execution_count": null,
   "metadata": {},
   "outputs": [],
   "source": [
    "#do robust scaling\n",
    "scaler = RobustScaler()\n",
    "scaled_df2 = scaler.fit_transform(test_onehot)\n",
    "scaled_df1 = scaler.fit_transform(X)"
   ]
  },
  {
   "cell_type": "code",
   "execution_count": null,
   "metadata": {},
   "outputs": [],
   "source": [
    "scaler = StandardScaler()\n",
    "\n",
    "# Fit and transform the training data\n",
    "scaled_df1 = scaler.fit_transform(X)\n",
    "\n",
    "# Transform the test data using the same scaler\n",
    "scaled_df2 = scaler.transform(test_onehot)"
   ]
  },
  {
   "cell_type": "code",
   "execution_count": null,
   "metadata": {},
   "outputs": [],
   "source": [
    "scaler = MinMaxScaler()\n",
    "\n",
    "# Fit the scaler on the training data and transform both training and test data\n",
    "df_onehot_scaled = scaler.fit_transform(X)\n",
    "test_onehot_scaled = scaler.transform(df2)"
   ]
  },
  {
   "cell_type": "code",
   "execution_count": null,
   "metadata": {},
   "outputs": [],
   "source": [
    "print(scaled_df1.shape)"
   ]
  },
  {
   "cell_type": "code",
   "execution_count": null,
   "metadata": {},
   "outputs": [],
   "source": [
    "#cpnvert to dataframe\n",
    "scaled_df1 = pd.DataFrame(scaled_df1, columns=X.columns)\n",
    "scaled_df2 = pd.DataFrame(scaled_df2, columns=test_onehot.columns)"
   ]
  },
  {
   "cell_type": "code",
   "execution_count": null,
   "metadata": {},
   "outputs": [],
   "source": [
    "from sklearn.decomposition import PCA\n",
    "n_components = 102  # You can choose the number of components based on your requirements\n",
    "pca = PCA(n_components=n_components)\n",
    "\n",
    "# Apply PCA to the training data\n",
    "X_pca = pca.fit_transform(scaled_df1)\n",
    "\n",
    "# Apply the same PCA transformation to the test data\n",
    "df2_onehot_pca = pca.transform(scaled_df2)"
   ]
  },
  {
   "cell_type": "code",
   "execution_count": null,
   "metadata": {},
   "outputs": [],
   "source": [
    "from sklearn.feature_selection import VarianceThreshold\n",
    "\n",
    "# original_feature_indices = np.arange(X.shape[1])\n",
    "threshold_value = 0.001\n",
    "variance_filter = VarianceThreshold(threshold=threshold_value)\n",
    "\n",
    "# Fit and transform the feature matrix\n",
    "X_filtered = variance_filter.fit_transform(scaled_df1)\n",
    "\n",
    "X_test_high_variance = variance_filter.transform(scaled_df2)\n"
   ]
  },
  {
   "cell_type": "code",
   "execution_count": null,
   "metadata": {},
   "outputs": [],
   "source": [
    "import statsmodels.api as sm\n",
    "import pandas as pd\n",
    "\n",
    "# Convert scaled_df1 to a DataFrame without specifying columns\n",
    "scaled_df1_df = pd.DataFrame(scaled_df1)\n",
    "\n",
    "# Add a constant term to the feature matrix\n",
    "X_with_const = sm.add_constant(scaled_df1_df)\n",
    "\n",
    "# Fit a linear regression model\n",
    "model = sm.OLS(y, X_with_const).fit()\n",
    "\n",
    "# Get p-values for each feature\n",
    "p_values = model.pvalues[1:]  # Exclude the constant term\n",
    "\n",
    "# Set your desired threshold for p-value\n",
    "threshold = 0.05\n",
    "\n",
    "# Filter features based on p-value\n",
    "selected_features = p_values[p_values < threshold].index\n",
    "\n",
    "# Display selected features\n",
    "print(\"Selected Features:\")\n",
    "print(selected_features)\n",
    "\n",
    "# Select columns in the DataFrame\n",
    "X_selected = scaled_df1_df[selected_features]\n"
   ]
  },
  {
   "cell_type": "code",
   "execution_count": null,
   "metadata": {},
   "outputs": [],
   "source": [
    "print(X_selected.shape)  "
   ]
  },
  {
   "cell_type": "code",
   "execution_count": null,
   "metadata": {},
   "outputs": [],
   "source": [
    "print(scaled_df1_selected.shape)"
   ]
  },
  {
   "cell_type": "code",
   "execution_count": null,
   "metadata": {},
   "outputs": [],
   "source": [
    "scaled_df1_selected_df = pd.DataFrame(scaled_df1_selected)"
   ]
  },
  {
   "cell_type": "code",
   "execution_count": null,
   "metadata": {},
   "outputs": [],
   "source": [
    "#give me code for feature importance using linear regression\n",
    "model = LinearRegression()\n",
    "model.fit(X, y)\n",
    "# get importance\n",
    "importance = model.coef_[0]\n",
    "# summarize feature importance\n",
    "for i,v in enumerate(importance):\n",
    "    print('Feature: %0d, Score: %.5f' % (i,v))\n",
    "\n",
    "# drop features with low importance\n",
    "threshold = 0  # Adjust the threshold as needed\n",
    "selected_features = [feature for feature, score in zip(X.columns, importance) if score >= threshold]\n",
    "X_selected = X[selected_features]\n",
    "\n",
    "# plot feature importance\n",
    "plt.bar([x for x in range(len(importance))], importance)\n",
    "plt.show()\n",
    "\n"
   ]
  },
  {
   "cell_type": "code",
   "execution_count": null,
   "metadata": {},
   "outputs": [],
   "source": []
  },
  {
   "cell_type": "code",
   "execution_count": null,
   "metadata": {},
   "outputs": [],
   "source": [
    "ols_reg = LinearRegression()\n",
    "sfs = SequentialFeatureSelector(ols_reg, direction='forward', n_features_to_select=150)\n",
    "sfs.fit(X, y)\n",
    "X_selected = sfs.transform(X)\n",
    "# Print the names of the selected features\n",
    "print(\"Selected Features:\", sfs.get_feature_names_out())\n",
    "\n",
    "\n"
   ]
  },
  {
   "cell_type": "code",
   "execution_count": null,
   "metadata": {},
   "outputs": [],
   "source": [
    "print(X_selected.shape)"
   ]
  },
  {
   "cell_type": "code",
   "execution_count": null,
   "metadata": {},
   "outputs": [],
   "source": []
  },
  {
   "cell_type": "code",
   "execution_count": null,
   "metadata": {},
   "outputs": [],
   "source": [
    "X_selected_df = pd.DataFrame(X_selected, columns=sfs.get_feature_names_out())"
   ]
  },
  {
   "cell_type": "code",
   "execution_count": null,
   "metadata": {},
   "outputs": [],
   "source": [
    "print(scaled_df1_selected_df.head())"
   ]
  },
  {
   "cell_type": "code",
   "execution_count": null,
   "metadata": {},
   "outputs": [],
   "source": [
    "#keep features from scaled_df2 that are in X_selected\n",
    "test_onehot = scaled_df2[:, scaled_df1_selected_df.columns.get_indexer(scaled_df1_selected_df.columns)]\n"
   ]
  },
  {
   "cell_type": "code",
   "execution_count": null,
   "metadata": {},
   "outputs": [],
   "source": [
    "print(test_onehot.shape)"
   ]
  },
  {
   "cell_type": "code",
   "execution_count": null,
   "metadata": {},
   "outputs": [],
   "source": [
    "X_train, X_test, y_train, y_test = train_test_split(scaled_df1_selected, y, test_size = 0.3)"
   ]
  },
  {
   "cell_type": "code",
   "execution_count": null,
   "metadata": {},
   "outputs": [],
   "source": [
    "from sklearn.metrics import mean_squared_error, r2_score"
   ]
  },
  {
   "cell_type": "code",
   "execution_count": null,
   "metadata": {},
   "outputs": [],
   "source": [
    "print(\"Training Set Info:\")\n",
    "print(X.info())\n",
    "\n",
    "print(\"\\nTest Set Info:\")\n",
    "print(test_onehot.info())\n"
   ]
  },
  {
   "cell_type": "code",
   "execution_count": null,
   "metadata": {},
   "outputs": [],
   "source": [
    "reg2 = LinearRegression().fit(scaled_df1_selected_df, y)\n",
    "print(reg2.score(scaled_df1_selected_df, y))\n",
    "print(reg2.coef_)\n",
    "print(reg2.intercept_)\n",
    "md_probs = reg2.predict(test_onehot)\n",
    "#print(\"Mean squared error: %.2f\" % mean_squared_error(test_onehot, md_probs))"
   ]
  },
  {
   "cell_type": "code",
   "execution_count": null,
   "metadata": {},
   "outputs": [],
   "source": []
  },
  {
   "cell_type": "code",
   "execution_count": null,
   "metadata": {},
   "outputs": [],
   "source": [
    "additional_data = pd.read_csv(\"test.csv\")\n",
    "\n",
    "# Create a DataFrame with 'row ID' and predicted values\n",
    "predicted_df = pd.DataFrame({\n",
    "    'row ID': additional_data['row ID'],\n",
    "    'price_doc': md_probs[:,0]  # Replace with the actual column name for your predictions\n",
    "})\n",
    "\n",
    "# Save the DataFrame to a new CSV file\n",
    "predicted_df.to_csv('predictions12.csv', index=False)"
   ]
  }
 ],
 "metadata": {
  "kernelspec": {
   "display_name": "base",
   "language": "python",
   "name": "python3"
  },
  "language_info": {
   "codemirror_mode": {
    "name": "ipython",
    "version": 3
   },
   "file_extension": ".py",
   "mimetype": "text/x-python",
   "name": "python",
   "nbconvert_exporter": "python",
   "pygments_lexer": "ipython3",
   "version": "3.10.9"
  }
 },
 "nbformat": 4,
 "nbformat_minor": 2
}
