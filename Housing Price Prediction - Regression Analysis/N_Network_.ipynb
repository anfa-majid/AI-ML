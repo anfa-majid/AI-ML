{
 "cells": [
  {
   "cell_type": "code",
   "execution_count": 110,
   "metadata": {},
   "outputs": [],
   "source": [
    "import pandas as pd\n",
    "from sklearn.model_selection import train_test_split\n",
    "from sklearn.preprocessing import StandardScaler\n",
    "from keras.models import Sequential\n",
    "from keras.layers import Dense, Dropout\n",
    "from keras.callbacks import EarlyStopping\n",
    "import os\n",
    "from sklearn.feature_selection import VarianceThreshold\n",
    "\n",
    "import torch\n",
    "from sklearn.neural_network import MLPRegressor\n",
    "from sklearn.ensemble import GradientBoostingRegressor\n",
    "from sklearn.metrics import mean_squared_error\n",
    "from sklearn.model_selection import GridSearchCV\n",
    "from keras.optimizers import SGD, Adam\n",
    "from keras.regularizers import l2\n",
    "from sklearn.inspection import permutation_importance\n",
    "from sklearn.feature_selection import f_regression, SelectKBest\n",
    "\n",
    "from sklearn.model_selection import train_test_split, RepeatedKFold, GridSearchCV, cross_val_score\n",
    "from sklearn.metrics import roc_curve, roc_auc_score\n",
    "from sklearn.preprocessing import MinMaxScaler\n",
    "from sklearn.preprocessing import LabelEncoder\n",
    "from sklearn.pipeline import Pipeline\n",
    "from sklearn.preprocessing import StandardScaler\n",
    "from sklearn.impute import KNNImputer, SimpleImputer\n",
    "from sklearn.feature_selection import SequentialFeatureSelector\n",
    "from sklearn.preprocessing import RobustScaler\n",
    "from sklearn.feature_selection import VarianceThreshold\n",
    "from sklearn.preprocessing import PolynomialFeatures\n",
    "from sklearn.linear_model import LinearRegression\n",
    "\n",
    "\n",
    "import numpy as np"
   ]
  },
  {
   "cell_type": "code",
   "execution_count": 111,
   "metadata": {},
   "outputs": [],
   "source": [
    "# Load the training data\n",
    "train_data = pd.read_csv('train.csv')\n",
    "test_data = pd.read_csv('test.csv')\n",
    "\n",
    "used = []\n",
    "\n",
    "# Extract features and target variable\n",
    "X = train_data.drop('price_doc', axis=1)\n",
    "y = train_data['price_doc']\n",
    "X_test = test_data.drop(['row ID'], axis=1)"
   ]
  },
  {
   "cell_type": "code",
   "execution_count": null,
   "metadata": {},
   "outputs": [],
   "source": [
    "# X = X.drop('sub_area', axis=1)\n",
    "# X_test = X_test.drop('sub_area', axis=1)\n",
    "# used.append('Removed sub_area')"
   ]
  },
  {
   "cell_type": "code",
   "execution_count": 112,
   "metadata": {},
   "outputs": [],
   "source": [
    "X = pd.get_dummies(X)\n",
    "X_test = pd.get_dummies(X_test) \n",
    "used.append('OneHot Encoding')"
   ]
  },
  {
   "cell_type": "code",
   "execution_count": 113,
   "metadata": {},
   "outputs": [],
   "source": [
    "# Keep only the columns in X_test that are present in X\n",
    "common_columns = X_test.columns.intersection(X.columns)\n",
    "X = X[common_columns]\n"
   ]
  },
  {
   "cell_type": "code",
   "execution_count": null,
   "metadata": {},
   "outputs": [],
   "source": [
    "X.shape"
   ]
  },
  {
   "cell_type": "code",
   "execution_count": null,
   "metadata": {},
   "outputs": [],
   "source": [
    "X_test.shape"
   ]
  },
  {
   "cell_type": "code",
   "execution_count": null,
   "metadata": {},
   "outputs": [],
   "source": [
    "from sklearn.calibration import LabelEncoder\n",
    "\n",
    "categorical_columns = X.select_dtypes(include=['object']).columns.tolist()\n",
    "print(\"Train: Categorical columns:\", categorical_columns)\n",
    "\n",
    "label_encoder = LabelEncoder()\n",
    "\n",
    "for column in categorical_columns:\n",
    "    X[column] = label_encoder.fit_transform(X[column])\n",
    "\n",
    "categorical_columns_test = X_test.select_dtypes(include=['object']).columns.tolist()\n",
    "print(\"Test: Categorical columns:\", categorical_columns_test)\n",
    "\n",
    "label_encoder = LabelEncoder()\n",
    "\n",
    "for column in categorical_columns_test:\n",
    "    X_test[column] = label_encoder.fit_transform(X_test[column])\n",
    "\n",
    "used.append('Label Encoding')"
   ]
  },
  {
   "cell_type": "code",
   "execution_count": null,
   "metadata": {},
   "outputs": [],
   "source": [
    "# # drop all columns in X_train with dtypes object\n",
    "# for col in X.columns:\n",
    "#     if X[col].dtype == 'object':\n",
    "#         X.drop(col, axis=1, inplace=True)\n",
    "\n",
    "# # drop all columns in X_test with dtypes object\n",
    "# for col in X_test.columns:\n",
    "#     if X_test[col].dtype == 'object':\n",
    "#         X_test.drop(col, axis=1, inplace=True)\n",
    "\n",
    "# used.append(\"Removed Object Dtypes\")"
   ]
  },
  {
   "cell_type": "code",
   "execution_count": 114,
   "metadata": {},
   "outputs": [],
   "source": [
    "X = X.astype('float32')\n",
    "X_test = X_test.astype('float32')\n",
    "used.append(\"Converted All Columns To float32\")"
   ]
  },
  {
   "cell_type": "code",
   "execution_count": 115,
   "metadata": {},
   "outputs": [],
   "source": []
  },
  {
   "cell_type": "code",
   "execution_count": null,
   "metadata": {},
   "outputs": [],
   "source": [
    "X.shape"
   ]
  },
  {
   "cell_type": "code",
   "execution_count": 116,
   "metadata": {},
   "outputs": [],
   "source": [
    "from sklearn.decomposition import PCA\n",
    "n_components =  100 # You can choose the number of components based on your requirements\n",
    "pca = PCA(n_components=n_components)\n",
    "\n",
    "# Apply PCA to the training data\n",
    "X_pca = pca.fit_transform(X)\n",
    "\n",
    "# Apply the same PCA transformation to the test data\n",
    "df2_onehot_pca = pca.transform(X_test)"
   ]
  },
  {
   "cell_type": "code",
   "execution_count": null,
   "metadata": {},
   "outputs": [],
   "source": [
    "\n",
    "#X_train, X_test, y_train, y_test = train_test_split(X_scaled, y, test_size=0.3, random_state=42)\n",
    "\n",
    "variance_threshold = 0.01 # Set your desired threshold\n",
    "selector = VarianceThreshold(threshold=variance_threshold)\n",
    "X_var = selector.fit_transform(X)\n",
    "X_test = selector.transform(X_test)\n",
    "used.append('variance based filter')"
   ]
  },
  {
   "cell_type": "code",
   "execution_count": null,
   "metadata": {},
   "outputs": [],
   "source": [
    "X_var.shape "
   ]
  },
  {
   "cell_type": "code",
   "execution_count": null,
   "metadata": {},
   "outputs": [],
   "source": [
    "\n",
    "# Feature selection using f_regression\n",
    "selector = SelectKBest(score_func=f_regression, k='all')\n",
    "X_selected = selector.fit_transform(X, y)\n",
    "\n",
    "# Get feature scores\n",
    "feature_scores = selector.scores_\n",
    "\n",
    "# Print the feature scores\n",
    "print(\"Feature Scores:\")\n",
    "for feature, score in zip(X.columns, feature_scores):\n",
    "    print(f\"{feature}: {score}\")\n",
    "\n",
    "# Select the top k features based on scores\n",
    "k = 270\n",
    "selected_features = X.columns[np.argsort(feature_scores)[::-1][:k]]\n",
    "\n",
    "# Use only the top k features\n",
    "X_selected = X[selected_features]"
   ]
  },
  {
   "cell_type": "code",
   "execution_count": null,
   "metadata": {},
   "outputs": [],
   "source": [
    "ols_reg = LinearRegression()\n",
    "sfs = SequentialFeatureSelector(ols_reg, direction='forward', n_features_to_select=50, n_jobs=-1)\n",
    "sfs.fit(X, y)\n",
    "\n",
    "# Get the selected feature indices\n",
    "selected_feature_indices = sfs.get_support(indices=True)\n",
    "\n",
    "# Print the names of the selected features\n",
    "selected_features = X.columns[selected_feature_indices]\n",
    "print(\"Selected Features:\", selected_features)"
   ]
  },
  {
   "cell_type": "code",
   "execution_count": null,
   "metadata": {},
   "outputs": [],
   "source": [
    "import statsmodels.api as sm\n",
    "import pandas as pd\n",
    "\n",
    "# Convert scaled_df1 to a DataFrame without specifying columns\n",
    "\n",
    "# Add a constant term to the feature matrix\n",
    "X_with_const = sm.add_constant(X)\n",
    "\n",
    "# Fit a linear regression model\n",
    "model = sm.OLS(y, X_with_const).fit()\n",
    "\n",
    "# Get p-values for each feature\n",
    "p_values = model.pvalues[1:]  # Exclude the constant term\n",
    "\n",
    "# Set your desired threshold for p-value\n",
    "threshold = 0.05\n",
    "\n",
    "# Filter features based on p-value\n",
    "selected_features = p_values[p_values < threshold].index\n",
    "\n",
    "# Display selected features\n",
    "print(\"Selected Features:\")\n",
    "print(selected_features)\n",
    "\n",
    "# Select columns in the DataFrame\n",
    "X_selected = X[selected_features]\n"
   ]
  },
  {
   "cell_type": "code",
   "execution_count": null,
   "metadata": {},
   "outputs": [],
   "source": [
    "X_test = X_test[X_selected.columns]"
   ]
  },
  {
   "cell_type": "code",
   "execution_count": null,
   "metadata": {},
   "outputs": [],
   "source": [
    "X_selected.shape"
   ]
  },
  {
   "cell_type": "code",
   "execution_count": null,
   "metadata": {},
   "outputs": [],
   "source": [
    "X_test = X_test[X.columns]"
   ]
  },
  {
   "cell_type": "code",
   "execution_count": null,
   "metadata": {},
   "outputs": [],
   "source": [
    "X_test = X_test[X.columns]\n"
   ]
  },
  {
   "cell_type": "code",
   "execution_count": 117,
   "metadata": {},
   "outputs": [],
   "source": [
    "# Split the data into training and validation sets\n",
    "X_train, X_val, y_train, y_val = train_test_split(X_pca, y, test_size=0.3, random_state=42)"
   ]
  },
  {
   "cell_type": "code",
   "execution_count": null,
   "metadata": {},
   "outputs": [],
   "source": [
    "#X_train.shape\n",
    "X_val.shape"
   ]
  },
  {
   "cell_type": "code",
   "execution_count": null,
   "metadata": {},
   "outputs": [],
   "source": [
    "#convert X_train to df\n",
    "X_train = pd.DataFrame(X_train)\n",
    "X_test = pd.DataFrame(X_test)"
   ]
  },
  {
   "cell_type": "code",
   "execution_count": null,
   "metadata": {},
   "outputs": [],
   "source": [
    "# Keep only the columns in X_test that are present in X\n",
    "common_columns = X_train.columns.intersection(X_test.columns)\n",
    "X_test = X_test[common_columns]\n",
    "\n",
    "# Convert to NumPy arrays for StandardScaler\n",
    "X_test = X_test.values\n"
   ]
  },
  {
   "cell_type": "code",
   "execution_count": null,
   "metadata": {},
   "outputs": [],
   "source": [
    "X_train.shape"
   ]
  },
  {
   "cell_type": "code",
   "execution_count": 118,
   "metadata": {},
   "outputs": [],
   "source": [
    "# Standardize the data\n",
    "scaler = StandardScaler()\n",
    "X_train = scaler.fit_transform(X_train)\n",
    "X_val = scaler.transform(X_val)\n",
    "X_test = scaler.transform(df2_onehot_pca)\n",
    "used.append(\"StandardScaler\")"
   ]
  },
  {
   "cell_type": "code",
   "execution_count": null,
   "metadata": {},
   "outputs": [],
   "source": [
    "X_train.shape"
   ]
  },
  {
   "cell_type": "markdown",
   "metadata": {},
   "source": [
    "<h1>With Keras<h1>"
   ]
  },
  {
   "cell_type": "code",
   "execution_count": null,
   "metadata": {},
   "outputs": [],
   "source": [
    "features_used = X_train.shape[1]\n",
    "\n",
    "#optimizerUsing = SGD(learning_rate=0.001, momentum=0.9)\n",
    "\n",
    "# optimizerUsing = Adam(lr=0.001, beta_1=0.9, beta_2=0.999, epsilon=1e-07, amsgrad=False)\n",
    "optimizerUsing = Adam(lr=0.001)#, epsilon=1e-07)\n",
    "\n",
    "# Build the neural network\n",
    "os.environ[\"KERAS_BACKEND\"] = \"torch\"\n",
    "model = Sequential()\n",
    "model.add(Dense(128, input_dim=X_train.shape[1], activation='relu', kernel_regularizer=l2(0.01)))\n",
    "model.add(Dropout(0.3))  # You can use either dropout or early stopping\n",
    "model.add(Dense(100, activation='relu', kernel_regularizer=l2(0.01)))\n",
    "model.add(Dropout(0.3))\n",
    "model.add(Dense(68, activation='relu', kernel_regularizer=l2(0.01)))\n",
    "model.add(Dropout(0.3))\n",
    "model.add(Dense(40, activation='relu', kernel_regularizer=l2(0.01)))\n",
    "model.add(Dropout(0.3))\n",
    "model.add(Dense(20, activation='relu', kernel_regularizer=l2(0.01)))\n",
    "model.add(Dropout(0.3))\n",
    "model.add(Dense(1, activation='linear'))  # Output layer with linear activation for regression\n",
    "\n",
    "# Compile the model\n",
    "model.compile(loss='mean_squared_error', optimizer=optimizerUsing)\n",
    "\n",
    "# Define early stopping\n",
    "early_stopping = EarlyStopping(monitor='val_loss', patience=10, restore_best_weights=True)\n",
    "\n",
    "# Train the model\n",
    "model.fit(X_train, y_train, epochs=100, batch_size=1800, validation_data=(X_val, y_val), callbacks=[early_stopping])\n",
    "\n",
    "used.append(\"Keras With Torch Backend\")\n",
    "# used.append(\"1 Hidden Layer: Hidden Layer 1 with 140 neurons relu activation, Output linear\")\n",
    "# used.append(\"2 Hidden Layers: Hidden Layer 1 with 100 neurons relu activation, Hidden Layer 2 with 50 neurons relu activation, Dropout 0.3, Output linear\")\n",
    "used.append(\" Hidden Layers: Hidden Layer 1 with 128 neurons relu activation L2 regularization, Hidden Layer 2 with 100 neurons relu activation L2 regularization,Hidden Layer 3 with 68 neurons relu activation L2 regularization Hidden Layer 4 with 40 neurons relu activation L2 regularization, Hidden Layer 5 with 20 neurons relu activation L2 regularization\")\n",
    "used.append(\"Output linear\")\n",
    "used.append(\"Optimizer: Adam(lr=0.01)\")\n",
    "#used.append(\"Optimizer: SGD(learning_rate=0.001, momentum=0.9)\")\n",
    "used.append(\"Loss Calculation: Mean Squared Error\")\n",
    "used.append(\"EarlyStopping(monitor='val_loss', patience=10, restore_best_weights=True)\")\n",
    "used.append(\"batch_size=1800, epochs=100, early_stopping, dropout=0.3 (used in hidden layers only)\")\n",
    "# used.append(\"batch_size=1800, epochs=100, early_stopping\")\n",
    "\n",
    "# Make predictions\n",
    "predictions = model.predict(X_test)"
   ]
  },
  {
   "cell_type": "markdown",
   "metadata": {},
   "source": [
    "<h1>With Skilearn<h1>"
   ]
  },
  {
   "cell_type": "code",
   "execution_count": 119,
   "metadata": {},
   "outputs": [
    {
     "name": "stderr",
     "output_type": "stream",
     "text": [
      "c:\\Users\\anfam\\anaconda3\\lib\\site-packages\\sklearn\\neural_network\\_multilayer_perceptron.py:541: ConvergenceWarning: lbfgs failed to converge (status=2):\n",
      "ABNORMAL_TERMINATION_IN_LNSRCH.\n",
      "\n",
      "Increase the number of iterations (max_iter) or scale the data as shown in:\n",
      "    https://scikit-learn.org/stable/modules/preprocessing.html\n",
      "  self.n_iter_ = _check_optimize_result(\"lbfgs\", opt_res, self.max_iter)\n"
     ]
    }
   ],
   "source": []
  },
  {
   "cell_type": "code",
   "execution_count": 120,
   "metadata": {},
   "outputs": [],
   "source": [
    "# Create a DataFrame with the results\n",
    "submission_df = pd.DataFrame({'row ID': test_data['row ID'], 'price_doc': predictions.flatten()})\n",
    "\n",
    "# Save the results to a CSV file\n",
    "submission_df.to_csv('predictions69.csv', index=False)"
   ]
  },
  {
   "cell_type": "code",
   "execution_count": 121,
   "metadata": {},
   "outputs": [
    {
     "name": "stdout",
     "output_type": "stream",
     "text": [
      "Features Used = 100\n",
      "\n",
      "OneHot Encoding\n",
      "Converted All Columns To float32\n",
      "log Normalization\n",
      "StandardScaler\n",
      "MLPRegressor\n",
      " Hidden Layer 1 with 128 neurons relu activation L2 regularization, Hidden Layer 2 with 100 neurons relu activation L2 regularization,Hidden Layer 3 with 68 neurons relu activation L2 regularization Hidden Layer 4 with 40 neurons relu activation L2 regularization, Hidden Layer 5 with 20 neurons relu activation L2 regularization, Output linear\n",
      "Adam Optimizer\n",
      "EarlyStopping\n",
      "batch_size=1800, epochs=100, early_stopping, dropout=0.3 (used in hidden layers only)\n"
     ]
    }
   ],
   "source": [
    "print(\"Features Used = \" + str(features_used) + \"\\n\")\n",
    "for i in used:\n",
    "    print(i)"
   ]
  }
 ],
 "metadata": {
  "kernelspec": {
   "display_name": "Python 3",
   "language": "python",
   "name": "python3"
  },
  "language_info": {
   "codemirror_mode": {
    "name": "ipython",
    "version": 3
   },
   "file_extension": ".py",
   "mimetype": "text/x-python",
   "name": "python",
   "nbconvert_exporter": "python",
   "pygments_lexer": "ipython3",
   "version": "3.10.9"
  }
 },
 "nbformat": 4,
 "nbformat_minor": 2
}
