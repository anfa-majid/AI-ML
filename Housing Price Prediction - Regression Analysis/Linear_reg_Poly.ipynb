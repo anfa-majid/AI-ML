{
 "cells": [
  {
   "cell_type": "code",
   "execution_count": 38,
   "metadata": {},
   "outputs": [],
   "source": [
    "import pandas as pd   \n",
    "from matplotlib import pyplot as plt\n",
    "from numpy import mean\n",
    "import time\n",
    "\n",
    "from sklearn.model_selection import train_test_split, RepeatedKFold, GridSearchCV, cross_val_score\n",
    "from sklearn.metrics import roc_curve, roc_auc_score\n",
    "from sklearn.preprocessing import MinMaxScaler\n",
    "from sklearn.preprocessing import LabelEncoder\n",
    "from sklearn.pipeline import Pipeline\n",
    "from sklearn.preprocessing import StandardScaler\n",
    "from sklearn.impute import KNNImputer, SimpleImputer\n",
    "from sklearn.feature_selection import SequentialFeatureSelector\n",
    "from sklearn.preprocessing import RobustScaler\n",
    "from sklearn.feature_selection import VarianceThreshold\n",
    "from sklearn.preprocessing import PolynomialFeatures\n",
    "\n",
    "import warnings \n",
    "warnings.filterwarnings('ignore')\n",
    "\n",
    "\n",
    "from sklearn.linear_model import LinearRegression"
   ]
  },
  {
   "cell_type": "code",
   "execution_count": 39,
   "metadata": {},
   "outputs": [],
   "source": [
    "df1 = pd.read_csv(\"train.csv\")\n",
    "#df1.head()\n",
    "df2 = pd.read_csv('test.csv')\n",
    "#df2"
   ]
  },
  {
   "cell_type": "code",
   "execution_count": null,
   "metadata": {},
   "outputs": [],
   "source": [
    "#from df1 drop sub_are\n",
    "df1 = df1.drop(columns=['sub_area'])\n"
   ]
  },
  {
   "cell_type": "code",
   "execution_count": null,
   "metadata": {},
   "outputs": [],
   "source": [
    "#from df2 drop sub_area and row ID \n",
    "df2 = df2.drop(columns=['sub_area', 'row ID'])"
   ]
  },
  {
   "cell_type": "code",
   "execution_count": null,
   "metadata": {},
   "outputs": [],
   "source": [
    "df2 = df2.drop(columns=[ 'row ID'])"
   ]
  },
  {
   "cell_type": "code",
   "execution_count": 40,
   "metadata": {},
   "outputs": [
    {
     "name": "stdout",
     "output_type": "stream",
     "text": [
      "Poselenie Shhapovskoe             1105\n",
      "Alekseevskoe                      1104\n",
      "Tverskoe                          1101\n",
      "Poselenie Mosrentgen              1099\n",
      "Caricyno                          1097\n",
      "                                  ... \n",
      "Posleenie Novofedorovskoe            3\n",
      "Poseleine Voronovskoe                3\n",
      "Poselenie Mhiajlovo-Jarcevskoe       3\n",
      "Prsopekt Vernadskogo                 2\n",
      "Poselenie Krasnopahorksoe            2\n",
      "Name: sub_area, Length: 1927, dtype: int64\n"
     ]
    }
   ],
   "source": [
    "category_frequencies = df1['sub_area'].value_counts()\n",
    "\n",
    "print(category_frequencies)"
   ]
  },
  {
   "cell_type": "code",
   "execution_count": 41,
   "metadata": {},
   "outputs": [
    {
     "name": "stdout",
     "output_type": "stream",
     "text": [
      "1781\n",
      "1927\n"
     ]
    }
   ],
   "source": [
    "infrequent_categories = category_frequencies[category_frequencies < 900].index.tolist()\n",
    "print(len(infrequent_categories))\n",
    "print(len(category_frequencies))"
   ]
  },
  {
   "cell_type": "code",
   "execution_count": 42,
   "metadata": {},
   "outputs": [
    {
     "name": "stdout",
     "output_type": "stream",
     "text": [
      "147\n"
     ]
    }
   ],
   "source": [
    "df1['sub_area'] = df1['sub_area'].replace(infrequent_categories, 'Other')\n",
    "df2['sub_area'] = df2['sub_area'].replace(infrequent_categories, 'Other')\n",
    "category_frequencies1 = df1['sub_area'].value_counts()\n",
    "print(len(category_frequencies1))"
   ]
  },
  {
   "cell_type": "code",
   "execution_count": null,
   "metadata": {},
   "outputs": [],
   "source": [
    "df_onehot = pd.get_dummies(df1)\n",
    "df_onehot.dtypes\n",
    "test_onehot = pd.get_dummies(df2)"
   ]
  },
  {
   "cell_type": "code",
   "execution_count": 43,
   "metadata": {},
   "outputs": [],
   "source": [
    "label_encoder = LabelEncoder()\n",
    "categorical_cols = df1.select_dtypes(include=['object']).columns.tolist()\n",
    "categorical_colstest = df2.select_dtypes(include=['object']).columns.tolist()\n",
    "\n",
    "# You can also encode labels to identify categorical columns\n",
    "for col in categorical_cols:\n",
    "    df1[col] = label_encoder.fit_transform(df1[col])\n",
    "\n",
    "for col in categorical_colstest:\n",
    "    df2[col] = label_encoder.fit_transform(df2[col])\n"
   ]
  },
  {
   "cell_type": "code",
   "execution_count": null,
   "metadata": {},
   "outputs": [],
   "source": []
  },
  {
   "cell_type": "code",
   "execution_count": null,
   "metadata": {},
   "outputs": [],
   "source": [
    "print"
   ]
  },
  {
   "cell_type": "code",
   "execution_count": null,
   "metadata": {},
   "outputs": [],
   "source": [
    "X = df_onehot.drop(columns=['price_doc'])\n",
    "print(X.shape)\n",
    "y = df_onehot[['price_doc']]\n",
    "\n",
    "\n",
    "\n",
    "\n"
   ]
  },
  {
   "cell_type": "code",
   "execution_count": 44,
   "metadata": {},
   "outputs": [
    {
     "name": "stdout",
     "output_type": "stream",
     "text": [
      "(181507, 271)\n"
     ]
    }
   ],
   "source": [
    "X = df1.drop(columns=['price_doc'])\n",
    "print(X.shape)\n",
    "y = df1[['price_doc']]\n",
    "\n",
    "\n",
    "\n",
    "\n"
   ]
  },
  {
   "cell_type": "code",
   "execution_count": 45,
   "metadata": {},
   "outputs": [],
   "source": [
    "scaler = RobustScaler()\n",
    "X_scaled = scaler.fit_transform(X)\n",
    "X_testscaled = scaler.fit_transform(test_onehot)"
   ]
  },
  {
   "cell_type": "code",
   "execution_count": 46,
   "metadata": {},
   "outputs": [],
   "source": [
    "#drop row id from x_testscaled\n",
    "X_testscaled = X_testscaled[:, 1:]\n"
   ]
  },
  {
   "cell_type": "code",
   "execution_count": 47,
   "metadata": {},
   "outputs": [
    {
     "name": "stdout",
     "output_type": "stream",
     "text": [
      "(77789, 434)\n"
     ]
    }
   ],
   "source": [
    "print(X_testscaled.shape)"
   ]
  },
  {
   "cell_type": "code",
   "execution_count": 48,
   "metadata": {},
   "outputs": [],
   "source": [
    "#covert x_scaled to dataframe\n",
    "X_scaled = pd.DataFrame(X_scaled)\n",
    "#convert x_testscaled to dataframe\n",
    "X_testscaled = pd.DataFrame(X_testscaled)\n"
   ]
  },
  {
   "cell_type": "code",
   "execution_count": 50,
   "metadata": {},
   "outputs": [
    {
     "name": "stdout",
     "output_type": "stream",
     "text": [
      "(181507, 271)\n"
     ]
    }
   ],
   "source": [
    "print(X_scaled.shape)"
   ]
  },
  {
   "cell_type": "code",
   "execution_count": 51,
   "metadata": {},
   "outputs": [],
   "source": [
    "X_testscaled = X_testscaled[X_scaled.columns]"
   ]
  },
  {
   "cell_type": "code",
   "execution_count": 52,
   "metadata": {},
   "outputs": [],
   "source": [
    "from sklearn.decomposition import PCA\n",
    "n_components = 100  # You can choose the number of components based on your requirements\n",
    "pca = PCA(n_components=n_components)\n",
    "\n",
    "# Apply PCA to the training data\n",
    "X_pca = pca.fit_transform(X_scaled)\n",
    "\n",
    "# Apply the same PCA transformation to the test data\n",
    "df2_onehot_pca = pca.transform(X_testscaled)"
   ]
  },
  {
   "cell_type": "code",
   "execution_count": 101,
   "metadata": {},
   "outputs": [
    {
     "name": "stdout",
     "output_type": "stream",
     "text": [
      "(77789, 100)\n"
     ]
    }
   ],
   "source": [
    "print(df2_onehot_pca.shape)"
   ]
  },
  {
   "cell_type": "code",
   "execution_count": 55,
   "metadata": {},
   "outputs": [
    {
     "name": "stdout",
     "output_type": "stream",
     "text": [
      "Selected Features: ['x0' 'x1' 'x3' 'x4' 'x7' 'x9' 'x15' 'x16' 'x21' 'x22' 'x23' 'x41' 'x70'\n",
      " 'x74' 'x99']\n"
     ]
    }
   ],
   "source": [
    "ols_reg = LinearRegression()\n",
    "sfs = SequentialFeatureSelector(ols_reg, direction='forward', n_features_to_select=15,n_jobs=-1)\n",
    "sfs.fit(X_pca, y)\n",
    "#X_selected = sfs.transform(X_pca)\n",
    "# Print the names of the selected features\n",
    "print(\"Selected Features:\", sfs.get_feature_names_out())\n",
    "\n",
    "\n"
   ]
  },
  {
   "cell_type": "code",
   "execution_count": 96,
   "metadata": {},
   "outputs": [],
   "source": [
    "#save the selected features in a dataframe\n",
    "X_selected = pd.DataFrame(sfs.transform(X_pca), columns=sfs.get_feature_names_out())"
   ]
  },
  {
   "cell_type": "code",
   "execution_count": 120,
   "metadata": {},
   "outputs": [
    {
     "name": "stdout",
     "output_type": "stream",
     "text": [
      "<class 'pandas.core.frame.DataFrame'>\n",
      "RangeIndex: 77789 entries, 0 to 77788\n",
      "Data columns (total 100 columns):\n",
      " #   Column  Non-Null Count  Dtype  \n",
      "---  ------  --------------  -----  \n",
      " 0   0       77789 non-null  float64\n",
      " 1   1       77789 non-null  float64\n",
      " 2   2       77789 non-null  float64\n",
      " 3   3       77789 non-null  float64\n",
      " 4   4       77789 non-null  float64\n",
      " 5   5       77789 non-null  float64\n",
      " 6   6       77789 non-null  float64\n",
      " 7   7       77789 non-null  float64\n",
      " 8   8       77789 non-null  float64\n",
      " 9   9       77789 non-null  float64\n",
      " 10  10      77789 non-null  float64\n",
      " 11  11      77789 non-null  float64\n",
      " 12  12      77789 non-null  float64\n",
      " 13  13      77789 non-null  float64\n",
      " 14  14      77789 non-null  float64\n",
      " 15  15      77789 non-null  float64\n",
      " 16  16      77789 non-null  float64\n",
      " 17  17      77789 non-null  float64\n",
      " 18  18      77789 non-null  float64\n",
      " 19  19      77789 non-null  float64\n",
      " 20  20      77789 non-null  float64\n",
      " 21  21      77789 non-null  float64\n",
      " 22  22      77789 non-null  float64\n",
      " 23  23      77789 non-null  float64\n",
      " 24  24      77789 non-null  float64\n",
      " 25  25      77789 non-null  float64\n",
      " 26  26      77789 non-null  float64\n",
      " 27  27      77789 non-null  float64\n",
      " 28  28      77789 non-null  float64\n",
      " 29  29      77789 non-null  float64\n",
      " 30  30      77789 non-null  float64\n",
      " 31  31      77789 non-null  float64\n",
      " 32  32      77789 non-null  float64\n",
      " 33  33      77789 non-null  float64\n",
      " 34  34      77789 non-null  float64\n",
      " 35  35      77789 non-null  float64\n",
      " 36  36      77789 non-null  float64\n",
      " 37  37      77789 non-null  float64\n",
      " 38  38      77789 non-null  float64\n",
      " 39  39      77789 non-null  float64\n",
      " 40  40      77789 non-null  float64\n",
      " 41  41      77789 non-null  float64\n",
      " 42  42      77789 non-null  float64\n",
      " 43  43      77789 non-null  float64\n",
      " 44  44      77789 non-null  float64\n",
      " 45  45      77789 non-null  float64\n",
      " 46  46      77789 non-null  float64\n",
      " 47  47      77789 non-null  float64\n",
      " 48  48      77789 non-null  float64\n",
      " 49  49      77789 non-null  float64\n",
      " 50  50      77789 non-null  float64\n",
      " 51  51      77789 non-null  float64\n",
      " 52  52      77789 non-null  float64\n",
      " 53  53      77789 non-null  float64\n",
      " 54  54      77789 non-null  float64\n",
      " 55  55      77789 non-null  float64\n",
      " 56  56      77789 non-null  float64\n",
      " 57  57      77789 non-null  float64\n",
      " 58  58      77789 non-null  float64\n",
      " 59  59      77789 non-null  float64\n",
      " 60  60      77789 non-null  float64\n",
      " 61  61      77789 non-null  float64\n",
      " 62  62      77789 non-null  float64\n",
      " 63  63      77789 non-null  float64\n",
      " 64  64      77789 non-null  float64\n",
      " 65  65      77789 non-null  float64\n",
      " 66  66      77789 non-null  float64\n",
      " 67  67      77789 non-null  float64\n",
      " 68  68      77789 non-null  float64\n",
      " 69  69      77789 non-null  float64\n",
      " 70  70      77789 non-null  float64\n",
      " 71  71      77789 non-null  float64\n",
      " 72  72      77789 non-null  float64\n",
      " 73  73      77789 non-null  float64\n",
      " 74  74      77789 non-null  float64\n",
      " 75  75      77789 non-null  float64\n",
      " 76  76      77789 non-null  float64\n",
      " 77  77      77789 non-null  float64\n",
      " 78  78      77789 non-null  float64\n",
      " 79  79      77789 non-null  float64\n",
      " 80  80      77789 non-null  float64\n",
      " 81  81      77789 non-null  float64\n",
      " 82  82      77789 non-null  float64\n",
      " 83  83      77789 non-null  float64\n",
      " 84  84      77789 non-null  float64\n",
      " 85  85      77789 non-null  float64\n",
      " 86  86      77789 non-null  float64\n",
      " 87  87      77789 non-null  float64\n",
      " 88  88      77789 non-null  float64\n",
      " 89  89      77789 non-null  float64\n",
      " 90  90      77789 non-null  float64\n",
      " 91  91      77789 non-null  float64\n",
      " 92  92      77789 non-null  float64\n",
      " 93  93      77789 non-null  float64\n",
      " 94  94      77789 non-null  float64\n",
      " 95  95      77789 non-null  float64\n",
      " 96  96      77789 non-null  float64\n",
      " 97  97      77789 non-null  float64\n",
      " 98  98      77789 non-null  float64\n",
      " 99  99      77789 non-null  float64\n",
      "dtypes: float64(100)\n",
      "memory usage: 59.3 MB\n",
      "None\n"
     ]
    }
   ],
   "source": [
    "print(X_testscaled.info())\n"
   ]
  },
  {
   "cell_type": "code",
   "execution_count": 121,
   "metadata": {},
   "outputs": [],
   "source": [
    "# Create a mapping dictionary for the old column names to the new names\n",
    "column_mapping = {i: f'x{i}' for i in range(100)}\n",
    "\n",
    "# Rename the columns in X_testscaled\n",
    "X_testscaled.rename(columns=column_mapping, inplace=True)\n",
    "\n",
    "# Get the names of the selected features\n",
    "selected_feature_names = sfs.get_feature_names_out()\n",
    "\n",
    "# Filter columns in X_testscaled based on selected features\n",
    "X_testselected = X_testscaled[selected_feature_names]\n"
   ]
  },
  {
   "cell_type": "code",
   "execution_count": null,
   "metadata": {},
   "outputs": [],
   "source": []
  },
  {
   "cell_type": "code",
   "execution_count": 107,
   "metadata": {},
   "outputs": [],
   "source": [
    "#covert x_scaled to dataframe\n",
    "X_scaled = pd.DataFrame(X_pca)\n",
    "#convert x_testscaled to dataframe\n",
    "X_testscaled = pd.DataFrame(df2_onehot_pca)"
   ]
  },
  {
   "cell_type": "code",
   "execution_count": 122,
   "metadata": {},
   "outputs": [
    {
     "name": "stdout",
     "output_type": "stream",
     "text": [
      "(77789, 15)\n"
     ]
    }
   ],
   "source": [
    "print(X_testselected.shape)"
   ]
  },
  {
   "cell_type": "code",
   "execution_count": null,
   "metadata": {},
   "outputs": [],
   "source": [
    "#give me code for feature importance using linear regression\n",
    "model = LinearRegression()\n",
    "model.fit(X_scaled, y)\n",
    "# get importance\n",
    "importance = model.coef_[0]\n",
    "# summarize feature importance\n",
    "for i,v in enumerate(importance):\n",
    "    print('Feature: %0d, Score: %.5f' % (i,v))\n",
    "\n",
    "# drop features with low importance\n",
    "threshold = 70000  # Adjust the threshold as needed\n",
    "selected_features = [feature for feature, score in zip(X_scaled.columns, importance) if score >= threshold]\n",
    "X_selected = X_scaled[selected_features]\n",
    "\n",
    "# plot feature importance\n",
    "plt.bar([x for x in range(len(importance))], importance)\n",
    "plt.show()\n",
    "\n"
   ]
  },
  {
   "cell_type": "code",
   "execution_count": null,
   "metadata": {},
   "outputs": [],
   "source": [
    "import statsmodels.api as sm\n",
    "import pandas as pd\n",
    "\n",
    "# Convert scaled_df1 to a DataFrame without specifying columns\n",
    "\n",
    "# Add a constant term to the feature matrix\n",
    "X_with_const = sm.add_constant(X_scaled)\n",
    "\n",
    "# Fit a linear regression model\n",
    "model = sm.OLS(y, X_with_const).fit()\n",
    "\n",
    "# Get p-values for each feature\n",
    "p_values = model.pvalues[1:]  # Exclude the constant term\n",
    "\n",
    "# Set your desired threshold for p-value\n",
    "threshold = 0.05\n",
    "\n",
    "# Filter features based on p-value\n",
    "selected_features = p_values[p_values < threshold].index\n",
    "\n",
    "# Display selected features\n",
    "print(\"Selected Features:\")\n",
    "print(selected_features)\n",
    "\n",
    "# Select columns in the DataFrame\n",
    "X_selected = X_scaled[selected_features]\n"
   ]
  },
  {
   "cell_type": "code",
   "execution_count": null,
   "metadata": {},
   "outputs": [],
   "source": [
    "# original_feature_indices = np.arange(X.shape[1])\n",
    "threshold_value = 0.001\n",
    "variance_filter = VarianceThreshold(threshold=threshold_value)\n",
    "\n",
    "# Fit and transform the feature matrix\n",
    "X_filtered = variance_filter.fit_transform(X_pca)\n",
    "\n",
    "X_test_high_variance = variance_filter.transform(df2_onehot_pca)"
   ]
  },
  {
   "cell_type": "code",
   "execution_count": 109,
   "metadata": {},
   "outputs": [
    {
     "name": "stdout",
     "output_type": "stream",
     "text": [
      "(181507, 15)\n"
     ]
    }
   ],
   "source": [
    "print(X_selected.shape)"
   ]
  },
  {
   "cell_type": "code",
   "execution_count": 123,
   "metadata": {},
   "outputs": [
    {
     "name": "stdout",
     "output_type": "stream",
     "text": [
      "(77789, 100)\n"
     ]
    }
   ],
   "source": [
    "print(X_testscaled.shape)"
   ]
  },
  {
   "cell_type": "code",
   "execution_count": 111,
   "metadata": {},
   "outputs": [
    {
     "name": "stdout",
     "output_type": "stream",
     "text": [
      "          x0        x1         x3         x4        x7        x9       x15  \\\n",
      "0 -25.097684  2.081439  -2.397080  -0.705120  2.641445  2.644747 -1.254887   \n",
      "1 -24.989207  1.837098  -1.051256  -0.960814  2.118892  3.747045 -0.075839   \n",
      "2 -25.501817  2.397034  -3.184963  -0.549944  1.964646  0.897015 -0.449329   \n",
      "3  -8.200355 -8.415134  33.080799 -11.824804 -4.063293  2.374556  2.726748   \n",
      "4 -23.334034  1.272442   0.247319  -3.555951  3.623278 -2.094094 -0.177176   \n",
      "\n",
      "        x16       x21       x22       x23       x41       x70       x74  \\\n",
      "0  1.351893  0.981178  1.147479  0.986381 -0.319262  0.267783 -0.654090   \n",
      "1  0.781967 -0.131474  1.158358  0.479678  0.555907 -0.513117  0.067374   \n",
      "2  0.491925  0.023041 -0.200901  0.678492  0.711441 -0.224848  0.290627   \n",
      "3 -0.601125 -2.082962 -1.014878  1.976011  0.911945  0.575252  1.412980   \n",
      "4  0.290085 -3.074768 -4.063173  0.199125 -0.025165  0.362275  0.179363   \n",
      "\n",
      "        x99  \n",
      "0 -0.039765  \n",
      "1  0.072293  \n",
      "2 -1.048838  \n",
      "3  1.596842  \n",
      "4 -0.778619  \n"
     ]
    }
   ],
   "source": [
    "print(X_selected.head())"
   ]
  },
  {
   "cell_type": "code",
   "execution_count": null,
   "metadata": {},
   "outputs": [],
   "source": [
    "print(X_filtered.shape)"
   ]
  },
  {
   "cell_type": "code",
   "execution_count": null,
   "metadata": {},
   "outputs": [],
   "source": [
    "print(X_test_high_variance.shape)"
   ]
  },
  {
   "cell_type": "code",
   "execution_count": null,
   "metadata": {},
   "outputs": [],
   "source": [
    "#store x_filtered as a df\n",
    "X_filtered = pd.DataFrame(X_filtered)"
   ]
  },
  {
   "cell_type": "code",
   "execution_count": 63,
   "metadata": {},
   "outputs": [],
   "source": [
    "X_selected = pd.DataFrame(X_selected)"
   ]
  },
  {
   "cell_type": "code",
   "execution_count": 115,
   "metadata": {},
   "outputs": [
    {
     "ename": "KeyError",
     "evalue": "\"None of [Index(['x0', 'x1', 'x3', 'x4', 'x7', 'x9', 'x15', 'x16', 'x21', 'x22', 'x23',\\n       'x41', 'x70', 'x74', 'x99'],\\n      dtype='object')] are in the [columns]\"",
     "output_type": "error",
     "traceback": [
      "\u001b[1;31m---------------------------------------------------------------------------\u001b[0m",
      "\u001b[1;31mKeyError\u001b[0m                                  Traceback (most recent call last)",
      "\u001b[1;32me:\\Challenge 2\\Linear_reg_Poly.ipynb Cell 37\u001b[0m line \u001b[0;36m2\n\u001b[0;32m      <a href='vscode-notebook-cell:/e%3A/Challenge%202/Linear_reg_Poly.ipynb#X65sZmlsZQ%3D%3D?line=0'>1</a>\u001b[0m \u001b[39m#keep those columns in X_testscaled that are in X_selected\u001b[39;00m\n\u001b[1;32m----> <a href='vscode-notebook-cell:/e%3A/Challenge%202/Linear_reg_Poly.ipynb#X65sZmlsZQ%3D%3D?line=1'>2</a>\u001b[0m X_testscaled \u001b[39m=\u001b[39m X_testscaled[X_selected\u001b[39m.\u001b[39;49mcolumns]\n",
      "File \u001b[1;32mc:\\Users\\anfam\\anaconda3\\lib\\site-packages\\pandas\\core\\frame.py:3813\u001b[0m, in \u001b[0;36mDataFrame.__getitem__\u001b[1;34m(self, key)\u001b[0m\n\u001b[0;32m   3811\u001b[0m     \u001b[39mif\u001b[39;00m is_iterator(key):\n\u001b[0;32m   3812\u001b[0m         key \u001b[39m=\u001b[39m \u001b[39mlist\u001b[39m(key)\n\u001b[1;32m-> 3813\u001b[0m     indexer \u001b[39m=\u001b[39m \u001b[39mself\u001b[39;49m\u001b[39m.\u001b[39;49mcolumns\u001b[39m.\u001b[39;49m_get_indexer_strict(key, \u001b[39m\"\u001b[39;49m\u001b[39mcolumns\u001b[39;49m\u001b[39m\"\u001b[39;49m)[\u001b[39m1\u001b[39m]\n\u001b[0;32m   3815\u001b[0m \u001b[39m# take() does not accept boolean indexers\u001b[39;00m\n\u001b[0;32m   3816\u001b[0m \u001b[39mif\u001b[39;00m \u001b[39mgetattr\u001b[39m(indexer, \u001b[39m\"\u001b[39m\u001b[39mdtype\u001b[39m\u001b[39m\"\u001b[39m, \u001b[39mNone\u001b[39;00m) \u001b[39m==\u001b[39m \u001b[39mbool\u001b[39m:\n",
      "File \u001b[1;32mc:\\Users\\anfam\\anaconda3\\lib\\site-packages\\pandas\\core\\indexes\\base.py:6070\u001b[0m, in \u001b[0;36mIndex._get_indexer_strict\u001b[1;34m(self, key, axis_name)\u001b[0m\n\u001b[0;32m   6067\u001b[0m \u001b[39melse\u001b[39;00m:\n\u001b[0;32m   6068\u001b[0m     keyarr, indexer, new_indexer \u001b[39m=\u001b[39m \u001b[39mself\u001b[39m\u001b[39m.\u001b[39m_reindex_non_unique(keyarr)\n\u001b[1;32m-> 6070\u001b[0m \u001b[39mself\u001b[39;49m\u001b[39m.\u001b[39;49m_raise_if_missing(keyarr, indexer, axis_name)\n\u001b[0;32m   6072\u001b[0m keyarr \u001b[39m=\u001b[39m \u001b[39mself\u001b[39m\u001b[39m.\u001b[39mtake(indexer)\n\u001b[0;32m   6073\u001b[0m \u001b[39mif\u001b[39;00m \u001b[39misinstance\u001b[39m(key, Index):\n\u001b[0;32m   6074\u001b[0m     \u001b[39m# GH 42790 - Preserve name from an Index\u001b[39;00m\n",
      "File \u001b[1;32mc:\\Users\\anfam\\anaconda3\\lib\\site-packages\\pandas\\core\\indexes\\base.py:6130\u001b[0m, in \u001b[0;36mIndex._raise_if_missing\u001b[1;34m(self, key, indexer, axis_name)\u001b[0m\n\u001b[0;32m   6128\u001b[0m     \u001b[39mif\u001b[39;00m use_interval_msg:\n\u001b[0;32m   6129\u001b[0m         key \u001b[39m=\u001b[39m \u001b[39mlist\u001b[39m(key)\n\u001b[1;32m-> 6130\u001b[0m     \u001b[39mraise\u001b[39;00m \u001b[39mKeyError\u001b[39;00m(\u001b[39mf\u001b[39m\u001b[39m\"\u001b[39m\u001b[39mNone of [\u001b[39m\u001b[39m{\u001b[39;00mkey\u001b[39m}\u001b[39;00m\u001b[39m] are in the [\u001b[39m\u001b[39m{\u001b[39;00maxis_name\u001b[39m}\u001b[39;00m\u001b[39m]\u001b[39m\u001b[39m\"\u001b[39m)\n\u001b[0;32m   6132\u001b[0m not_found \u001b[39m=\u001b[39m \u001b[39mlist\u001b[39m(ensure_index(key)[missing_mask\u001b[39m.\u001b[39mnonzero()[\u001b[39m0\u001b[39m]]\u001b[39m.\u001b[39munique())\n\u001b[0;32m   6133\u001b[0m \u001b[39mraise\u001b[39;00m \u001b[39mKeyError\u001b[39;00m(\u001b[39mf\u001b[39m\u001b[39m\"\u001b[39m\u001b[39m{\u001b[39;00mnot_found\u001b[39m}\u001b[39;00m\u001b[39m not in index\u001b[39m\u001b[39m\"\u001b[39m)\n",
      "\u001b[1;31mKeyError\u001b[0m: \"None of [Index(['x0', 'x1', 'x3', 'x4', 'x7', 'x9', 'x15', 'x16', 'x21', 'x22', 'x23',\\n       'x41', 'x70', 'x74', 'x99'],\\n      dtype='object')] are in the [columns]\""
     ]
    }
   ],
   "source": [
    "#keep those columns in X_testscaled that are in X_selected\n",
    "X_testscaled = X_testscaled[X_selected.columns]"
   ]
  },
  {
   "cell_type": "code",
   "execution_count": 78,
   "metadata": {},
   "outputs": [],
   "source": [
    "# Make sure column names are trimmed\n",
    "\n",
    "# Find the common columns\n",
    "common_columns = X_testscaled.columns.intersection(X_selected.columns)\n",
    "\n",
    "# Keep only the common columns in X_testscaled\n",
    "X_testscaled_filtered = X_testscaled[common_columns]\n",
    "\n",
    "# Now X_testscaled_filtered contains only the columns that are in both X_testscaled and X_selected\n"
   ]
  },
  {
   "cell_type": "code",
   "execution_count": 82,
   "metadata": {},
   "outputs": [],
   "source": [
    "common_columns = X_testscaled.columns.intersection(X_selected.columns)\n",
    "X_testscaled = X_testscaled[common_columns]\n"
   ]
  },
  {
   "cell_type": "code",
   "execution_count": 83,
   "metadata": {},
   "outputs": [
    {
     "name": "stdout",
     "output_type": "stream",
     "text": [
      "(77789, 0)\n"
     ]
    }
   ],
   "source": [
    "print(X_testscaled.shape)\n"
   ]
  },
  {
   "cell_type": "code",
   "execution_count": 117,
   "metadata": {},
   "outputs": [],
   "source": [
    "# Get the common column names between X_testselected and X_selected\n",
    "common_columns = X_testscaled.columns.intersection(X_selected.columns)\n",
    "\n",
    "# Keep only the common columns in X_testselected\n",
    "X_testselected = X_testscaled[X_selected.columns.intersection(common_columns)]\n"
   ]
  },
  {
   "cell_type": "code",
   "execution_count": 118,
   "metadata": {},
   "outputs": [
    {
     "name": "stdout",
     "output_type": "stream",
     "text": [
      "(77789, 0)\n"
     ]
    }
   ],
   "source": [
    "print(X_testselected.shape)"
   ]
  },
  {
   "cell_type": "code",
   "execution_count": 71,
   "metadata": {},
   "outputs": [
    {
     "name": "stdout",
     "output_type": "stream",
     "text": [
      "Empty DataFrame\n",
      "Columns: []\n",
      "Index: [0, 1, 2, 3, 4]\n"
     ]
    }
   ],
   "source": [
    "print(X_testscaled_filtered.head())"
   ]
  },
  {
   "cell_type": "code",
   "execution_count": null,
   "metadata": {},
   "outputs": [],
   "source": [
    "from sklearn.preprocessing import MinMaxScaler\n",
    "scaler = MinMaxScaler()\n",
    "X_scaled = scaler.fit_transform(X_selected)\n",
    "test_scaled = scaler.transform(test_onehot)\n",
    "print(test_scaled.shape)"
   ]
  },
  {
   "cell_type": "code",
   "execution_count": null,
   "metadata": {},
   "outputs": [],
   "source": []
  },
  {
   "cell_type": "code",
   "execution_count": null,
   "metadata": {},
   "outputs": [],
   "source": [
    "from sklearn.metrics import mean_squared_error, r2_score"
   ]
  },
  {
   "cell_type": "code",
   "execution_count": null,
   "metadata": {},
   "outputs": [],
   "source": [
    "print(\"Training Set Info:\")\n",
    "print(X.info())\n",
    "\n",
    "print(\"\\nTest Set Info:\")\n",
    "print(test_onehot.info())\n"
   ]
  },
  {
   "cell_type": "code",
   "execution_count": 125,
   "metadata": {},
   "outputs": [
    {
     "name": "stdout",
     "output_type": "stream",
     "text": [
      "(181507, 816)\n",
      "['1' 'x0' 'x1' 'x3' 'x4' 'x7' 'x9' 'x15' 'x16' 'x21' 'x22' 'x23' 'x41'\n",
      " 'x70' 'x74' 'x99' 'x0^2' 'x0 x1' 'x0 x3' 'x0 x4' 'x0 x7' 'x0 x9' 'x0 x15'\n",
      " 'x0 x16' 'x0 x21' 'x0 x22' 'x0 x23' 'x0 x41' 'x0 x70' 'x0 x74' 'x0 x99'\n",
      " 'x1^2' 'x1 x3' 'x1 x4' 'x1 x7' 'x1 x9' 'x1 x15' 'x1 x16' 'x1 x21'\n",
      " 'x1 x22' 'x1 x23' 'x1 x41' 'x1 x70' 'x1 x74' 'x1 x99' 'x3^2' 'x3 x4'\n",
      " 'x3 x7' 'x3 x9' 'x3 x15' 'x3 x16' 'x3 x21' 'x3 x22' 'x3 x23' 'x3 x41'\n",
      " 'x3 x70' 'x3 x74' 'x3 x99' 'x4^2' 'x4 x7' 'x4 x9' 'x4 x15' 'x4 x16'\n",
      " 'x4 x21' 'x4 x22' 'x4 x23' 'x4 x41' 'x4 x70' 'x4 x74' 'x4 x99' 'x7^2'\n",
      " 'x7 x9' 'x7 x15' 'x7 x16' 'x7 x21' 'x7 x22' 'x7 x23' 'x7 x41' 'x7 x70'\n",
      " 'x7 x74' 'x7 x99' 'x9^2' 'x9 x15' 'x9 x16' 'x9 x21' 'x9 x22' 'x9 x23'\n",
      " 'x9 x41' 'x9 x70' 'x9 x74' 'x9 x99' 'x15^2' 'x15 x16' 'x15 x21' 'x15 x22'\n",
      " 'x15 x23' 'x15 x41' 'x15 x70' 'x15 x74' 'x15 x99' 'x16^2' 'x16 x21'\n",
      " 'x16 x22' 'x16 x23' 'x16 x41' 'x16 x70' 'x16 x74' 'x16 x99' 'x21^2'\n",
      " 'x21 x22' 'x21 x23' 'x21 x41' 'x21 x70' 'x21 x74' 'x21 x99' 'x22^2'\n",
      " 'x22 x23' 'x22 x41' 'x22 x70' 'x22 x74' 'x22 x99' 'x23^2' 'x23 x41'\n",
      " 'x23 x70' 'x23 x74' 'x23 x99' 'x41^2' 'x41 x70' 'x41 x74' 'x41 x99'\n",
      " 'x70^2' 'x70 x74' 'x70 x99' 'x74^2' 'x74 x99' 'x99^2' 'x0^3' 'x0^2 x1'\n",
      " 'x0^2 x3' 'x0^2 x4' 'x0^2 x7' 'x0^2 x9' 'x0^2 x15' 'x0^2 x16' 'x0^2 x21'\n",
      " 'x0^2 x22' 'x0^2 x23' 'x0^2 x41' 'x0^2 x70' 'x0^2 x74' 'x0^2 x99'\n",
      " 'x0 x1^2' 'x0 x1 x3' 'x0 x1 x4' 'x0 x1 x7' 'x0 x1 x9' 'x0 x1 x15'\n",
      " 'x0 x1 x16' 'x0 x1 x21' 'x0 x1 x22' 'x0 x1 x23' 'x0 x1 x41' 'x0 x1 x70'\n",
      " 'x0 x1 x74' 'x0 x1 x99' 'x0 x3^2' 'x0 x3 x4' 'x0 x3 x7' 'x0 x3 x9'\n",
      " 'x0 x3 x15' 'x0 x3 x16' 'x0 x3 x21' 'x0 x3 x22' 'x0 x3 x23' 'x0 x3 x41'\n",
      " 'x0 x3 x70' 'x0 x3 x74' 'x0 x3 x99' 'x0 x4^2' 'x0 x4 x7' 'x0 x4 x9'\n",
      " 'x0 x4 x15' 'x0 x4 x16' 'x0 x4 x21' 'x0 x4 x22' 'x0 x4 x23' 'x0 x4 x41'\n",
      " 'x0 x4 x70' 'x0 x4 x74' 'x0 x4 x99' 'x0 x7^2' 'x0 x7 x9' 'x0 x7 x15'\n",
      " 'x0 x7 x16' 'x0 x7 x21' 'x0 x7 x22' 'x0 x7 x23' 'x0 x7 x41' 'x0 x7 x70'\n",
      " 'x0 x7 x74' 'x0 x7 x99' 'x0 x9^2' 'x0 x9 x15' 'x0 x9 x16' 'x0 x9 x21'\n",
      " 'x0 x9 x22' 'x0 x9 x23' 'x0 x9 x41' 'x0 x9 x70' 'x0 x9 x74' 'x0 x9 x99'\n",
      " 'x0 x15^2' 'x0 x15 x16' 'x0 x15 x21' 'x0 x15 x22' 'x0 x15 x23'\n",
      " 'x0 x15 x41' 'x0 x15 x70' 'x0 x15 x74' 'x0 x15 x99' 'x0 x16^2'\n",
      " 'x0 x16 x21' 'x0 x16 x22' 'x0 x16 x23' 'x0 x16 x41' 'x0 x16 x70'\n",
      " 'x0 x16 x74' 'x0 x16 x99' 'x0 x21^2' 'x0 x21 x22' 'x0 x21 x23'\n",
      " 'x0 x21 x41' 'x0 x21 x70' 'x0 x21 x74' 'x0 x21 x99' 'x0 x22^2'\n",
      " 'x0 x22 x23' 'x0 x22 x41' 'x0 x22 x70' 'x0 x22 x74' 'x0 x22 x99'\n",
      " 'x0 x23^2' 'x0 x23 x41' 'x0 x23 x70' 'x0 x23 x74' 'x0 x23 x99' 'x0 x41^2'\n",
      " 'x0 x41 x70' 'x0 x41 x74' 'x0 x41 x99' 'x0 x70^2' 'x0 x70 x74'\n",
      " 'x0 x70 x99' 'x0 x74^2' 'x0 x74 x99' 'x0 x99^2' 'x1^3' 'x1^2 x3'\n",
      " 'x1^2 x4' 'x1^2 x7' 'x1^2 x9' 'x1^2 x15' 'x1^2 x16' 'x1^2 x21' 'x1^2 x22'\n",
      " 'x1^2 x23' 'x1^2 x41' 'x1^2 x70' 'x1^2 x74' 'x1^2 x99' 'x1 x3^2'\n",
      " 'x1 x3 x4' 'x1 x3 x7' 'x1 x3 x9' 'x1 x3 x15' 'x1 x3 x16' 'x1 x3 x21'\n",
      " 'x1 x3 x22' 'x1 x3 x23' 'x1 x3 x41' 'x1 x3 x70' 'x1 x3 x74' 'x1 x3 x99'\n",
      " 'x1 x4^2' 'x1 x4 x7' 'x1 x4 x9' 'x1 x4 x15' 'x1 x4 x16' 'x1 x4 x21'\n",
      " 'x1 x4 x22' 'x1 x4 x23' 'x1 x4 x41' 'x1 x4 x70' 'x1 x4 x74' 'x1 x4 x99'\n",
      " 'x1 x7^2' 'x1 x7 x9' 'x1 x7 x15' 'x1 x7 x16' 'x1 x7 x21' 'x1 x7 x22'\n",
      " 'x1 x7 x23' 'x1 x7 x41' 'x1 x7 x70' 'x1 x7 x74' 'x1 x7 x99' 'x1 x9^2'\n",
      " 'x1 x9 x15' 'x1 x9 x16' 'x1 x9 x21' 'x1 x9 x22' 'x1 x9 x23' 'x1 x9 x41'\n",
      " 'x1 x9 x70' 'x1 x9 x74' 'x1 x9 x99' 'x1 x15^2' 'x1 x15 x16' 'x1 x15 x21'\n",
      " 'x1 x15 x22' 'x1 x15 x23' 'x1 x15 x41' 'x1 x15 x70' 'x1 x15 x74'\n",
      " 'x1 x15 x99' 'x1 x16^2' 'x1 x16 x21' 'x1 x16 x22' 'x1 x16 x23'\n",
      " 'x1 x16 x41' 'x1 x16 x70' 'x1 x16 x74' 'x1 x16 x99' 'x1 x21^2'\n",
      " 'x1 x21 x22' 'x1 x21 x23' 'x1 x21 x41' 'x1 x21 x70' 'x1 x21 x74'\n",
      " 'x1 x21 x99' 'x1 x22^2' 'x1 x22 x23' 'x1 x22 x41' 'x1 x22 x70'\n",
      " 'x1 x22 x74' 'x1 x22 x99' 'x1 x23^2' 'x1 x23 x41' 'x1 x23 x70'\n",
      " 'x1 x23 x74' 'x1 x23 x99' 'x1 x41^2' 'x1 x41 x70' 'x1 x41 x74'\n",
      " 'x1 x41 x99' 'x1 x70^2' 'x1 x70 x74' 'x1 x70 x99' 'x1 x74^2' 'x1 x74 x99'\n",
      " 'x1 x99^2' 'x3^3' 'x3^2 x4' 'x3^2 x7' 'x3^2 x9' 'x3^2 x15' 'x3^2 x16'\n",
      " 'x3^2 x21' 'x3^2 x22' 'x3^2 x23' 'x3^2 x41' 'x3^2 x70' 'x3^2 x74'\n",
      " 'x3^2 x99' 'x3 x4^2' 'x3 x4 x7' 'x3 x4 x9' 'x3 x4 x15' 'x3 x4 x16'\n",
      " 'x3 x4 x21' 'x3 x4 x22' 'x3 x4 x23' 'x3 x4 x41' 'x3 x4 x70' 'x3 x4 x74'\n",
      " 'x3 x4 x99' 'x3 x7^2' 'x3 x7 x9' 'x3 x7 x15' 'x3 x7 x16' 'x3 x7 x21'\n",
      " 'x3 x7 x22' 'x3 x7 x23' 'x3 x7 x41' 'x3 x7 x70' 'x3 x7 x74' 'x3 x7 x99'\n",
      " 'x3 x9^2' 'x3 x9 x15' 'x3 x9 x16' 'x3 x9 x21' 'x3 x9 x22' 'x3 x9 x23'\n",
      " 'x3 x9 x41' 'x3 x9 x70' 'x3 x9 x74' 'x3 x9 x99' 'x3 x15^2' 'x3 x15 x16'\n",
      " 'x3 x15 x21' 'x3 x15 x22' 'x3 x15 x23' 'x3 x15 x41' 'x3 x15 x70'\n",
      " 'x3 x15 x74' 'x3 x15 x99' 'x3 x16^2' 'x3 x16 x21' 'x3 x16 x22'\n",
      " 'x3 x16 x23' 'x3 x16 x41' 'x3 x16 x70' 'x3 x16 x74' 'x3 x16 x99'\n",
      " 'x3 x21^2' 'x3 x21 x22' 'x3 x21 x23' 'x3 x21 x41' 'x3 x21 x70'\n",
      " 'x3 x21 x74' 'x3 x21 x99' 'x3 x22^2' 'x3 x22 x23' 'x3 x22 x41'\n",
      " 'x3 x22 x70' 'x3 x22 x74' 'x3 x22 x99' 'x3 x23^2' 'x3 x23 x41'\n",
      " 'x3 x23 x70' 'x3 x23 x74' 'x3 x23 x99' 'x3 x41^2' 'x3 x41 x70'\n",
      " 'x3 x41 x74' 'x3 x41 x99' 'x3 x70^2' 'x3 x70 x74' 'x3 x70 x99' 'x3 x74^2'\n",
      " 'x3 x74 x99' 'x3 x99^2' 'x4^3' 'x4^2 x7' 'x4^2 x9' 'x4^2 x15' 'x4^2 x16'\n",
      " 'x4^2 x21' 'x4^2 x22' 'x4^2 x23' 'x4^2 x41' 'x4^2 x70' 'x4^2 x74'\n",
      " 'x4^2 x99' 'x4 x7^2' 'x4 x7 x9' 'x4 x7 x15' 'x4 x7 x16' 'x4 x7 x21'\n",
      " 'x4 x7 x22' 'x4 x7 x23' 'x4 x7 x41' 'x4 x7 x70' 'x4 x7 x74' 'x4 x7 x99'\n",
      " 'x4 x9^2' 'x4 x9 x15' 'x4 x9 x16' 'x4 x9 x21' 'x4 x9 x22' 'x4 x9 x23'\n",
      " 'x4 x9 x41' 'x4 x9 x70' 'x4 x9 x74' 'x4 x9 x99' 'x4 x15^2' 'x4 x15 x16'\n",
      " 'x4 x15 x21' 'x4 x15 x22' 'x4 x15 x23' 'x4 x15 x41' 'x4 x15 x70'\n",
      " 'x4 x15 x74' 'x4 x15 x99' 'x4 x16^2' 'x4 x16 x21' 'x4 x16 x22'\n",
      " 'x4 x16 x23' 'x4 x16 x41' 'x4 x16 x70' 'x4 x16 x74' 'x4 x16 x99'\n",
      " 'x4 x21^2' 'x4 x21 x22' 'x4 x21 x23' 'x4 x21 x41' 'x4 x21 x70'\n",
      " 'x4 x21 x74' 'x4 x21 x99' 'x4 x22^2' 'x4 x22 x23' 'x4 x22 x41'\n",
      " 'x4 x22 x70' 'x4 x22 x74' 'x4 x22 x99' 'x4 x23^2' 'x4 x23 x41'\n",
      " 'x4 x23 x70' 'x4 x23 x74' 'x4 x23 x99' 'x4 x41^2' 'x4 x41 x70'\n",
      " 'x4 x41 x74' 'x4 x41 x99' 'x4 x70^2' 'x4 x70 x74' 'x4 x70 x99' 'x4 x74^2'\n",
      " 'x4 x74 x99' 'x4 x99^2' 'x7^3' 'x7^2 x9' 'x7^2 x15' 'x7^2 x16' 'x7^2 x21'\n",
      " 'x7^2 x22' 'x7^2 x23' 'x7^2 x41' 'x7^2 x70' 'x7^2 x74' 'x7^2 x99'\n",
      " 'x7 x9^2' 'x7 x9 x15' 'x7 x9 x16' 'x7 x9 x21' 'x7 x9 x22' 'x7 x9 x23'\n",
      " 'x7 x9 x41' 'x7 x9 x70' 'x7 x9 x74' 'x7 x9 x99' 'x7 x15^2' 'x7 x15 x16'\n",
      " 'x7 x15 x21' 'x7 x15 x22' 'x7 x15 x23' 'x7 x15 x41' 'x7 x15 x70'\n",
      " 'x7 x15 x74' 'x7 x15 x99' 'x7 x16^2' 'x7 x16 x21' 'x7 x16 x22'\n",
      " 'x7 x16 x23' 'x7 x16 x41' 'x7 x16 x70' 'x7 x16 x74' 'x7 x16 x99'\n",
      " 'x7 x21^2' 'x7 x21 x22' 'x7 x21 x23' 'x7 x21 x41' 'x7 x21 x70'\n",
      " 'x7 x21 x74' 'x7 x21 x99' 'x7 x22^2' 'x7 x22 x23' 'x7 x22 x41'\n",
      " 'x7 x22 x70' 'x7 x22 x74' 'x7 x22 x99' 'x7 x23^2' 'x7 x23 x41'\n",
      " 'x7 x23 x70' 'x7 x23 x74' 'x7 x23 x99' 'x7 x41^2' 'x7 x41 x70'\n",
      " 'x7 x41 x74' 'x7 x41 x99' 'x7 x70^2' 'x7 x70 x74' 'x7 x70 x99' 'x7 x74^2'\n",
      " 'x7 x74 x99' 'x7 x99^2' 'x9^3' 'x9^2 x15' 'x9^2 x16' 'x9^2 x21'\n",
      " 'x9^2 x22' 'x9^2 x23' 'x9^2 x41' 'x9^2 x70' 'x9^2 x74' 'x9^2 x99'\n",
      " 'x9 x15^2' 'x9 x15 x16' 'x9 x15 x21' 'x9 x15 x22' 'x9 x15 x23'\n",
      " 'x9 x15 x41' 'x9 x15 x70' 'x9 x15 x74' 'x9 x15 x99' 'x9 x16^2'\n",
      " 'x9 x16 x21' 'x9 x16 x22' 'x9 x16 x23' 'x9 x16 x41' 'x9 x16 x70'\n",
      " 'x9 x16 x74' 'x9 x16 x99' 'x9 x21^2' 'x9 x21 x22' 'x9 x21 x23'\n",
      " 'x9 x21 x41' 'x9 x21 x70' 'x9 x21 x74' 'x9 x21 x99' 'x9 x22^2'\n",
      " 'x9 x22 x23' 'x9 x22 x41' 'x9 x22 x70' 'x9 x22 x74' 'x9 x22 x99'\n",
      " 'x9 x23^2' 'x9 x23 x41' 'x9 x23 x70' 'x9 x23 x74' 'x9 x23 x99' 'x9 x41^2'\n",
      " 'x9 x41 x70' 'x9 x41 x74' 'x9 x41 x99' 'x9 x70^2' 'x9 x70 x74'\n",
      " 'x9 x70 x99' 'x9 x74^2' 'x9 x74 x99' 'x9 x99^2' 'x15^3' 'x15^2 x16'\n",
      " 'x15^2 x21' 'x15^2 x22' 'x15^2 x23' 'x15^2 x41' 'x15^2 x70' 'x15^2 x74'\n",
      " 'x15^2 x99' 'x15 x16^2' 'x15 x16 x21' 'x15 x16 x22' 'x15 x16 x23'\n",
      " 'x15 x16 x41' 'x15 x16 x70' 'x15 x16 x74' 'x15 x16 x99' 'x15 x21^2'\n",
      " 'x15 x21 x22' 'x15 x21 x23' 'x15 x21 x41' 'x15 x21 x70' 'x15 x21 x74'\n",
      " 'x15 x21 x99' 'x15 x22^2' 'x15 x22 x23' 'x15 x22 x41' 'x15 x22 x70'\n",
      " 'x15 x22 x74' 'x15 x22 x99' 'x15 x23^2' 'x15 x23 x41' 'x15 x23 x70'\n",
      " 'x15 x23 x74' 'x15 x23 x99' 'x15 x41^2' 'x15 x41 x70' 'x15 x41 x74'\n",
      " 'x15 x41 x99' 'x15 x70^2' 'x15 x70 x74' 'x15 x70 x99' 'x15 x74^2'\n",
      " 'x15 x74 x99' 'x15 x99^2' 'x16^3' 'x16^2 x21' 'x16^2 x22' 'x16^2 x23'\n",
      " 'x16^2 x41' 'x16^2 x70' 'x16^2 x74' 'x16^2 x99' 'x16 x21^2' 'x16 x21 x22'\n",
      " 'x16 x21 x23' 'x16 x21 x41' 'x16 x21 x70' 'x16 x21 x74' 'x16 x21 x99'\n",
      " 'x16 x22^2' 'x16 x22 x23' 'x16 x22 x41' 'x16 x22 x70' 'x16 x22 x74'\n",
      " 'x16 x22 x99' 'x16 x23^2' 'x16 x23 x41' 'x16 x23 x70' 'x16 x23 x74'\n",
      " 'x16 x23 x99' 'x16 x41^2' 'x16 x41 x70' 'x16 x41 x74' 'x16 x41 x99'\n",
      " 'x16 x70^2' 'x16 x70 x74' 'x16 x70 x99' 'x16 x74^2' 'x16 x74 x99'\n",
      " 'x16 x99^2' 'x21^3' 'x21^2 x22' 'x21^2 x23' 'x21^2 x41' 'x21^2 x70'\n",
      " 'x21^2 x74' 'x21^2 x99' 'x21 x22^2' 'x21 x22 x23' 'x21 x22 x41'\n",
      " 'x21 x22 x70' 'x21 x22 x74' 'x21 x22 x99' 'x21 x23^2' 'x21 x23 x41'\n",
      " 'x21 x23 x70' 'x21 x23 x74' 'x21 x23 x99' 'x21 x41^2' 'x21 x41 x70'\n",
      " 'x21 x41 x74' 'x21 x41 x99' 'x21 x70^2' 'x21 x70 x74' 'x21 x70 x99'\n",
      " 'x21 x74^2' 'x21 x74 x99' 'x21 x99^2' 'x22^3' 'x22^2 x23' 'x22^2 x41'\n",
      " 'x22^2 x70' 'x22^2 x74' 'x22^2 x99' 'x22 x23^2' 'x22 x23 x41'\n",
      " 'x22 x23 x70' 'x22 x23 x74' 'x22 x23 x99' 'x22 x41^2' 'x22 x41 x70'\n",
      " 'x22 x41 x74' 'x22 x41 x99' 'x22 x70^2' 'x22 x70 x74' 'x22 x70 x99'\n",
      " 'x22 x74^2' 'x22 x74 x99' 'x22 x99^2' 'x23^3' 'x23^2 x41' 'x23^2 x70'\n",
      " 'x23^2 x74' 'x23^2 x99' 'x23 x41^2' 'x23 x41 x70' 'x23 x41 x74'\n",
      " 'x23 x41 x99' 'x23 x70^2' 'x23 x70 x74' 'x23 x70 x99' 'x23 x74^2'\n",
      " 'x23 x74 x99' 'x23 x99^2' 'x41^3' 'x41^2 x70' 'x41^2 x74' 'x41^2 x99'\n",
      " 'x41 x70^2' 'x41 x70 x74' 'x41 x70 x99' 'x41 x74^2' 'x41 x74 x99'\n",
      " 'x41 x99^2' 'x70^3' 'x70^2 x74' 'x70^2 x99' 'x70 x74^2' 'x70 x74 x99'\n",
      " 'x70 x99^2' 'x74^3' 'x74^2 x99' 'x74 x99^2' 'x99^3']\n",
      "0.6481868827782782\n",
      "[[ 3.62166570e-07  6.82914739e+05 -4.57465245e+05  2.60375460e+05\n",
      "   1.34430522e+05  7.60079208e+04  3.86322769e+05 -5.21315259e+05\n",
      "  -6.63742406e+05  1.59949360e+02  1.66194304e+05  1.51674332e+05\n",
      "  -2.36967252e+05 -3.75702704e+05 -1.53824444e+05 -2.75162807e+04\n",
      "  -4.38674817e+03  5.01276121e+03  1.55158407e+03  1.71008538e+03\n",
      "  -2.64082922e+03  1.92562550e+03  6.61563077e+03  1.74196867e+03\n",
      "   3.18912581e+03  2.71458311e+03  6.07270171e+03  6.31393478e+03\n",
      "   1.22296005e+04 -3.18198753e+03 -6.12842367e+02 -2.47508179e+03\n",
      "  -1.64720411e+03 -1.74670211e+03 -5.46074681e+03 -1.84146086e+03\n",
      "   3.68757512e+03  1.04109203e+04 -4.63904071e+03  7.29244257e+03\n",
      "  -1.21665683e+04 -1.46661580e+04 -2.35842859e+04 -1.09677704e+04\n",
      "   9.99419397e+03 -2.08418629e+04 -8.08368949e+03 -5.14680173e+03\n",
      "   4.79238244e+03  2.53088927e+03  8.01880604e+02  4.68036957e+04\n",
      "   2.38935858e+03 -2.06766921e+04  2.31073911e+04 -8.98457698e+03\n",
      "   2.01480212e+04 -3.07959612e+04 -9.72661148e+02 -9.12613077e+03\n",
      "   6.55852355e+03  4.54731501e+04 -6.07433075e+03 -1.11270835e+04\n",
      "  -3.50973223e+04 -5.80870816e+02 -3.93021297e+04 -5.88124349e+04\n",
      "   1.66999234e+04  6.52286903e+04 -1.79930648e+04 -3.05432182e+04\n",
      "   6.44185471e+03 -3.70113337e+04  5.70816425e+04  1.40391532e+04\n",
      "  -1.48158732e+04 -7.16292304e+04 -1.17049968e+04  9.53292484e+04\n",
      "   8.92555214e+03 -2.07564692e+04 -1.49273893e+03  4.97286019e+04\n",
      "   2.11677354e+04 -2.95040398e+04  1.50274420e+04 -3.48708204e+04\n",
      "   1.30232555e+05  7.77685029e+04  4.46746903e+04  2.09129635e+04\n",
      "   3.24910113e+04 -1.30323464e+04 -1.47552842e+04  3.36722102e+04\n",
      "  -2.56087471e+03  5.18341794e+04  2.09399665e+05  9.15228043e+04\n",
      "  -1.00931386e+05  4.00176668e+04  1.89499173e+04 -1.14115189e+05\n",
      "  -2.86750179e+05  4.52989794e+04  4.54691393e+04  3.83681655e+04\n",
      "  -3.72436215e+04  1.93305827e+04  6.64231122e+04  1.33711749e+05\n",
      "   1.45472982e+05 -6.26342752e+04 -8.78095431e+03  2.57123568e+04\n",
      "  -4.51066298e+04  2.40664780e+04 -1.57425119e+05  1.17757420e+05\n",
      "  -1.08551122e+05 -1.77844421e+04  5.51524831e+04 -6.72331241e+04\n",
      "   1.21526570e+05  1.01589796e+05 -7.77043822e+04 -2.05519777e+04\n",
      "  -6.75738714e+03  1.10788128e+05 -1.20549627e+05 -6.37388774e+04\n",
      "  -1.57221332e+04  1.21073278e+05  1.00796397e+05 -1.06485151e+05\n",
      "   5.31378391e+00 -6.09246659e+00 -3.93552145e+01 -2.50762851e+01\n",
      "   1.48155196e+01 -3.66506172e+01 -1.79321331e+01  6.50710771e+00\n",
      "  -2.37286093e+01 -1.72608842e+01 -4.90014063e+01 -1.96973934e+01\n",
      "  -7.74685771e+01  2.83285518e+01  1.85499743e+01  1.08768701e+01\n",
      "   5.75900397e+01  4.30161551e+01  3.65257589e+01  3.98319157e+01\n",
      "  -3.75526248e+01 -8.22379634e+01  5.34253438e+01 -5.13002006e+01\n",
      "   1.22310180e+02  9.52105972e+01  2.17202006e+02  8.20070752e+01\n",
      "  -8.98333670e+01  1.05407748e+02 -1.24662724e+01  4.69283857e+01\n",
      "  -1.37358481e+02 -1.05958328e+01  2.68400309e+01 -3.87719412e+02\n",
      "   1.32335014e+01  9.30979654e+01 -1.40454103e+02 -1.16340553e+01\n",
      "  -1.67775258e+02  2.79267203e+02  7.67080131e+01  7.17114427e+01\n",
      "  -5.50814916e+01 -3.64521717e+02  6.63604231e+01  1.17151321e+02\n",
      "   1.81382273e+02  3.15568499e+01  3.21065555e+02  4.40925095e+02\n",
      "   8.75691181e+01 -7.99579715e+02  1.56018544e+02  2.26761806e+02\n",
      "  -3.26783509e+01  2.75567138e+02 -4.52665274e+02 -1.09561446e+02\n",
      "   6.13020035e+01  4.91213243e+02  1.67780494e+02 -7.09116599e+02\n",
      "   2.18581218e+01  1.19481032e+02  9.70313762e+01 -3.88762403e+02\n",
      "  -6.92887895e+01  2.97377984e+02 -1.14180790e+02  3.28340167e+02\n",
      "  -9.51825902e+02 -4.72221875e+02 -3.10653469e+02 -1.16197731e+02\n",
      "  -2.25699360e+02  1.73288690e+02  1.14598330e+02 -3.10044267e+02\n",
      "   3.56422275e+01 -3.36706752e+02 -1.55660176e+03 -5.13109890e+02\n",
      "   7.11192856e+02 -3.63335308e+02 -1.44201713e+02  9.56095388e+02\n",
      "   2.15865228e+03 -2.78198483e+02 -3.48020731e+02 -2.18872236e+02\n",
      "   3.12035617e+02 -1.84911935e+02 -4.75566513e+02 -1.00369131e+03\n",
      "  -1.08358799e+03  4.86929868e+02 -1.20044791e+02 -1.31813292e+02\n",
      "   3.95394729e+02 -2.15006146e+02  1.32725885e+03 -9.98276673e+02\n",
      "   6.85531316e+02  1.93746312e+02 -3.85421424e+02  5.82865483e+02\n",
      "  -8.22076066e+02 -8.67360268e+02  4.63079345e+02  1.15921178e+02\n",
      "   2.10473350e+02 -8.62838624e+02  1.01709008e+03  5.01126707e+02\n",
      "  -2.81880151e+00 -9.87715989e+02 -7.38744924e+02  9.19665166e+02\n",
      "  -3.50368983e+00 -1.55769129e+01 -5.22489851e+01 -3.20677081e+01\n",
      "  -3.02783705e+01  4.69214557e+01  5.37207334e+01 -1.78682044e+01\n",
      "   2.42422465e+01 -7.03427720e+01 -3.94480784e+01 -1.11598391e+02\n",
      "  -5.18158238e+01  5.51341039e+01 -7.21399937e+01  1.22289183e+02\n",
      "   4.14626404e+01  5.95748261e+01 -1.44332678e+02 -1.23665480e+02\n",
      "   2.99820503e+02 -2.73524127e+01  6.02355493e+01  2.05813864e+02\n",
      "   1.76236896e+02  2.48650690e+02 -3.06653685e+02 -1.07203165e+02\n",
      "  -1.12069410e+02  1.29018851e+02  4.30817909e+02 -2.88854229e+02\n",
      "   1.18626337e+02 -4.95744009e+01  5.68809721e+01 -2.87840246e+02\n",
      "   3.25123681e+02 -3.25026458e+01  1.70283208e+02 -1.13746568e+02\n",
      "  -6.98080292e+01 -6.02665400e+01 -1.12000241e+02  1.79032533e+02\n",
      "   1.32994361e+01 -1.04651058e+02 -4.56007938e+02 -2.35776952e+02\n",
      "   5.52033978e+02  2.00636371e+02  6.72115925e+00 -1.86018467e+00\n",
      "   2.43114234e+02  1.67765052e+02 -2.67698202e+02  2.66182020e+02\n",
      "  -9.03645109e+00  8.46739327e+02  4.52933358e+02  1.06525602e+02\n",
      "   1.88309214e+02  9.86954780e+00  5.04687774e+01  1.02974825e+02\n",
      "   1.76848128e+02 -1.65583879e+02  3.27621631e+02  9.69687625e+02\n",
      "   6.66677435e+02 -2.32787334e+02  1.18377513e+02  8.29088039e+01\n",
      "  -5.88944331e+02 -1.33705965e+03  4.09593671e+02  5.12585567e+00\n",
      "  -1.54766023e+02 -1.81003021e+02  1.72179865e+02  2.13200420e+02\n",
      "   6.29819342e+02  8.76478996e+02 -3.38096652e+02 -3.66678829e+02\n",
      "   3.69384290e+01 -3.79131351e+02  2.98228507e+02 -7.90050103e+01\n",
      "   3.51956266e+02 -1.25884257e+03 -2.00022181e+01  7.30925419e+02\n",
      "  -1.66449477e+02  2.97614585e+02  2.11508943e+02 -1.06477858e+02\n",
      "  -2.64817279e+02 -6.55913512e+01  7.94029687e+02 -5.68672026e+02\n",
      "  -5.49202573e+02 -1.70423462e+02  3.61188963e+02  6.82192402e+02\n",
      "   2.87296172e+02  1.59035789e+02  3.29205439e+02  1.83730817e+01\n",
      "  -5.01390900e+01  1.84449193e+02  1.54275470e+02 -6.66375484e+02\n",
      "  -1.28756298e+02  8.20244142e+01 -4.76818108e+02  1.00819065e+02\n",
      "  -3.51396031e+02  6.11892247e+02  5.21510906e+01  1.31872372e+02\n",
      "  -1.19048336e+02 -7.72717635e+02 -1.60231224e+02  2.96205464e+02\n",
      "  -2.43157544e+02  3.76355494e+02  8.67224535e+02  2.74717181e+02\n",
      "   2.88934120e+02 -1.25331051e+03  2.58888888e+02  2.84833765e+02\n",
      "  -3.25889312e+02  4.07113539e+02 -9.10247564e+02 -6.86308079e+00\n",
      "   1.38266827e+02  1.43633345e+03 -2.98543512e+02 -1.00741235e+03\n",
      "  -8.00689354e+02  5.21290913e+02 -6.07286067e+02 -9.56212051e+02\n",
      "  -7.54302865e+00  7.01526151e+02 -2.70403964e+02  1.70329723e+03\n",
      "  -2.48396892e+03 -9.70904375e+02  1.58045507e+03 -2.87542827e+02\n",
      "  -5.01478815e+02 -2.74770285e+01  2.94915634e+02 -1.03699676e+03\n",
      "   2.98935679e+02 -1.78579484e+03 -2.48000825e+03  1.01005436e+03\n",
      "   6.87259134e+02 -1.26049890e+03 -5.37841067e+02  1.12434658e+03\n",
      "   3.42893973e+03 -3.30483970e+02 -2.61022770e+02 -8.69640228e+02\n",
      "   5.37183732e+02 -1.07843077e+03 -8.53429227e+02 -1.33371622e+03\n",
      "  -1.79314249e+03 -5.79011911e+02 -1.76079518e+03 -2.81731020e+02\n",
      "  -4.34856157e+02 -1.31173524e+03 -3.01198936e+01 -1.48945378e+03\n",
      "   2.61252274e+03  4.99843811e+02 -1.27082289e+03  4.44603478e+01\n",
      "  -1.88127401e+03  4.75652180e+02  8.71896514e+02  9.52940257e+02\n",
      "   4.72757065e+02 -4.84039599e+02  1.97244665e+03  3.52479887e+02\n",
      "   1.60458870e+02 -8.10588320e+01 -1.39489872e+03 -1.03255732e+03\n",
      "  -2.82431065e+02 -3.96369401e+02 -8.90239179e+02 -1.92784413e+02\n",
      "   1.34218039e+03 -1.50992136e+02  1.18468446e+03  6.61933037e+02\n",
      "  -1.76667078e+03  1.79876714e+03  1.67021837e+02 -1.74020161e+03\n",
      "   3.02955101e+02  6.39653417e+02 -2.13282011e+02 -2.35692442e+02\n",
      "   1.44253980e+02  4.35289123e+02 -1.10555773e+02  1.22663015e+02\n",
      "  -2.35329872e+02 -8.79376281e+02  2.39744580e+03 -7.38244014e+01\n",
      "  -1.29333413e+03  1.21071940e+03 -7.50961650e+02 -9.31878413e+02\n",
      "  -1.55233485e+03 -1.17387902e+03  3.91337454e+02 -3.27534166e+03\n",
      "  -1.77300569e+03 -7.80500397e+02 -1.58801539e+02 -1.17054359e+03\n",
      "   1.62304235e+02  1.53705964e+03 -1.65983916e+03  2.49674355e+03\n",
      "  -1.06613442e+03 -3.57070847e+03  1.11419413e+03  1.65751081e+03\n",
      "   9.47252721e+02  9.48730226e+01  1.11201438e+03 -1.87726431e+03\n",
      "  -1.56291810e+03 -2.40368628e+03 -4.58590366e+02 -4.87522886e+02\n",
      "  -2.51538079e+03 -7.54234958e+01 -1.42164395e+03  4.88702377e+03\n",
      "   5.61950976e+03 -6.83555571e+02  4.82908624e+02  1.50828581e+03\n",
      "   7.81253846e+02 -5.99148963e+02 -6.19731389e+03 -1.88762218e+03\n",
      "   4.86024276e+02 -2.64306040e+01  2.51093423e+02 -6.10056149e+03\n",
      "   6.63058630e+02 -4.00571893e+03 -2.75774742e+03  4.87564150e+03\n",
      "  -1.08599442e+03  2.86184347e+03 -5.02122879e+03 -1.10076507e+03\n",
      "   4.57781628e+02  8.70423771e+03  7.03511171e+01  4.15831820e+00\n",
      "   6.13290835e+02  1.23452792e+02  4.76133881e+02 -2.22837489e+02\n",
      "   5.39102939e+02 -8.23583075e+02  2.59446739e+02 -7.62535594e+02\n",
      "  -5.92005827e+02 -5.45835052e+02  1.63716249e+03  4.41616480e+02\n",
      "  -1.96346704e+02 -1.07304210e+03  8.13866257e+02 -1.88648011e+03\n",
      "   6.81808204e+02  4.59393392e+02 -5.84386343e+02  8.99724947e+01\n",
      "   2.97991291e+02  1.04418375e+03 -4.16536419e+02 -4.66075256e+02\n",
      "  -6.51772613e+02  4.48074073e+02  5.01334972e+02  6.08843282e+02\n",
      "   7.57857311e+02 -1.02463081e+02  6.68470612e+02  3.88197470e+02\n",
      "  -8.51472178e+02  1.46057728e+03  7.52565944e+02  4.18373731e+03\n",
      "   1.39728389e+02  2.11162114e+03  1.57880179e+03  1.29567337e+03\n",
      "   9.71754426e+02  2.48125174e+02  1.47971630e+03  8.77520082e+02\n",
      "   1.20648373e+03 -1.62705610e+02  1.99091311e+03  1.06338871e+03\n",
      "   4.76728394e+02  1.17162913e+03  1.64844058e+03 -8.07101487e+02\n",
      "   1.45599472e+02  1.71514102e+03  3.40954713e+02 -1.98604000e+03\n",
      "   2.17848427e+03 -2.92200746e+03 -7.34140505e+02 -6.36408889e+02\n",
      "  -8.92444611e+02 -1.19350286e+03 -9.48817660e+02  3.18295920e+03\n",
      "  -2.77960337e+02  1.58328600e+03  4.03685088e+02  1.32814559e+02\n",
      "  -1.82591614e+03  6.14858909e+02 -1.57056520e+03  7.77732497e+02\n",
      "   1.33952775e+03 -2.80473610e+02 -5.84069449e+01 -2.89460717e+02\n",
      "   2.66088175e+03 -2.17909646e+02 -7.47014527e+02  1.09520935e+03\n",
      "   6.00403702e+02  1.13502051e+02  2.51266404e+03  1.60705472e+03\n",
      "   1.05170053e+02  4.34612861e+02  7.37796607e+02  5.82637941e+02\n",
      "  -7.78027468e+02  2.06849275e+03  4.11933373e+03  3.21123215e+02\n",
      "   1.70592784e+03  1.88079238e+03 -1.75541333e+03  9.91897123e+02\n",
      "   1.11495966e+03  4.35136100e+03 -1.29670555e+03  1.95553686e+03\n",
      "   1.95660094e+03  4.45031223e+03 -1.40664396e+03  2.55826994e+03\n",
      "   1.39911499e+02  5.76154434e+02  1.76987812e+03 -2.77749145e+03\n",
      "   8.34921823e+02  1.73195551e+03  6.98295253e+02 -1.58242103e+03\n",
      "  -4.03770571e+03 -8.50755748e+02  1.03611237e+03  6.72037511e+03\n",
      "  -2.17188773e+02 -5.02703146e+03  9.37444785e+02 -7.24932293e+01\n",
      "   3.96681051e+02  6.99219963e+00  7.37436824e+02 -1.37032912e+03\n",
      "   5.28190222e+02 -1.17252613e+02 -5.18372195e+01  1.42419939e+03\n",
      "  -6.25607884e+02  1.70132632e+03 -9.07563741e+02  8.80823957e+01\n",
      "   4.40377336e+02  1.86264034e+03  4.36901510e+02 -2.42225677e+03\n",
      "   7.50671449e+02 -1.95503846e+03 -3.70626118e+02  1.46614029e+02\n",
      "  -1.16391483e+03  1.75892128e+03 -6.41536762e+02 -1.22394450e+03\n",
      "  -3.65659464e+03  3.60950249e+03 -2.20994980e+03  1.70980166e+03\n",
      "   2.60128910e+03 -1.36079500e+03 -1.03775623e+03 -1.00218856e+02\n",
      "  -1.84720986e+03 -4.06760058e+03 -1.85349912e+03 -1.07096306e+03\n",
      "  -2.36683919e+03  4.61587124e+03 -1.08672811e+03 -4.23271707e+03\n",
      "   3.26675312e+03 -2.11176290e+03 -7.77211604e+03 -2.36392739e+03\n",
      "   1.98363207e+03 -2.81756165e+02 -9.03070197e+01  2.53059794e+02\n",
      "  -2.00445525e+03  2.26400958e+03 -1.92574291e+03 -6.11324076e+02\n",
      "  -7.53283791e+02  1.03612329e+03 -9.80455550e+01 -1.02387223e+02\n",
      "  -5.52614793e+02  7.15513266e+02 -8.08389020e+02  1.62840039e+03\n",
      "   1.86391846e+03 -4.35634082e+03  1.71490759e+03  6.51790360e+02\n",
      "   2.83807684e+03  2.48888009e+03 -2.26653480e+03  3.65291181e+02\n",
      "   4.81854469e+02  2.19536839e+03  1.36645176e+03  1.04060452e+03\n",
      "   1.41529493e+03 -4.47310101e+03  1.05260131e+02 -4.28581343e+03\n",
      "  -2.13945163e+03 -2.19678917e+03  1.61928050e+03 -2.57020354e+03\n",
      "   5.00773825e+02  1.97567209e+03 -1.09586412e+03 -1.82824819e+01\n",
      "   5.23519207e+02  1.73979188e+03  1.99147165e+02 -1.02509047e+03\n",
      "   1.43972275e+03 -4.44516890e+03  8.27941906e+02 -2.26648201e+03\n",
      "  -3.59895763e+03 -8.83157013e+02  2.63150373e+03  2.93814843e+03\n",
      "  -1.67972711e+03  7.94980163e+02 -6.41943317e+02 -2.54076119e+03\n",
      "  -1.56482863e+03  4.90407262e+03 -5.70148208e+02 -3.67242159e+03\n",
      "   2.88709911e+03 -5.01333623e+02  1.21234214e+03  5.18414668e+03\n",
      "  -6.14173358e+02 -7.30244350e+02 -1.46564444e+03 -2.12331193e+03\n",
      "   1.22158058e+03  1.46247723e+02  6.05349671e+02 -3.89827850e+03\n",
      "  -8.01156851e+02  2.28720961e+03  4.80478351e+03  5.26366056e+01\n",
      "  -2.65956514e+02 -2.49125735e+03  4.77573383e+03 -1.44182004e+03\n",
      "  -4.09719631e+03 -4.29940876e+03 -5.34415619e+02 -5.62618823e+02\n",
      "  -5.77745302e+03  7.64852705e+02 -2.17596774e+03 -1.46512488e+03\n",
      "  -1.42755245e+02  2.82403516e+03 -4.58162608e+03  1.59275641e+03\n",
      "   2.31263486e+03  1.40225141e+03  1.62719066e+03 -8.14923596e+03\n",
      "   3.29018787e+03 -6.74702664e+02  2.16064600e+03  4.54743229e+03\n",
      "   5.28256146e+01 -1.72107635e+03 -1.05793417e+03  3.39547689e+03\n",
      "   2.51997697e+03 -1.31676390e+03  8.08813281e+03  2.79923265e+03\n",
      "   7.13454281e+03 -8.12926974e+03  2.32511222e+03  3.54437609e+02\n",
      "  -4.54692214e+02 -4.43003586e+03  2.95076968e+03 -5.55634209e+03\n",
      "   1.44126870e+03  4.36169389e+03  2.50713104e+03 -1.35357872e+04]]\n",
      "[28893465.75854945]\n"
     ]
    }
   ],
   "source": [
    "poly = PolynomialFeatures(3, interaction_only=True)\n",
    "X2 = poly.fit_transform(X_selected)\n",
    "test2 = poly.fit_transform(X_testselected)\n",
    "print(X2.shape)\n",
    "print(poly.get_feature_names_out())\n",
    "reg2 = LinearRegression().fit(X2, y)\n",
    "print(reg2.score(X2, y))\n",
    "print(reg2.coef_)\n",
    "print(reg2.intercept_)\n",
    "md_probs = reg2.predict(test2)"
   ]
  },
  {
   "cell_type": "code",
   "execution_count": null,
   "metadata": {},
   "outputs": [],
   "source": []
  },
  {
   "cell_type": "code",
   "execution_count": 126,
   "metadata": {},
   "outputs": [],
   "source": [
    "additional_data = pd.read_csv(\"test.csv\")\n",
    "\n",
    "# Create a DataFrame with 'row ID' and predicted values\n",
    "predicted_df = pd.DataFrame({\n",
    "    'row ID': additional_data['row ID'],\n",
    "    'price_doc': md_probs[:,0]  # Replace with the actual column name for your predictions\n",
    "})\n",
    "\n",
    "# Save the DataFrame to a new CSV file\n",
    "predicted_df.to_csv('predictions26.csv', index=False)"
   ]
  }
 ],
 "metadata": {
  "kernelspec": {
   "display_name": "base",
   "language": "python",
   "name": "python3"
  },
  "language_info": {
   "codemirror_mode": {
    "name": "ipython",
    "version": 3
   },
   "file_extension": ".py",
   "mimetype": "text/x-python",
   "name": "python",
   "nbconvert_exporter": "python",
   "pygments_lexer": "ipython3",
   "version": "3.10.9"
  }
 },
 "nbformat": 4,
 "nbformat_minor": 2
}
