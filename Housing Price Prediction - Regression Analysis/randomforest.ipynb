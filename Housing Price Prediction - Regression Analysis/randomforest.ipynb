{
 "cells": [
  {
   "cell_type": "code",
   "execution_count": 30,
   "metadata": {},
   "outputs": [],
   "source": [
    "import pandas as pd\n",
    "from sklearn.calibration import LabelEncoder\n",
    "from sklearn.decomposition import PCA\n",
    "from sklearn.impute import SimpleImputer\n",
    "from sklearn.ensemble import RandomForestRegressor\n",
    "from sklearn.model_selection import train_test_split, RepeatedKFold, GridSearchCV, cross_val_score\n",
    "from sklearn.metrics import mean_squared_error, roc_curve, roc_auc_score\n",
    "from sklearn.preprocessing import MinMaxScaler\n",
    "from sklearn.feature_selection import SelectKBest, VarianceThreshold, f_classif, f_regression\n",
    "from sklearn.preprocessing import StandardScaler\n",
    "from sklearn.impute import KNNImputer\n",
    "from sklearn.preprocessing import RobustScaler\n",
    "from sklearn.feature_selection import SequentialFeatureSelector"
   ]
  },
  {
   "cell_type": "code",
   "execution_count": 31,
   "metadata": {},
   "outputs": [],
   "source": [
    "df1 = pd.read_csv('train.csv')\n",
    "df2 = pd.read_csv('test.csv')\n",
    "\n",
    "df1 = df1.drop(columns=['sub_area'])\n",
    "df2_dropped = df2.drop(columns=['sub_area','row ID'])"
   ]
  },
  {
   "cell_type": "code",
   "execution_count": 32,
   "metadata": {},
   "outputs": [
    {
     "name": "stdout",
     "output_type": "stream",
     "text": [
      "(77789, 272)\n"
     ]
    }
   ],
   "source": [
    "categorical_columns = df1.select_dtypes(include=['object']).columns\n",
    "\n",
    "#Label encode categorical columns\n",
    "label_encoder = LabelEncoder()\n",
    "for col in categorical_columns:\n",
    "  df1[col] = label_encoder.fit_transform(df1[col])\n",
    "  df2_dropped[col] = label_encoder.transform(df2_dropped[col])\n",
    "\n",
    "\n",
    "#df1_encoded = df1_encoded.drop(columns=['area_m', 'raion_popul', 'green_zone_part', 'indust_part', 'children_preschool', 'preschool_education_centers_raion', 'children_school', 'school_education_centers_raion', 'healthcare_centers_raion', 'sport_objects_raion', 'additional_education_raion', 'shopping_centers_raion', 'full_all', 'male_f', 'female_f', 'young_all', 'young_male', 'young_female', 'work_all', 'work_male', 'work_female', 'ekder_all', 'ekder_male', 'ekder_female', '0_6_all', '0_6_male', '0_6_female', '7_14_all', '7_14_male', '7_14_female', '0_17_all', '0_17_male', '0_17_female', '16_29_all', '16_29_male', '16_29_female', '0_13_all', '0_13_male', '0_13_female', 'raion_build_count_with_material_info', 'build_count_block', 'build_count_wood', 'build_count_frame', 'build_count_brick', 'build_count_panel', 'build_count_mix', 'raion_build_count_with_builddate_info', 'build_count_1921-1945', 'build_count_1946-1970', 'build_count_1971-1995', 'ID_metro', 'metro_min_avto', 'metro_km_avto', 'metro_min_walk', 'metro_km_walk', 'park_km', 'green_zone_km', 'water_treatment_km', 'cemetery_km', 'incineration_km', 'railroad_station_walk_km', 'railroad_station_walk_min', 'ID_railroad_station_walk', 'railroad_station_avto_km', 'railroad_station_avto_min', 'ID_railroad_station_avto', 'water_km', 'mkad_km', 'ttk_km', 'sadovoe_km', 'bulvar_ring_km', 'kremlin_km', 'big_road1_km', 'ID_big_road1', 'big_road2_km', 'ID_big_road2', 'railroad_km', 'zd_vokzaly_avto_km', 'ID_railroad_terminal', 'bus_terminal_avto_km', 'ID_bus_terminal', 'oil_chemistry_km', 'nuclear_reactor_km', 'radiation_km', 'power_transmission_line_km', 'thermal_power_plant_km', 'ts_km', 'big_market_km', 'market_shop_km', 'swim_pool_km', 'ice_rink_km', 'stadium_km', 'basketball_km', 'hospice_morgue_km', 'detention_facility_km', 'university_km', 'workplaces_km', 'shopping_centers_km', 'office_km', 'mosque_km', 'theater_km', 'museum_km', 'exhibition_km', 'catering_km', 'green_part_500', 'green_part_1000', 'prom_part_1000', 'green_part_1500', 'prom_part_1500', 'sport_count_1500', 'market_count_1500', 'green_part_2000', 'prom_part_2000', 'trc_count_2000', 'cafe_sum_2000_min_price_avg', 'cafe_sum_2000_max_price_avg', 'cafe_avg_price_2000', 'mosque_count_2000', 'sport_count_2000', 'market_count_2000', 'green_part_3000', 'prom_part_3000', 'office_sqm_3000', 'trc_count_3000', 'trc_sqm_3000', 'cafe_sum_3000_min_price_avg', 'cafe_sum_3000_max_price_avg', 'cafe_avg_price_3000', 'mosque_count_3000', 'sport_count_3000', 'market_count_3000', 'green_part_5000', 'prom_part_5000', 'office_count_5000', 'office_sqm_5000', 'trc_count_5000', 'trc_sqm_5000', 'cafe_count_5000', 'cafe_sum_5000_min_price_avg', 'cafe_sum_5000_max_price_avg', 'cafe_avg_price_5000', 'cafe_count_5000_na_price', 'cafe_count_5000_price_500', 'cafe_count_5000_price_1000', 'cafe_count_5000_price_1500', 'cafe_count_5000_price_2500', 'cafe_count_5000_price_4000', 'cafe_count_5000_price_high', 'big_church_count_5000', 'church_count_5000', 'mosque_count_5000', 'leisure_count_5000', 'sport_count_5000', 'market_count_5000', 'product_type_OwnerOccupier', 'culture_objects_top_25_yes', 'thermal_power_plant_raion_yes', 'incineration_raion_yes', 'oil_chemistry_raion_yes', 'radiation_raion_yes', 'railroad_terminal_raion_yes', 'big_market_raion_yes', 'nuclear_reactor_raion_yes', 'detention_facility_raion_yes', 'water_1line_yes', 'big_road1_1line_yes', 'railroad_1line_yes', 'ecology_good', 'ecology_no data', 'ecology_poor', 'ecology_satisfactory'],axis=1)\n",
    "#df2_encoded = df2_encoded.drop(columns=['area_m', 'raion_popul', 'green_zone_part', 'indust_part', 'children_preschool', 'preschool_education_centers_raion', 'children_school', 'school_education_centers_raion', 'healthcare_centers_raion', 'sport_objects_raion', 'additional_education_raion', 'shopping_centers_raion', 'full_all', 'male_f', 'female_f', 'young_all', 'young_male', 'young_female', 'work_all', 'work_male', 'work_female', 'ekder_all', 'ekder_male', 'ekder_female', '0_6_all', '0_6_male', '0_6_female', '7_14_all', '7_14_male', '7_14_female', '0_17_all', '0_17_male', '0_17_female', '16_29_all', '16_29_male', '16_29_female', '0_13_all', '0_13_male', '0_13_female', 'raion_build_count_with_material_info', 'build_count_block', 'build_count_wood', 'build_count_frame', 'build_count_brick', 'build_count_panel', 'build_count_mix', 'raion_build_count_with_builddate_info', 'build_count_1921-1945', 'build_count_1946-1970', 'build_count_1971-1995', 'ID_metro', 'metro_min_avto', 'metro_km_avto', 'metro_min_walk', 'metro_km_walk', 'park_km', 'green_zone_km', 'water_treatment_km', 'cemetery_km', 'incineration_km', 'railroad_station_walk_km', 'railroad_station_walk_min', 'ID_railroad_station_walk', 'railroad_station_avto_km', 'railroad_station_avto_min', 'ID_railroad_station_avto', 'water_km', 'mkad_km', 'ttk_km', 'sadovoe_km', 'bulvar_ring_km', 'kremlin_km', 'big_road1_km', 'ID_big_road1', 'big_road2_km', 'ID_big_road2', 'railroad_km', 'zd_vokzaly_avto_km', 'ID_railroad_terminal', 'bus_terminal_avto_km', 'ID_bus_terminal', 'oil_chemistry_km', 'nuclear_reactor_km', 'radiation_km', 'power_transmission_line_km', 'thermal_power_plant_km', 'ts_km', 'big_market_km', 'market_shop_km', 'swim_pool_km', 'ice_rink_km', 'stadium_km', 'basketball_km', 'hospice_morgue_km', 'detention_facility_km', 'university_km', 'workplaces_km', 'shopping_centers_km', 'office_km', 'mosque_km', 'theater_km', 'museum_km', 'exhibition_km', 'catering_km', 'green_part_500', 'green_part_1000', 'prom_part_1000', 'green_part_1500', 'prom_part_1500', 'sport_count_1500', 'market_count_1500', 'green_part_2000', 'prom_part_2000', 'trc_count_2000', 'cafe_sum_2000_min_price_avg', 'cafe_sum_2000_max_price_avg', 'cafe_avg_price_2000', 'mosque_count_2000', 'sport_count_2000', 'market_count_2000', 'green_part_3000', 'prom_part_3000', 'office_sqm_3000', 'trc_count_3000', 'trc_sqm_3000', 'cafe_sum_3000_min_price_avg', 'cafe_sum_3000_max_price_avg', 'cafe_avg_price_3000', 'mosque_count_3000', 'sport_count_3000', 'market_count_3000', 'green_part_5000', 'prom_part_5000', 'office_count_5000', 'office_sqm_5000', 'trc_count_5000', 'trc_sqm_5000', 'cafe_count_5000', 'cafe_sum_5000_min_price_avg', 'cafe_sum_5000_max_price_avg', 'cafe_avg_price_5000', 'cafe_count_5000_na_price', 'cafe_count_5000_price_500', 'cafe_count_5000_price_1000', 'cafe_count_5000_price_1500', 'cafe_count_5000_price_2500', 'cafe_count_5000_price_4000', 'cafe_count_5000_price_high', 'big_church_count_5000', 'church_count_5000', 'mosque_count_5000', 'leisure_count_5000', 'sport_count_5000', 'market_count_5000', 'product_type_OwnerOccupier', 'culture_objects_top_25_yes', 'thermal_power_plant_raion_yes', 'incineration_raion_yes', 'oil_chemistry_raion_yes', 'radiation_raion_yes', 'railroad_terminal_raion_yes', 'big_market_raion_yes', 'nuclear_reactor_raion_yes', 'detention_facility_raion_yes', 'water_1line_yes', 'big_road1_1line_yes', 'railroad_1line_yes', 'ecology_good', 'ecology_no data', 'ecology_poor', 'ecology_satisfactory'],axis=1)\n",
    "print(df2.shape)"
   ]
  },
  {
   "cell_type": "code",
   "execution_count": 42,
   "metadata": {},
   "outputs": [
    {
     "ename": "IndexError",
     "evalue": "only integers, slices (`:`), ellipsis (`...`), numpy.newaxis (`None`) and integer or boolean arrays are valid indices",
     "output_type": "error",
     "traceback": [
      "\u001b[1;31m---------------------------------------------------------------------------\u001b[0m",
      "\u001b[1;31mIndexError\u001b[0m                                Traceback (most recent call last)",
      "\u001b[1;32me:\\Challenge 2\\randomforest.ipynb Cell 8\u001b[0m line \u001b[0;36m1\n\u001b[1;32m----> <a href='vscode-notebook-cell:/e%3A/Challenge%202/randomforest.ipynb#X16sZmlsZQ%3D%3D?line=0'>1</a>\u001b[0m X_scaled \u001b[39m=\u001b[39m X_scaled[[\u001b[39m'\u001b[39;49m\u001b[39mfull_sq\u001b[39;49m\u001b[39m'\u001b[39;49m, \u001b[39m'\u001b[39;49m\u001b[39mfloor\u001b[39;49m\u001b[39m'\u001b[39;49m, \u001b[39m'\u001b[39;49m\u001b[39mbuild_count_monolith\u001b[39;49m\u001b[39m'\u001b[39;49m, \u001b[39m'\u001b[39;49m\u001b[39mindustrial_km\u001b[39;49m\u001b[39m'\u001b[39;49m, \u001b[39m'\u001b[39;49m\u001b[39mtrc_sqm_500\u001b[39;49m\u001b[39m'\u001b[39;49m,\n\u001b[0;32m      <a href='vscode-notebook-cell:/e%3A/Challenge%202/randomforest.ipynb#X16sZmlsZQ%3D%3D?line=1'>2</a>\u001b[0m  \u001b[39m'\u001b[39;49m\u001b[39mmosque_count_500\u001b[39;49m\u001b[39m'\u001b[39;49m, \u001b[39m'\u001b[39;49m\u001b[39mleisure_count_500\u001b[39;49m\u001b[39m'\u001b[39;49m, \u001b[39m'\u001b[39;49m\u001b[39moffice_sqm_1000\u001b[39;49m\u001b[39m'\u001b[39;49m,\n\u001b[0;32m      <a href='vscode-notebook-cell:/e%3A/Challenge%202/randomforest.ipynb#X16sZmlsZQ%3D%3D?line=2'>3</a>\u001b[0m  \u001b[39m'\u001b[39;49m\u001b[39mcafe_count_1000_price_high\u001b[39;49m\u001b[39m'\u001b[39;49m, \u001b[39m'\u001b[39;49m\u001b[39mleisure_count_1000\u001b[39;49m\u001b[39m'\u001b[39;49m, \u001b[39m'\u001b[39;49m\u001b[39mpower_transmission_line_km\u001b[39;49m\u001b[39m'\u001b[39;49m, \u001b[39m'\u001b[39;49m\u001b[39mbig_market_km\u001b[39;49m\u001b[39m'\u001b[39;49m, \u001b[39m'\u001b[39;49m\u001b[39mpublic_healthcare_km\u001b[39;49m\u001b[39m'\u001b[39;49m, \u001b[39m'\u001b[39;49m\u001b[39mworkplaces_km\u001b[39;49m\u001b[39m'\u001b[39;49m]]\n\u001b[0;32m      <a href='vscode-notebook-cell:/e%3A/Challenge%202/randomforest.ipynb#X16sZmlsZQ%3D%3D?line=3'>4</a>\u001b[0m df2_encoded_scaled \u001b[39m=\u001b[39m df2_encoded_scaled[[\u001b[39m'\u001b[39m\u001b[39mfull_sq\u001b[39m\u001b[39m'\u001b[39m, \u001b[39m'\u001b[39m\u001b[39mfloor\u001b[39m\u001b[39m'\u001b[39m, \u001b[39m'\u001b[39m\u001b[39mbuild_count_monolith\u001b[39m\u001b[39m'\u001b[39m, \u001b[39m'\u001b[39m\u001b[39mindustrial_km\u001b[39m\u001b[39m'\u001b[39m, \u001b[39m'\u001b[39m\u001b[39mtrc_sqm_500\u001b[39m\u001b[39m'\u001b[39m,\n\u001b[0;32m      <a href='vscode-notebook-cell:/e%3A/Challenge%202/randomforest.ipynb#X16sZmlsZQ%3D%3D?line=4'>5</a>\u001b[0m  \u001b[39m'\u001b[39m\u001b[39mmosque_count_500\u001b[39m\u001b[39m'\u001b[39m, \u001b[39m'\u001b[39m\u001b[39mleisure_count_500\u001b[39m\u001b[39m'\u001b[39m, \u001b[39m'\u001b[39m\u001b[39moffice_sqm_1000\u001b[39m\u001b[39m'\u001b[39m,\n\u001b[0;32m      <a href='vscode-notebook-cell:/e%3A/Challenge%202/randomforest.ipynb#X16sZmlsZQ%3D%3D?line=5'>6</a>\u001b[0m  \u001b[39m'\u001b[39m\u001b[39mcafe_count_1000_price_high\u001b[39m\u001b[39m'\u001b[39m, \u001b[39m'\u001b[39m\u001b[39mleisure_count_1000\u001b[39m\u001b[39m'\u001b[39m, \u001b[39m'\u001b[39m\u001b[39mpower_transmission_line_km\u001b[39m\u001b[39m'\u001b[39m, \u001b[39m'\u001b[39m\u001b[39mbig_market_km\u001b[39m\u001b[39m'\u001b[39m, \u001b[39m'\u001b[39m\u001b[39mpublic_healthcare_km\u001b[39m\u001b[39m'\u001b[39m, \u001b[39m'\u001b[39m\u001b[39mworkplaces_km\u001b[39m\u001b[39m'\u001b[39m]]\n\u001b[0;32m      <a href='vscode-notebook-cell:/e%3A/Challenge%202/randomforest.ipynb#X16sZmlsZQ%3D%3D?line=7'>8</a>\u001b[0m used\u001b[39m.\u001b[39mappend(\u001b[39m\"\u001b[39m\u001b[39mForward Feature Selection (n=14)\u001b[39m\u001b[39m\"\u001b[39m)\n",
      "\u001b[1;31mIndexError\u001b[0m: only integers, slices (`:`), ellipsis (`...`), numpy.newaxis (`None`) and integer or boolean arrays are valid indices"
     ]
    }
   ],
   "source": [
    "X_scaled = X_scaled[['full_sq', 'floor', 'build_count_monolith', 'industrial_km', 'trc_sqm_500',\n",
    " 'mosque_count_500', 'leisure_count_500', 'office_sqm_1000',\n",
    " 'cafe_count_1000_price_high', 'leisure_count_1000', 'power_transmission_line_km', 'big_market_km', 'public_healthcare_km', 'workplaces_km']]\n",
    "df2_encoded_scaled = df2_encoded_scaled[['full_sq', 'floor', 'build_count_monolith', 'industrial_km', 'trc_sqm_500',\n",
    " 'mosque_count_500', 'leisure_count_500', 'office_sqm_1000',\n",
    " 'cafe_count_1000_price_high', 'leisure_count_1000', 'power_transmission_line_km', 'big_market_km', 'public_healthcare_km', 'workplaces_km']]\n",
    "\n",
    "used.append(\"Forward Feature Selection (n=14)\")"
   ]
  },
  {
   "cell_type": "code",
   "execution_count": null,
   "metadata": {},
   "outputs": [],
   "source": [
    "print(df2.head())"
   ]
  },
  {
   "cell_type": "code",
   "execution_count": 33,
   "metadata": {},
   "outputs": [],
   "source": [
    "X = df1.drop(columns=['price_doc',],axis=1)\n",
    "y = df1['price_doc']\n"
   ]
  },
  {
   "cell_type": "code",
   "execution_count": 34,
   "metadata": {},
   "outputs": [],
   "source": [
    "imputer = SimpleImputer(strategy='mean')\n",
    "X = imputer.fit_transform(X)\n",
    "df2_encoded = imputer.fit_transform(df2_dropped)"
   ]
  },
  {
   "cell_type": "code",
   "execution_count": 35,
   "metadata": {},
   "outputs": [],
   "source": [
    "scaler = MinMaxScaler()\n",
    "X_scaled = scaler.fit_transform(X)\n",
    "df2_encoded_scaled = scaler.fit_transform(df2_encoded)"
   ]
  },
  {
   "cell_type": "code",
   "execution_count": null,
   "metadata": {},
   "outputs": [],
   "source": [
    "\n",
    "variance_threshold = 0.02 # Set your desired threshold\n",
    "selector = VarianceThreshold(threshold=variance_threshold)\n",
    "X_train_high_variance = selector.fit_transform(X_scaled)\n",
    "X_test_high_variance = selector.transform(df2_encoded_scaled)"
   ]
  },
  {
   "cell_type": "code",
   "execution_count": 41,
   "metadata": {},
   "outputs": [
    {
     "name": "stdout",
     "output_type": "stream",
     "text": [
      "Selected Features:\n",
      "['x1', 'x2', 'x3', 'x4', 'x9', 'x10', 'x13', 'x14', 'x15', 'x18', 'x23', 'x24', 'x27', 'x28', 'x31', 'x35', 'x44', 'x62', 'x67', 'x71', 'x72', 'x78', 'x81', 'x82', 'x84', 'x93', 'x94', 'x95', 'x96', 'x98', 'x103', 'x108', 'x109', 'x113', 'x121', 'x124', 'x132', 'x135', 'x140', 'x141', 'x142', 'x143', 'x147', 'x151', 'x152', 'x154', 'x155', 'x158', 'x159', 'x161', 'x162', 'x163', 'x164', 'x165', 'x166', 'x167', 'x172', 'x175', 'x176', 'x178', 'x179', 'x181', 'x182', 'x186', 'x197', 'x198', 'x199', 'x207', 'x210', 'x215', 'x217', 'x218', 'x221', 'x223', 'x249', 'x253', 'x267']\n",
      "77\n"
     ]
    },
    {
     "ename": "AttributeError",
     "evalue": "'numpy.ndarray' object has no attribute 'columns'",
     "output_type": "error",
     "traceback": [
      "\u001b[1;31m---------------------------------------------------------------------------\u001b[0m",
      "\u001b[1;31mAttributeError\u001b[0m                            Traceback (most recent call last)",
      "\u001b[1;32me:\\Challenge 2\\randomforest.ipynb Cell 9\u001b[0m line \u001b[0;36m2\n\u001b[0;32m     <a href='vscode-notebook-cell:/e%3A/Challenge%202/randomforest.ipynb#X14sZmlsZQ%3D%3D?line=23'>24</a>\u001b[0m \u001b[39mprint\u001b[39m(\u001b[39mlen\u001b[39m(selected_features_list))\n\u001b[0;32m     <a href='vscode-notebook-cell:/e%3A/Challenge%202/randomforest.ipynb#X14sZmlsZQ%3D%3D?line=25'>26</a>\u001b[0m \u001b[39m# Find indices of selected features in X columns\u001b[39;00m\n\u001b[1;32m---> <a href='vscode-notebook-cell:/e%3A/Challenge%202/randomforest.ipynb#X14sZmlsZQ%3D%3D?line=26'>27</a>\u001b[0m selected_feature_indices \u001b[39m=\u001b[39m [\u001b[39mlist\u001b[39m(X\u001b[39m.\u001b[39mcolumns)\u001b[39m.\u001b[39mindex(feature) \u001b[39mfor\u001b[39;00m feature \u001b[39min\u001b[39;00m selected_features_list]\n\u001b[0;32m     <a href='vscode-notebook-cell:/e%3A/Challenge%202/randomforest.ipynb#X14sZmlsZQ%3D%3D?line=28'>29</a>\u001b[0m \u001b[39m# Keep only selected features in X_scaled\u001b[39;00m\n\u001b[0;32m     <a href='vscode-notebook-cell:/e%3A/Challenge%202/randomforest.ipynb#X14sZmlsZQ%3D%3D?line=29'>30</a>\u001b[0m X_scaled \u001b[39m=\u001b[39m X_scaled[:, selected_feature_indices]\n",
      "\u001b[1;32me:\\Challenge 2\\randomforest.ipynb Cell 9\u001b[0m line \u001b[0;36m2\n\u001b[0;32m     <a href='vscode-notebook-cell:/e%3A/Challenge%202/randomforest.ipynb#X14sZmlsZQ%3D%3D?line=23'>24</a>\u001b[0m \u001b[39mprint\u001b[39m(\u001b[39mlen\u001b[39m(selected_features_list))\n\u001b[0;32m     <a href='vscode-notebook-cell:/e%3A/Challenge%202/randomforest.ipynb#X14sZmlsZQ%3D%3D?line=25'>26</a>\u001b[0m \u001b[39m# Find indices of selected features in X columns\u001b[39;00m\n\u001b[1;32m---> <a href='vscode-notebook-cell:/e%3A/Challenge%202/randomforest.ipynb#X14sZmlsZQ%3D%3D?line=26'>27</a>\u001b[0m selected_feature_indices \u001b[39m=\u001b[39m [\u001b[39mlist\u001b[39m(X\u001b[39m.\u001b[39;49mcolumns)\u001b[39m.\u001b[39mindex(feature) \u001b[39mfor\u001b[39;00m feature \u001b[39min\u001b[39;00m selected_features_list]\n\u001b[0;32m     <a href='vscode-notebook-cell:/e%3A/Challenge%202/randomforest.ipynb#X14sZmlsZQ%3D%3D?line=28'>29</a>\u001b[0m \u001b[39m# Keep only selected features in X_scaled\u001b[39;00m\n\u001b[0;32m     <a href='vscode-notebook-cell:/e%3A/Challenge%202/randomforest.ipynb#X14sZmlsZQ%3D%3D?line=29'>30</a>\u001b[0m X_scaled \u001b[39m=\u001b[39m X_scaled[:, selected_feature_indices]\n",
      "\u001b[1;31mAttributeError\u001b[0m: 'numpy.ndarray' object has no attribute 'columns'"
     ]
    }
   ],
   "source": []
  },
  {
   "cell_type": "code",
   "execution_count": null,
   "metadata": {},
   "outputs": [],
   "source": [
    "model = RandomForestRegressor(n_estimators=200, max_depth=14, min_samples_leaf=25, min_samples_split=15,max_features=15,n_jobs=-1)\n",
    "#model = RandomForestRegressor()\n",
    "\n",
    "model.fit(X_train_high_variance,y)\n",
    "predictions = model.predict(X_test_high_variance)\n",
    "\n",
    "\n",
    "\n",
    "print(predictions)"
   ]
  },
  {
   "cell_type": "code",
   "execution_count": null,
   "metadata": {},
   "outputs": [],
   "source": [
    "submission_df = pd.DataFrame({'row ID': df2['row ID'], 'price_doc': predictions.flatten()})\n",
    "\n",
    "# Save the results to a CSV file\n",
    "submission_df.to_csv('predictions79.csv', index=False)"
   ]
  }
 ],
 "metadata": {
  "kernelspec": {
   "display_name": "base",
   "language": "python",
   "name": "python3"
  },
  "language_info": {
   "codemirror_mode": {
    "name": "ipython",
    "version": 3
   },
   "file_extension": ".py",
   "mimetype": "text/x-python",
   "name": "python",
   "nbconvert_exporter": "python",
   "pygments_lexer": "ipython3",
   "version": "3.10.9"
  }
 },
 "nbformat": 4,
 "nbformat_minor": 2
}
