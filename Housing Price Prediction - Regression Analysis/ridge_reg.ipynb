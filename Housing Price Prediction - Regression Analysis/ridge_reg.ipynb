{
 "cells": [
  {
   "cell_type": "code",
   "execution_count": 59,
   "metadata": {},
   "outputs": [],
   "source": [
    "import numpy as np\n",
    "import pandas as pd\n",
    "from sklearn.calibration import LabelEncoder\n",
    "from sklearn.feature_selection import SelectKBest, f_regression\n",
    "from sklearn.model_selection import train_test_split\n",
    "from sklearn.linear_model import LinearRegression\n",
    "from sklearn.impute import KNNImputer, SimpleImputer\n",
    "from sklearn.metrics import mean_squared_error\n",
    "from sklearn.preprocessing import MinMaxScaler, RobustScaler\n",
    "from sklearn.preprocessing import StandardScaler\n",
    "from sklearn.model_selection import train_test_split\n",
    "from sklearn.decomposition import PCA\n",
    "from sklearn.feature_selection import SequentialFeatureSelector\n",
    "import seaborn as sns\n",
    "from sklearn.feature_selection import SequentialFeatureSelector\n",
    "import matplotlib.pyplot as plt\n",
    "from sklearn.feature_selection import VarianceThreshold\n",
    "from sklearn.linear_model import Lasso\n",
    "from sklearn.preprocessing import PolynomialFeatures\n",
    "from sklearn.linear_model import Ridge\n",
    "import statsmodels.api as sm\n"
   ]
  },
  {
   "cell_type": "code",
   "execution_count": 60,
   "metadata": {},
   "outputs": [],
   "source": [
    "df1 = pd.read_csv(\"train.csv\")\n",
    "#df1.head()\n",
    "df2 = pd.read_csv('test.csv')\n",
    "#df2"
   ]
  },
  {
   "cell_type": "code",
   "execution_count": 61,
   "metadata": {},
   "outputs": [],
   "source": [
    "# Identify and drop duplicate columns\n",
    "duplicated_columns = df1.columns[df1.columns.duplicated()]\n",
    "df_no_duplicates = df1.drop(columns=duplicated_columns)"
   ]
  },
  {
   "cell_type": "code",
   "execution_count": 62,
   "metadata": {},
   "outputs": [],
   "source": [
    "# Identify and drop duplicate columns\n",
    "duplicated_columns = df2.columns[df2.columns.duplicated()]\n",
    "df_no_duplicates = df2.drop(columns=duplicated_columns)"
   ]
  },
  {
   "cell_type": "code",
   "execution_count": 63,
   "metadata": {},
   "outputs": [],
   "source": [
    "df1 = df1.drop(columns=['sub_area'])\n",
    "df2 = df2.drop(columns=['sub_area','row ID'])"
   ]
  },
  {
   "cell_type": "code",
   "execution_count": null,
   "metadata": {},
   "outputs": [],
   "source": [
    "df_onehot = pd.get_dummies(df1)\n",
    "df_onehot.dtypes\n",
    "test_onehot = pd.get_dummies(df2)"
   ]
  },
  {
   "cell_type": "code",
   "execution_count": 65,
   "metadata": {},
   "outputs": [],
   "source": [
    "df_onehot = pd.get_dummies(df1,drop_first=True)\n",
    "test_onehot = pd.get_dummies(df2,drop_first=True)"
   ]
  },
  {
   "cell_type": "code",
   "execution_count": null,
   "metadata": {},
   "outputs": [],
   "source": [
    "categorical_columns = df1.select_dtypes(include=['object']).columns\n",
    "\n",
    "# Label encode categorical columns\n",
    "label_encoder = LabelEncoder()\n",
    "for col in categorical_columns:\n",
    "   df1[col] = label_encoder.fit_transform(df1[col])\n",
    "   df2[col] = label_encoder.transform(df2[col])"
   ]
  },
  {
   "cell_type": "code",
   "execution_count": 66,
   "metadata": {},
   "outputs": [],
   "source": [
    "X = df_onehot.drop(columns=['price_doc',],axis=1)\n",
    "y = df_onehot['price_doc']"
   ]
  },
  {
   "cell_type": "code",
   "execution_count": null,
   "metadata": {},
   "outputs": [],
   "source": [
    "X = df1.drop(columns=['price_doc',],axis=1)\n",
    "y = df1['price_doc']"
   ]
  },
  {
   "cell_type": "code",
   "execution_count": null,
   "metadata": {},
   "outputs": [],
   "source": [
    "imputer = SimpleImputer(strategy='mean')\n",
    "X = imputer.fit_transform(X)\n",
    "df2_encoded = imputer.fit_transform(test_onehot)"
   ]
  },
  {
   "cell_type": "code",
   "execution_count": 67,
   "metadata": {},
   "outputs": [],
   "source": [
    "scaler = RobustScaler()\n",
    "X_scaled = scaler.fit_transform(X)\n",
    "X_testscaled = scaler.fit_transform(test_onehot)"
   ]
  },
  {
   "cell_type": "code",
   "execution_count": null,
   "metadata": {},
   "outputs": [],
   "source": [
    "scaler = MinMaxScaler()\n",
    "X_scaled = scaler.fit_transform(X)\n",
    "df2_encoded_scaled = scaler.fit_transform(df2_encoded)"
   ]
  },
  {
   "cell_type": "code",
   "execution_count": 68,
   "metadata": {},
   "outputs": [],
   "source": [
    "#X_train, X_test, y_train, y_test = train_test_split(X_scaled, y, test_size=0.3, random_state=42)\n",
    "\n",
    "variance_threshold = 0.01 # Set your desired threshold\n",
    "selector = VarianceThreshold(threshold=variance_threshold)\n",
    "X_train_high_variance = selector.fit_transform(X_scaled)\n",
    "X_test_high_variance = selector.transform(X_testscaled)"
   ]
  },
  {
   "cell_type": "code",
   "execution_count": null,
   "metadata": {},
   "outputs": [],
   "source": [
    "#covert x_scaled to dataframe\n",
    "X_scaled = pd.DataFrame(X_scaled)\n",
    "#convert x_testscaled to dataframe\n",
    "X_testscaled = pd.DataFrame(X_testscaled)"
   ]
  },
  {
   "cell_type": "code",
   "execution_count": null,
   "metadata": {},
   "outputs": [],
   "source": [
    "import statsmodels.api as sm\n",
    "import pandas as pd\n",
    "\n",
    "# Convert scaled_df1 to a DataFrame without specifying columns\n",
    "\n",
    "# Add a constant term to the feature matrix\n",
    "X_with_const = sm.add_constant(X_scaled)\n",
    "\n",
    "# Fit a linear regression model\n",
    "model = sm.OLS(y, X_with_const).fit()\n",
    "\n",
    "# Get p-values for each feature\n",
    "p_values = model.pvalues[1:]  # Exclude the constant term\n",
    "\n",
    "# Set your desired threshold for p-value\n",
    "threshold = 0.05\n",
    "\n",
    "# Filter features based on p-value\n",
    "selected_features = p_values[p_values < threshold].index\n",
    "\n",
    "# Display selected features\n",
    "print(\"Selected Features:\")\n",
    "print(selected_features)\n",
    "\n",
    "# Select columns in the DataFrame\n",
    "X_selected = X_scaled[selected_features]\n"
   ]
  },
  {
   "cell_type": "code",
   "execution_count": null,
   "metadata": {},
   "outputs": [],
   "source": [
    "#keep those columns in X_testscaled that are in X_selected\n",
    "X_testscaled = X_testscaled[X_selected.columns]"
   ]
  },
  {
   "cell_type": "code",
   "execution_count": null,
   "metadata": {},
   "outputs": [],
   "source": [
    "X_selected.shape"
   ]
  },
  {
   "cell_type": "code",
   "execution_count": null,
   "metadata": {},
   "outputs": [],
   "source": [
    "X_testscaled.shape"
   ]
  },
  {
   "cell_type": "code",
   "execution_count": 69,
   "metadata": {},
   "outputs": [],
   "source": [
    "kBest = SelectKBest(k=20, score_func=f_regression)\n",
    "X_train_kBest = kBest.fit_transform(X_train_high_variance, y)\n",
    "X_test_kBest = kBest.transform(X_test_high_variance)"
   ]
  },
  {
   "cell_type": "code",
   "execution_count": 70,
   "metadata": {},
   "outputs": [],
   "source": [
    "pca = PCA(n_components=10)\n",
    "X_train_pca = pca.fit_transform(X_train_kBest)\n",
    "X_test_pca = pca.transform(X_test_kBest)"
   ]
  },
  {
   "cell_type": "code",
   "execution_count": 71,
   "metadata": {},
   "outputs": [],
   "source": []
  },
  {
   "cell_type": "code",
   "execution_count": 72,
   "metadata": {},
   "outputs": [
    {
     "name": "stdout",
     "output_type": "stream",
     "text": [
      "Coefficients: [ 1.60937858e+06  4.53526120e+05 -1.10221598e+04  3.92892675e+05\n",
      " -5.53822162e+05 -6.26287712e+05  3.93226377e+05 -9.19674590e+05\n",
      " -3.26540844e+05 -6.64639372e+04 -2.66188010e+04  1.30103635e+04\n",
      "  7.22925483e+03 -2.05020677e+04  2.30956406e+04  3.34749336e+03\n",
      " -2.33376168e+04  2.12535567e+04 -7.17926352e+03  2.91959380e+03\n",
      "  7.30503151e+03 -3.98481178e+04  3.20317588e+03 -7.16956952e+04\n",
      " -1.64676190e+04  7.61660034e+03 -1.07973920e+05  2.12099980e+03\n",
      " -5.73519512e+04 -6.63921133e+03  2.36107813e+04 -6.24205087e+04\n",
      "  3.46387632e+04  3.05445742e+04 -6.09886405e+04  1.72323150e+04\n",
      " -2.54696075e+03 -4.94898606e+02  9.40150213e+04 -5.18418633e+04\n",
      " -6.95941127e+04 -2.37317462e+04  4.73050913e+04 -3.04252008e+04\n",
      " -3.07130775e+03  1.09287820e+04  2.73366937e+04  2.03570068e+04\n",
      "  2.17591981e+03  8.64827725e+03  4.73664242e+04 -5.30185315e+04\n",
      "  3.83294341e+04  3.95847833e+04 -1.04922872e+05 -3.20152304e+03\n",
      "  7.24496677e+04  2.04496305e+04  1.96088446e+04 -8.11350440e+03\n",
      "  1.02115283e+05 -3.82459640e+04 -6.31623460e+04  2.23216374e+05\n",
      " -7.61323670e+04  1.24737562e+02 -1.56711014e+02 -5.34970408e+01\n",
      "  1.55445502e+02 -1.52835527e+02  3.28651101e+01  1.76568405e+02\n",
      " -1.05335890e+02  7.10356129e+01  2.44383034e+01  2.91308682e+01\n",
      "  4.95538899e+02 -1.02943316e+02  8.74158254e+02  6.12641308e+01\n",
      " -1.65489484e+02  1.25939223e+03 -3.98020223e+01  5.55170714e+02\n",
      "  9.24891740e+01 -2.75337191e+02  7.43979369e+02 -4.17225569e+02\n",
      " -3.80983410e+02  7.15801548e+02 -2.10867319e+02  1.08174708e+02\n",
      "  2.02528544e+01 -1.14558267e+03  7.06596855e+02  8.38581456e+02\n",
      "  2.69033403e+02 -5.45463906e+02  3.76738607e+02  1.05195413e+02\n",
      " -1.21593920e+02 -3.17262935e+02 -1.76106617e+02  2.88556115e+01\n",
      " -2.91919181e+01 -5.15588552e+02  6.69439557e+02 -5.04982017e+02\n",
      " -4.19983276e+02  1.32169381e+03  1.65349473e+02 -9.80795484e+02\n",
      " -3.13337582e+02 -1.55295408e+02  2.34648550e+02 -1.16228953e+03\n",
      "  5.14999594e+02  7.39846019e+02 -2.36358252e+03  8.33531481e+02\n",
      " -4.69181647e+01 -5.75139628e+02  1.50112652e+01 -1.13741915e+03\n",
      "  1.03329576e+02  1.03948374e+02 -1.53842748e+03  3.09345253e+02\n",
      " -7.09317286e+02 -1.84574431e+02  5.85896790e+02 -1.25163227e+03\n",
      "  8.85378287e+02  7.80712654e+02 -1.18202432e+03  5.23435712e+02\n",
      "  3.59643753e+02 -3.94029313e+02  2.75165680e+03 -1.38474440e+03\n",
      " -1.40760011e+03  6.59688863e+02  8.15897983e+02 -1.62112984e+02\n",
      " -8.73051744e+02  5.28750744e+02  7.45883600e+02  2.30519278e+02\n",
      "  3.44453117e+02  6.15911617e+02  5.77240517e+01 -3.91005613e+02\n",
      "  2.07351790e+03  8.07516766e+01 -2.12846811e+03 -1.82698199e+03\n",
      "  2.35064667e+03  6.57666502e+02  7.89179218e+02 -1.84116773e+03\n",
      "  1.59136957e+03 -2.52010569e+02 -2.18823970e+03  2.59582703e+03\n",
      " -2.33616512e+03 -2.11018832e+02 -6.44245946e+01 -9.19339578e+01\n",
      " -2.26196359e+02 -2.63832670e+01 -4.59222321e+02  7.17772411e+02\n",
      " -2.30714730e+02 -9.64910642e+02  1.46602482e+03 -3.33599117e+02\n",
      " -6.25845897e+02  6.90720104e+02 -6.37379988e+02  1.08483589e+02\n",
      " -8.37013132e+02  8.34460118e+02  3.82815080e+02 -2.38486284e+02\n",
      "  3.65038498e+02  2.19001340e+02 -7.72523063e+02  6.72652919e+01\n",
      "  1.23554145e+03 -7.07405154e+02 -2.05962245e+02 -2.14142432e+03\n",
      "  6.88377173e+02 -1.01882749e+03  4.45899311e+02 -1.39829606e+03\n",
      " -1.03480601e+03  7.41066294e+02  2.91265074e+02 -9.99740652e+02\n",
      " -6.50101493e+01 -1.53470640e+02 -1.07010054e+03  7.32105798e+02\n",
      "  1.18687343e+03  5.28033531e+02  2.60789046e+02 -2.61601244e+02\n",
      "  6.74874549e+02 -5.69284290e+02  1.36768927e+02  1.22077840e+03\n",
      " -3.16985731e+02 -2.73043240e+02  2.21176720e+02  1.67319059e+03\n",
      " -1.09692763e+03  9.88951467e+02  2.86488726e+03  1.41984608e+03\n",
      " -4.91428813e+02 -1.32637351e+02 -6.12057705e+01  3.36579296e+03\n",
      " -3.78313203e+02  1.29677164e+03  2.13335653e+03 -9.94394463e+02\n",
      "  2.49034758e+03 -6.86203217e+02 -1.32372104e+02  8.15517996e+02\n",
      "  7.59656802e+02  4.03090572e+02 -3.25933428e+02 -1.40101159e+03\n",
      " -1.84669080e+03  1.96900780e+03 -7.79357765e+02  6.55051080e+02\n",
      " -7.51909123e+02 -5.15063915e+02 -1.34640286e+02 -1.30737348e+03\n",
      " -2.73070054e+03 -7.93550824e+02  8.50097510e+02 -1.48401822e+03\n",
      "  1.27912870e+03 -1.72212383e+03 -2.05877153e+02  1.31959974e+03\n",
      " -1.21327512e+03 -5.05616031e+02 -8.31950016e+02  1.85567722e+03\n",
      "  1.78893487e+03 -1.51348272e+03  4.23113416e+02  2.48079790e+03\n",
      " -3.78696119e+02  1.64934985e+03 -4.25018804e+02 -1.66062934e+03\n",
      "  2.69062105e+03  8.08437914e+02 -3.55225197e+03  9.25957294e+02\n",
      " -2.77946469e+03  1.86206066e+03  9.21450747e+02 -8.44413039e+02\n",
      "  1.20075826e+03 -5.07317832e+03  3.23374936e+02 -3.97860860e+03\n",
      " -8.90749891e+02 -5.06770027e+00  1.13275767e+03 -7.93410754e+03\n",
      "  6.79302831e+02  3.79807172e+02 -3.78934932e+03  1.46596464e+03\n",
      " -2.31445471e+03]\n",
      "Intercept: 32519253.6784989\n"
     ]
    }
   ],
   "source": [
    "model = Sequential()\n",
    "model.add(Dense(64, activation='relu', input_shape=(X_train.shape[1],)))\n",
    "model.add(Dropout(0.2))  # Adding dropout with a rate of 0.2\n",
    "model.add(Dense(32, activation='relu', kernel_regularizer=tf.keras.regularizers.l2(0.01)))  # Adding L2 regularization\n",
    "model.add(Dense(1, activation='sigmoid'))\n"
   ]
  },
  {
   "cell_type": "code",
   "execution_count": 73,
   "metadata": {},
   "outputs": [],
   "source": [
    "additional_data = pd.read_csv(\"test.csv\")\n",
    "\n",
    "# Create a DataFrame with 'row ID' and predicted values\n",
    "predicted_df = pd.DataFrame({\n",
    "    'row ID': additional_data['row ID'],\n",
    "    'price_doc': md_probs  # Replace with the actual column name for your predictions\n",
    "})\n",
    "\n",
    "# Save the DataFrame to a new CSV file\n",
    "predicted_df.to_csv('predictions47.csv', index=False)"
   ]
  }
 ],
 "metadata": {
  "kernelspec": {
   "display_name": "base",
   "language": "python",
   "name": "python3"
  },
  "language_info": {
   "codemirror_mode": {
    "name": "ipython",
    "version": 3
   },
   "file_extension": ".py",
   "mimetype": "text/x-python",
   "name": "python",
   "nbconvert_exporter": "python",
   "pygments_lexer": "ipython3",
   "version": "3.10.9"
  }
 },
 "nbformat": 4,
 "nbformat_minor": 2
}
