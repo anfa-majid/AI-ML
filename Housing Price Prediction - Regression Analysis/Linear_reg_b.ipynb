{
 "cells": [
  {
   "cell_type": "code",
   "execution_count": 94,
   "metadata": {},
   "outputs": [],
   "source": [
    "import pandas as pd   \n",
    "from matplotlib import pyplot as plt\n",
    "from numpy import mean\n",
    "import time\n",
    "\n",
    "from sklearn.model_selection import train_test_split, RepeatedKFold, GridSearchCV, cross_val_score\n",
    "from sklearn.metrics import roc_curve, roc_auc_score\n",
    "from sklearn.preprocessing import MinMaxScaler\n",
    "from sklearn.preprocessing import LabelEncoder\n",
    "from sklearn.pipeline import Pipeline\n",
    "from sklearn.preprocessing import StandardScaler\n",
    "from sklearn.impute import KNNImputer, SimpleImputer\n",
    "from sklearn.feature_selection import SequentialFeatureSelector\n",
    "from sklearn.preprocessing import RobustScaler\n",
    "from sklearn.feature_selection import VarianceThreshold\n",
    "\n",
    "import warnings \n",
    "warnings.filterwarnings('ignore')\n",
    "\n",
    "\n",
    "from sklearn.linear_model import LinearRegression"
   ]
  },
  {
   "cell_type": "code",
   "execution_count": 95,
   "metadata": {},
   "outputs": [],
   "source": [
    "df1 = pd.read_csv(\"train.csv\")\n",
    "#df1.head()\n",
    "df2 = pd.read_csv('test.csv')\n",
    "#df2"
   ]
  },
  {
   "cell_type": "code",
   "execution_count": null,
   "metadata": {},
   "outputs": [],
   "source": [
    "#from df1 drop sub_are\n",
    "df1 = df1.drop(columns=['sub_area'])\n"
   ]
  },
  {
   "cell_type": "code",
   "execution_count": null,
   "metadata": {},
   "outputs": [],
   "source": [
    "#from df2 drop sub_area and row ID \n",
    "df2 = df2.drop(columns=['sub_area', 'row ID'])"
   ]
  },
  {
   "cell_type": "code",
   "execution_count": null,
   "metadata": {},
   "outputs": [],
   "source": [
    "df2 = df2.drop(columns=[ 'row ID'])"
   ]
  },
  {
   "cell_type": "code",
   "execution_count": 96,
   "metadata": {},
   "outputs": [
    {
     "name": "stdout",
     "output_type": "stream",
     "text": [
      "Poselenie Shhapovskoe             1105\n",
      "Alekseevskoe                      1104\n",
      "Tverskoe                          1101\n",
      "Poselenie Mosrentgen              1099\n",
      "Caricyno                          1097\n",
      "                                  ... \n",
      "Posleenie Novofedorovskoe            3\n",
      "Poseleine Voronovskoe                3\n",
      "Poselenie Mhiajlovo-Jarcevskoe       3\n",
      "Prsopekt Vernadskogo                 2\n",
      "Poselenie Krasnopahorksoe            2\n",
      "Name: sub_area, Length: 1927, dtype: int64\n"
     ]
    }
   ],
   "source": [
    "category_frequencies = df1['sub_area'].value_counts()\n",
    "\n",
    "print(category_frequencies)"
   ]
  },
  {
   "cell_type": "code",
   "execution_count": 97,
   "metadata": {},
   "outputs": [
    {
     "name": "stdout",
     "output_type": "stream",
     "text": [
      "1781\n",
      "1927\n"
     ]
    }
   ],
   "source": [
    "infrequent_categories = category_frequencies[category_frequencies < 900].index.tolist()\n",
    "print(len(infrequent_categories))\n",
    "print(len(category_frequencies))"
   ]
  },
  {
   "cell_type": "code",
   "execution_count": 98,
   "metadata": {},
   "outputs": [
    {
     "name": "stdout",
     "output_type": "stream",
     "text": [
      "147\n"
     ]
    }
   ],
   "source": [
    "df1['sub_area'] = df1['sub_area'].replace(infrequent_categories, 'Other')\n",
    "df2['sub_area'] = df2['sub_area'].replace(infrequent_categories, 'Other')\n",
    "category_frequencies1 = df1['sub_area'].value_counts()\n",
    "print(len(category_frequencies1))"
   ]
  },
  {
   "cell_type": "code",
   "execution_count": 99,
   "metadata": {},
   "outputs": [],
   "source": [
    "df_onehot = pd.get_dummies(df1)\n",
    "df_onehot.dtypes\n",
    "test_onehot = pd.get_dummies(df2)"
   ]
  },
  {
   "cell_type": "code",
   "execution_count": null,
   "metadata": {},
   "outputs": [],
   "source": []
  },
  {
   "cell_type": "code",
   "execution_count": null,
   "metadata": {},
   "outputs": [],
   "source": [
    "print"
   ]
  },
  {
   "cell_type": "code",
   "execution_count": 100,
   "metadata": {},
   "outputs": [
    {
     "name": "stdout",
     "output_type": "stream",
     "text": [
      "(181507, 434)\n"
     ]
    }
   ],
   "source": [
    "X = df_onehot.drop(columns=['price_doc'])\n",
    "print(X.shape)\n",
    "y = df_onehot[['price_doc']]\n",
    "\n",
    "\n",
    "\n",
    "\n"
   ]
  },
  {
   "cell_type": "code",
   "execution_count": 101,
   "metadata": {},
   "outputs": [],
   "source": [
    "scaler = RobustScaler()\n",
    "X_scaled = scaler.fit_transform(X)\n",
    "X_testscaled = scaler.fit_transform(test_onehot)"
   ]
  },
  {
   "cell_type": "code",
   "execution_count": 102,
   "metadata": {},
   "outputs": [],
   "source": [
    "#drop row id from x_testscaled\n",
    "X_testscaled = X_testscaled[:, 1:]\n"
   ]
  },
  {
   "cell_type": "code",
   "execution_count": null,
   "metadata": {},
   "outputs": [],
   "source": [
    "print(X_testscaled.shape)"
   ]
  },
  {
   "cell_type": "code",
   "execution_count": 103,
   "metadata": {},
   "outputs": [],
   "source": [
    "#covert x_scaled to dataframe\n",
    "X_scaled = pd.DataFrame(X_scaled)\n",
    "#convert x_testscaled to dataframe\n",
    "X_testscaled = pd.DataFrame(X_testscaled)\n"
   ]
  },
  {
   "cell_type": "code",
   "execution_count": null,
   "metadata": {},
   "outputs": [],
   "source": [
    "#give me code for feature importance using linear regression\n",
    "model = LinearRegression()\n",
    "model.fit(X_scaled, y)\n",
    "# get importance\n",
    "importance = model.coef_[0]\n",
    "# summarize feature importance\n",
    "for i,v in enumerate(importance):\n",
    "    print('Feature: %0d, Score: %.5f' % (i,v))\n",
    "\n",
    "# drop features with low importance\n",
    "threshold = 100  # Adjust the threshold as needed\n",
    "selected_features = [feature for feature, score in zip(X.columns, importance) if score >= threshold]\n",
    "X_selected = X[selected_features]\n",
    "\n",
    "# plot feature importance\n",
    "plt.bar([x for x in range(len(importance))], importance)\n",
    "plt.show()\n",
    "\n"
   ]
  },
  {
   "cell_type": "code",
   "execution_count": null,
   "metadata": {},
   "outputs": [],
   "source": [
    "from sklearn.decomposition import PCA\n",
    "n_components = 150  # You can choose the number of components based on your requirements\n",
    "pca = PCA(n_components=n_components)\n",
    "\n",
    "# Apply PCA to the training data\n",
    "X_pca = pca.fit_transform(X_scaled)\n",
    "\n",
    "# Apply the same PCA transformation to the test data\n",
    "df2_onehot_pca = pca.transform(X_testscaled)"
   ]
  },
  {
   "cell_type": "code",
   "execution_count": 104,
   "metadata": {},
   "outputs": [],
   "source": [
    "# original_feature_indices = np.arange(X.shape[1])\n",
    "threshold_value = 0.001\n",
    "variance_filter = VarianceThreshold(threshold=threshold_value)\n",
    "\n",
    "# Fit and transform the feature matrix\n",
    "X_filtered = variance_filter.fit_transform(X_scaled)\n",
    "\n",
    "X_test_high_variance = variance_filter.transform(X_testscaled)"
   ]
  },
  {
   "cell_type": "code",
   "execution_count": null,
   "metadata": {},
   "outputs": [],
   "source": [
    "print(X_selected.shape)"
   ]
  },
  {
   "cell_type": "code",
   "execution_count": 105,
   "metadata": {},
   "outputs": [
    {
     "name": "stdout",
     "output_type": "stream",
     "text": [
      "(181507, 434)\n"
     ]
    }
   ],
   "source": [
    "print(X_filtered.shape)"
   ]
  },
  {
   "cell_type": "code",
   "execution_count": null,
   "metadata": {},
   "outputs": [],
   "source": [
    "print(X_test_high_variance.shape)"
   ]
  },
  {
   "cell_type": "code",
   "execution_count": null,
   "metadata": {},
   "outputs": [],
   "source": [
    "#store x_filtered as a df\n",
    "X_filtered = pd.DataFrame(X_filtered)"
   ]
  },
  {
   "cell_type": "code",
   "execution_count": null,
   "metadata": {},
   "outputs": [],
   "source": [
    "#keep only the selected features in the testone hot\n",
    "test_onehot = X_testscaled[X_selected.columns]\n",
    "test_onehot.shape"
   ]
  },
  {
   "cell_type": "code",
   "execution_count": null,
   "metadata": {},
   "outputs": [],
   "source": [
    "from sklearn.preprocessing import MinMaxScaler\n",
    "scaler = MinMaxScaler()\n",
    "X_scaled = scaler.fit_transform(X_selected)\n",
    "test_scaled = scaler.transform(test_onehot)\n",
    "print(test_scaled.shape)"
   ]
  },
  {
   "cell_type": "code",
   "execution_count": null,
   "metadata": {},
   "outputs": [],
   "source": []
  },
  {
   "cell_type": "code",
   "execution_count": null,
   "metadata": {},
   "outputs": [],
   "source": [
    "from sklearn.metrics import mean_squared_error, r2_score"
   ]
  },
  {
   "cell_type": "code",
   "execution_count": null,
   "metadata": {},
   "outputs": [],
   "source": [
    "print(\"Training Set Info:\")\n",
    "print(X.info())\n",
    "\n",
    "print(\"\\nTest Set Info:\")\n",
    "print(test_onehot.info())\n"
   ]
  },
  {
   "cell_type": "code",
   "execution_count": 106,
   "metadata": {},
   "outputs": [
    {
     "name": "stdout",
     "output_type": "stream",
     "text": [
      "0.6408917080858367\n",
      "[[ 1.04796802e+04  2.25970254e+02  1.87332927e+05  9.61639602e+04\n",
      "   2.90857903e+05  1.49098190e+05  6.17123331e+04  2.88755942e+05\n",
      "   1.27101165e+05 -1.37689517e+05 -2.37691860e+05  1.75653281e+05\n",
      "   3.57977687e+05 -6.29029836e+04  1.72839858e+04 -9.37082685e+03\n",
      "   3.23600828e+04  2.60174997e+05  5.81995297e+04 -1.33596050e+04\n",
      "   8.99734588e+04  2.19186603e+04  3.03045339e+04 -6.90118899e+04\n",
      "   2.09299001e+05  7.22331891e+04 -1.53541241e+05 -6.76935664e+04\n",
      "  -1.69977598e+05 -9.79656835e+04  1.22098072e+05 -1.03062693e+05\n",
      "  -4.59790631e+04  2.30793912e+05 -3.81214891e+04  5.83814834e+04\n",
      "  -1.00389781e+05  7.20524340e+04  4.29269488e+04 -1.67215205e+05\n",
      "   2.17864034e+04 -5.72710438e+04  3.47023897e+04 -8.56263750e+04\n",
      "  -2.10722863e+05 -2.15805489e+05  7.67337511e+04 -2.95513418e+04\n",
      "   4.42157720e+04 -1.11830615e+05  1.14808618e+05 -6.24762530e+03\n",
      "   1.35831072e+05 -1.23809421e+05  9.00110925e+04  5.64859864e+04\n",
      "  -1.47516117e+05  1.18211813e+05  6.22084471e+04 -5.00708537e+04\n",
      "   1.17727306e+05  5.65739288e+04  3.93639826e+05  1.67613604e+05\n",
      "   1.57878655e+05 -4.24914621e+04  5.60553902e+04  3.40079791e+04\n",
      "  -6.15382634e+03  1.15732323e+05  1.73514579e+05  1.23117532e+05\n",
      "  -9.64557821e+04  6.63543990e+04  1.19436181e+05  3.90729184e+04\n",
      "  -4.82338469e+04  3.06441843e+04  8.44021601e+04  5.65007987e+04\n",
      "   1.79693557e+05  1.07622121e+04  2.19437398e+04  1.91139706e+05\n",
      "  -1.18004160e+05 -1.94363023e+04  4.39135002e+05  1.36863992e+05\n",
      "   2.48538577e+05  1.13724509e+05  2.32541030e+05  9.87253322e+04\n",
      "   3.69480629e+04 -7.72496594e+04 -1.07132654e+05 -5.69694585e+04\n",
      "   9.51204753e+04  8.17171845e+04  2.20635875e+04 -9.95164255e+04\n",
      "   1.11143557e+05  3.41550555e+04  2.41828946e+05 -1.57269897e+04\n",
      "  -1.04478336e+05 -1.96521235e+04  7.56161636e+04  1.72797756e+04\n",
      "  -2.11462806e+04  1.73489059e+05  3.07704233e+05  9.59548731e+04\n",
      "   2.68770185e+05  3.26317632e+04  1.47003361e+05 -2.27546206e+04\n",
      "   3.90650903e+04  3.49236848e+04  5.53525168e+04  1.73449785e+04\n",
      "   5.22395247e+04  5.86448786e+03  6.13488353e+04  1.92044075e+05\n",
      "   2.31673585e+04  2.15476859e+04  8.40525301e+04  1.23094913e+05\n",
      "   3.14101097e+04 -5.24459166e+04 -5.95583252e+04  5.90491254e+03\n",
      "  -7.47399371e+03  2.99574932e+04 -7.23924131e+03  5.87459676e+03\n",
      "   2.98622442e+04  6.40749331e+04 -3.96688082e+04  2.59316798e+03\n",
      "   4.13977048e+05 -1.21600199e+04  3.96952295e+04  2.10408695e+05\n",
      "   1.97312030e+05  6.73731041e+04  1.16732727e+04  3.32809918e+05\n",
      "   1.34131884e+05  1.49326630e+05  5.46653210e+04 -7.62611318e+04\n",
      "   4.34324752e+04 -7.44280480e+03  1.83235462e+04 -2.83420592e+03\n",
      "  -9.33749695e+03  8.09236890e+04 -3.06823588e+04 -4.53362512e+03\n",
      "   1.35870831e+05  3.59801334e+04 -6.39584299e+04  4.40148567e+05\n",
      "   5.48115901e+04 -1.19964113e+05  1.41232672e+05  1.36083818e+05\n",
      "  -1.28152938e+05  3.39364300e+03 -7.77720455e+04  4.50736390e+05\n",
      "  -3.78948553e+04 -1.49574470e+04 -1.19011467e+05  1.40575513e+04\n",
      "   2.83730183e+04  3.73410803e+04  5.20887118e+04 -1.14496624e+04\n",
      "  -7.69801789e+04  2.42272162e+04  6.65591270e+04  1.54608520e+05\n",
      "   2.32351671e+04 -1.38606136e+04  4.61102195e+04 -2.09843693e+05\n",
      "  -4.47992122e+04 -4.67765760e+04  3.04702896e+04  6.06058357e+04\n",
      "   9.97027897e+04  7.74326482e+03 -4.10223202e+04  1.26577027e+05\n",
      "   2.28430795e+04  6.87455899e+03  3.05835780e+04 -1.92497392e+04\n",
      "  -5.26353391e+04  1.86820214e+03 -4.60393673e+04  4.47432924e+04\n",
      "   3.83318812e+04  1.90762275e+04 -4.24628683e+05  1.73135356e+04\n",
      "   4.89423144e+05 -2.81331381e+05  2.49517163e+04  8.24944711e+04\n",
      "   1.69728401e+04  1.26788625e+05  1.83196039e+05 -1.61506656e+05\n",
      "   1.26598270e+05  2.23232291e+04  5.54460697e+04  5.76039231e+04\n",
      "  -6.38134627e+04  3.59636014e+04  1.68114954e+04 -7.57554193e+02\n",
      "   2.33272027e+04  1.33997016e+04 -8.14989621e+03 -1.41474827e+04\n",
      "   2.55700821e+04 -3.49320358e+05  6.52351832e+03  5.85987765e+04\n",
      "  -1.86224138e+05  5.32124222e+04 -1.38672133e+05  9.70434509e+04\n",
      "   1.19470568e+05  7.41858320e+04  1.28179557e+05 -8.66369039e+04\n",
      "   2.54843175e+04 -2.43051566e+04  7.22163962e+04  5.44173943e+04\n",
      "   1.25217153e+04 -4.04115819e+04 -9.69096860e+03  1.26319809e+04\n",
      "   2.95806978e+04  6.65609054e+03  7.82254240e+04  1.73978831e+05\n",
      "  -1.50909576e+05  1.29571890e+05 -1.41720451e+05  9.03623265e+04\n",
      "  -1.10656113e+12 -1.10655976e+12 -5.18883996e+13 -5.18883991e+13\n",
      "  -5.18884001e+13 -5.18884016e+13 -5.18884039e+13 -5.18883999e+13\n",
      "  -5.18884018e+13 -5.18884021e+13 -5.18883999e+13 -5.18884023e+13\n",
      "  -5.18884044e+13 -5.18884029e+13 -5.18884015e+13 -5.18884005e+13\n",
      "  -5.18884009e+13 -5.18884014e+13 -5.18883981e+13 -5.18884011e+13\n",
      "  -5.18884023e+13 -5.18884007e+13 -5.18884004e+13 -5.18884024e+13\n",
      "  -5.18883974e+13 -5.18883984e+13 -5.18883996e+13 -5.18883990e+13\n",
      "  -5.18883957e+13 -5.18884018e+13 -5.18884017e+13 -5.18883936e+13\n",
      "  -5.18883973e+13 -5.18884002e+13 -5.18883979e+13 -5.18884020e+13\n",
      "  -5.18883999e+13 -5.18884015e+13 -5.18884009e+13 -5.18884007e+13\n",
      "  -5.18884035e+13 -5.18884007e+13 -5.18884003e+13 -5.18884010e+13\n",
      "  -5.18884029e+13 -5.18883996e+13 -5.18883994e+13 -5.18884041e+13\n",
      "  -5.18884002e+13 -5.18884030e+13 -5.18884057e+13 -5.18883949e+13\n",
      "  -5.18883992e+13 -5.18883970e+13 -5.18884010e+13 -5.18884013e+13\n",
      "  -5.18883997e+13 -5.18884007e+13 -5.18884005e+13 -5.18883934e+13\n",
      "  -5.18883996e+13 -5.18884037e+13 -5.18884011e+13 -5.18884006e+13\n",
      "  -5.18884049e+13 -5.18884030e+13 -5.18884016e+13 -5.18884011e+13\n",
      "  -5.18884085e+13 -5.18884003e+13 -5.18884007e+13 -5.18884000e+13\n",
      "  -5.18883994e+13 -5.18883980e+13 -5.18884057e+13 -5.18884011e+13\n",
      "  -5.18884034e+13 -5.18884007e+13 -5.18884009e+13 -5.18883951e+13\n",
      "  -5.18883998e+13 -5.18884018e+13 -5.18884020e+13 -5.18884006e+13\n",
      "  -5.18883803e+13 -5.18884011e+13 -5.18884003e+13 -5.18884008e+13\n",
      "  -5.18883998e+13 -5.18884098e+13 -5.18884112e+13 -5.18884164e+13\n",
      "  -5.18884207e+13 -5.18884100e+13 -5.18884137e+13 -5.18884094e+13\n",
      "  -5.18884183e+13 -5.18884051e+13 -5.18884040e+13 -5.18884212e+13\n",
      "  -5.18884119e+13 -5.18884059e+13 -5.18884267e+13 -5.18884134e+13\n",
      "  -5.18884052e+13 -5.18884066e+13 -5.18884046e+13 -5.18884201e+13\n",
      "  -5.18884053e+13 -5.18884015e+13 -5.18883988e+13 -5.18883953e+13\n",
      "  -5.18883963e+13 -5.18884001e+13 -5.18884006e+13 -5.18884059e+13\n",
      "  -5.18884012e+13 -5.18884015e+13 -5.18884021e+13 -5.18884008e+13\n",
      "  -5.18883997e+13 -5.18883999e+13 -5.18883995e+13 -5.18884050e+13\n",
      "  -5.18883975e+13 -5.18883985e+13 -5.18884010e+13 -5.18884039e+13\n",
      "  -5.18884054e+13 -5.18884001e+13 -5.18883997e+13 -5.18884033e+13\n",
      "  -5.18883993e+13 -5.18884000e+13 -5.18884003e+13 -5.18884099e+13\n",
      "  -5.18883981e+13 -5.18884143e+13 -5.18884019e+13 -5.18884052e+13\n",
      "  -5.18883980e+13 -5.18884041e+13 -5.18884007e+13 -5.18884022e+13\n",
      "  -5.18884029e+13 -5.18883982e+13 -5.18884029e+13 -5.18884005e+13\n",
      "  -5.18883973e+13 -3.10439813e+12 -3.10439789e+12  4.75226824e+12\n",
      "   4.75226801e+12 -6.64167615e+12 -6.64167554e+12  1.08875712e+13\n",
      "   1.08875712e+13  3.18092588e+12  3.18092575e+12 -7.27401113e+12\n",
      "  -7.27401047e+12  6.27444193e+12  6.27444199e+12 -4.77912926e+12\n",
      "  -4.77912881e+12 -5.17907907e+12 -5.17907961e+12 -2.70057067e+12\n",
      "  -2.70057040e+12  5.26764558e+11  5.26765005e+11 -4.48283483e+12\n",
      "  -4.48283498e+12  1.12660086e+16  1.12660086e+16  1.12660086e+16\n",
      "   1.12660086e+16  1.12660086e+16]]\n",
      "[-1.12141202e+16]\n"
     ]
    }
   ],
   "source": [
    "\n",
    "#print(\"Mean squared error: %.2f\" % mean_squared_error(test_onehot, md_probs))"
   ]
  },
  {
   "cell_type": "code",
   "execution_count": null,
   "metadata": {},
   "outputs": [],
   "source": []
  },
  {
   "cell_type": "code",
   "execution_count": 107,
   "metadata": {},
   "outputs": [],
   "source": [
    "additional_data = pd.read_csv(\"test.csv\")\n",
    "\n",
    "# Create a DataFrame with 'row ID' and predicted values\n",
    "predicted_df = pd.DataFrame({\n",
    "    'row ID': additional_data['row ID'],\n",
    "    'price_doc': md_probs[:,0]  # Replace with the actual column name for your predictions\n",
    "})\n",
    "\n",
    "# Save the DataFrame to a new CSV file\n",
    "predicted_df.to_csv('predictions15.csv', index=False)"
   ]
  }
 ],
 "metadata": {
  "kernelspec": {
   "display_name": "base",
   "language": "python",
   "name": "python3"
  },
  "language_info": {
   "codemirror_mode": {
    "name": "ipython",
    "version": 3
   },
   "file_extension": ".py",
   "mimetype": "text/x-python",
   "name": "python",
   "nbconvert_exporter": "python",
   "pygments_lexer": "ipython3",
   "version": "3.10.9"
  }
 },
 "nbformat": 4,
 "nbformat_minor": 2
}
