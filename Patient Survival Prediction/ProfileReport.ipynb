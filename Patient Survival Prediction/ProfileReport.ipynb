{
 "cells": [
  {
   "cell_type": "code",
   "execution_count": null,
   "metadata": {},
   "outputs": [],
   "source": [
    "import pandas as pd\n",
    "from ydata_profiling import ProfileReport\n",
    "\n",
    "# Load your dataset (replace \"train.csv\" with your actual dataset file)\n",
    "df = pd.read_csv(\"train.csv\")\n",
    "\n",
    "# Create a profile report with an empty configuration file\n",
    "profile = ProfileReport(df, title=\"Dataset Profile Report\", explorative=True, config_file=\"\")\n",
    "\n",
    "profile.to_file(\"report.html\")\n",
    "\n",
    "import webbrowser\n",
    "webbrowser.open(\"report.html\")"
   ]
  }
 ],
 "metadata": {
  "kernelspec": {
   "display_name": "pandas_prof",
   "language": "python",
   "name": "python3"
  },
  "language_info": {
   "codemirror_mode": {
    "name": "ipython",
    "version": 3
   },
   "file_extension": ".py",
   "mimetype": "text/x-python",
   "name": "python",
   "nbconvert_exporter": "python",
   "pygments_lexer": "ipython3",
   "version": "3.11.5"
  },
  "orig_nbformat": 4
 },
 "nbformat": 4,
 "nbformat_minor": 2
}
