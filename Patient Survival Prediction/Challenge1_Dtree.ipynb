{
 "cells": [
  {
   "cell_type": "code",
   "execution_count": null,
   "metadata": {},
   "outputs": [],
   "source": [
    "import sklearn\n",
    "sklearn.__version__"
   ]
  },
  {
   "cell_type": "code",
   "execution_count": null,
   "metadata": {},
   "outputs": [],
   "source": [
    "import pandas as pd   \n",
    "from matplotlib import pyplot\n",
    "from numpy import mean\n",
    "import time\n",
    "\n",
    "\n",
    "\n",
    "from sklearn.tree import DecisionTreeClassifier\n",
    "from sklearn.neighbors import KNeighborsClassifier\n",
    "\n",
    "from sklearn.model_selection import train_test_split, RepeatedKFold, GridSearchCV, cross_val_score\n",
    "from sklearn.metrics import roc_curve, roc_auc_score\n",
    "from sklearn.preprocessing import MinMaxScaler\n",
    "from sklearn.preprocessing import LabelEncoder\n",
    "from sklearn.pipeline import Pipeline\n",
    "\n",
    "\n",
    "import warnings \n",
    "warnings.filterwarnings('ignore')"
   ]
  },
  {
   "cell_type": "code",
   "execution_count": null,
   "metadata": {},
   "outputs": [],
   "source": [
    "df1 = pd.read_csv(\"train.csv\")\n",
    "df1.head()"
   ]
  },
  {
   "cell_type": "code",
   "execution_count": null,
   "metadata": {},
   "outputs": [],
   "source": [
    "df1.shape"
   ]
  },
  {
   "cell_type": "code",
   "execution_count": null,
   "metadata": {},
   "outputs": [],
   "source": [
    "##df3 = df1.fillna(df1.mean())\n",
    "##df3"
   ]
  },
  {
   "cell_type": "code",
   "execution_count": null,
   "metadata": {},
   "outputs": [],
   "source": [
    "##df3.head()"
   ]
  },
  {
   "cell_type": "code",
   "execution_count": null,
   "metadata": {},
   "outputs": [],
   "source": [
    "df2 = pd.read_csv('test.csv')\n",
    "df2\n",
    "\n"
   ]
  },
  {
   "cell_type": "code",
   "execution_count": null,
   "metadata": {},
   "outputs": [],
   "source": [
    "##df4 = df2.fillna(df2.mean())"
   ]
  },
  {
   "cell_type": "code",
   "execution_count": null,
   "metadata": {},
   "outputs": [],
   "source": [
    "##df4.isnull().sum()"
   ]
  },
  {
   "cell_type": "code",
   "execution_count": null,
   "metadata": {},
   "outputs": [],
   "source": [
    "##df3.isnull().sum()"
   ]
  },
  {
   "cell_type": "code",
   "execution_count": null,
   "metadata": {},
   "outputs": [],
   "source": [
    "df_onehot = pd.get_dummies(df1)\n",
    "df_onehot.dtypes\n",
    "test_onehot = pd.get_dummies(df2)\n",
    "\n",
    "\n",
    "\n",
    "\n"
   ]
  },
  {
   "cell_type": "code",
   "execution_count": null,
   "metadata": {},
   "outputs": [],
   "source": [
    "from sklearn.preprocessing import LabelEncoder\n",
    "\n",
    "# Initialize the LabelEncoder\n",
    "label_encoders ={}\n",
    "\n",
    "# Apply label encoding to the categorical columns in your DataFrame\n",
    "categorical_columns = ['ethnicity', 'gender','icu_admit_source','icu_stay_type','icu_type','apache_3j_bodysystem','apache_2_bodysystem', 'elective_surgery','apache_post_operative','gcs_eyes_apache','gcs_unable_apache','gcs_verbal_apache','intubated_apache','ventilated_apache','immunosuppression','solid_tumor_with_metastasis']\n",
    "  # Replace with your column names\n",
    "for column in categorical_columns:\n",
    "    label_encoder = LabelEncoder()\n",
    "    df1[column] = label_encoder.fit_transform(df1[column].values)\n",
    "    label_encoders[column] = label_encoder\n",
    "\n",
    "# Now, the categorical columns in both DataFrames are label-encoded\n"
   ]
  },
  {
   "cell_type": "code",
   "execution_count": null,
   "metadata": {},
   "outputs": [],
   "source": [
    "from sklearn.preprocessing import LabelEncoder\n",
    "\n",
    "# Initialize the LabelEncoder\n",
    "label_encoders_test ={}\n",
    "\n",
    "# Apply label encoding to the categorical columns in your DataFrame\n",
    "categorical_columns = ['ethnicity', 'gender','icu_admit_source','icu_stay_type','icu_type','apache_3j_bodysystem','apache_2_bodysystem', 'elective_surgery','apache_post_operative','gcs_eyes_apache','gcs_unable_apache','gcs_verbal_apache','intubated_apache','ventilated_apache','immunosuppression','solid_tumor_with_metastasis']\n",
    "  # Replace with your column names\n",
    "for column in categorical_columns:\n",
    "    label_encoder = LabelEncoder()\n",
    "    df2[column] = label_encoder.fit_transform(df2[column].values)\n",
    "    label_encoders_test[column] = label_encoder\n",
    "\n",
    "\n",
    "# Now, the categorical columns in both DataFrames are label-encoded\n"
   ]
  },
  {
   "cell_type": "code",
   "execution_count": null,
   "metadata": {},
   "outputs": [],
   "source": [
    "#output all columns of dfone hot\n",
    "df_onehot.columns"
   ]
  },
  {
   "cell_type": "code",
   "execution_count": null,
   "metadata": {},
   "outputs": [],
   "source": [
    "df1.dtypes"
   ]
  },
  {
   "cell_type": "code",
   "execution_count": null,
   "metadata": {},
   "outputs": [],
   "source": [
    "X = df_onehot.drop(columns=['hospital_death','RecordID','hospital_id','icu_id','ethnicity_African American','ethnicity_Asian','ethnicity_Caucasian','ethnicity_Hispanic','ethnicity_Native American','ethnicity_Other/Unknown','gender_F','gender_M','icu_admit_source_Accident & Emergency','icu_admit_source_Other ICU','icu_stay_type_readmit','icu_type_CTICU','icu_type_Med-Surg ICU','icu_type_Neuro ICU','apache_3j_bodysystem_Cardiovascular','apache_3j_bodysystem_Hematological','apache_2_bodysystem_Haematologic','apache_2_bodysystem_Undefined Diagnoses','h1_spo2_max','immunosuppression_0','immunosuppression_1','icu_admit_source_Other Hospital','icu_stay_type_admit','icu_stay_type_transfer','icu_type_CCU-CTICU','icu_type_CSICU','icu_type_Cardiac ICU','icu_type_MICU','icu_type_SICU','apache_3j_bodysystem_Gastrointestinal','apache_3j_bodysystem_Genitourinary','apache_3j_bodysystem_Gynecological','apache_3j_bodysystem_Musculoskeletal/Skin','apache_3j_bodysystem_Neurological','apache_3j_bodysystem_Respiratory','apache_3j_bodysystem_Trauma','apache_2_bodysystem_Neurologic','apache_2_bodysystem_Renal/Genitourinary','apache_2_bodysystem_Respiratory','apache_2_bodysystem_Trauma','apache_2_bodysystem_Undefined diagnoses','pre_icu_los_days','apache_2_diagnosis','apache_3j_diagnosis','resprate_apache','h1_heartrate_min','h1_mbp_max','h1_mbp_noninvasive_max','h1_sysbp_max','h1_sysbp_noninvasive_max','d1_glucose_max','solid_tumor_with_metastasis_0','solid_tumor_with_metastasis_1','icu_admit_source_Floor','icu_admit_source_Operating Room / Recovery','icu_admit_source_Other Hospital','apache_3j_bodysystem_Metabolic','apache_3j_bodysystem_Sepsis','apache_2_bodysystem_Cardiovascular','apache_2_bodysystem_Metabolic'])\n",
    "y = df_onehot[['hospital_death']]\n",
    "\n",
    "df2_encoded = test_onehot.drop(columns=['RecordID','hospital_id','icu_id','ethnicity_African American','ethnicity_Asian','ethnicity_Caucasian','ethnicity_Hispanic','ethnicity_Native American','ethnicity_Other/Unknown','gender_F','gender_M','icu_admit_source_Accident & Emergency','icu_admit_source_Other ICU','icu_stay_type_readmit','icu_type_CTICU','icu_type_Med-Surg ICU','icu_type_Neuro ICU','apache_3j_bodysystem_Cardiovascular','apache_3j_bodysystem_Hematological','apache_2_bodysystem_Haematologic','apache_2_bodysystem_Undefined Diagnoses','h1_spo2_max','immunosuppression_0','immunosuppression_1','icu_admit_source_Other Hospital','icu_stay_type_admit','icu_stay_type_transfer','icu_type_CCU-CTICU','icu_type_CSICU','icu_type_Cardiac ICU','icu_type_MICU','icu_type_SICU','apache_3j_bodysystem_Gastrointestinal','apache_3j_bodysystem_Genitourinary','apache_3j_bodysystem_Gynecological','apache_3j_bodysystem_Musculoskeletal/Skin','apache_3j_bodysystem_Neurological','apache_3j_bodysystem_Respiratory','apache_3j_bodysystem_Trauma','apache_2_bodysystem_Neurologic','apache_2_bodysystem_Renal/Genitourinary','apache_2_bodysystem_Respiratory','apache_2_bodysystem_Trauma','apache_2_bodysystem_Undefined diagnoses','pre_icu_los_days','apache_2_diagnosis','apache_3j_diagnosis','resprate_apache','h1_heartrate_min','h1_mbp_max','h1_mbp_noninvasive_max','h1_sysbp_max','h1_sysbp_noninvasive_max','d1_glucose_max','solid_tumor_with_metastasis_0','solid_tumor_with_metastasis_1','icu_admit_source_Floor','icu_admit_source_Operating Room / Recovery','icu_admit_source_Other Hospital','apache_3j_bodysystem_Metabolic','apache_3j_bodysystem_Sepsis','apache_2_bodysystem_Cardiovascular','apache_2_bodysystem_Metabolic'])\n"
   ]
  },
  {
   "cell_type": "code",
   "execution_count": null,
   "metadata": {},
   "outputs": [],
   "source": [
    "from sklearn.feature_selection import SequentialFeatureSelector\n",
    "\n",
    "sfs_forward = SequentialFeatureSelector(DecisionTreeClassifier(max_depth= 7, min_samples_split= 5, min_samples_leaf=300),\n",
    "                                        n_features_to_select=15,\n",
    "                                        direction='forward',\n",
    "                                        scoring='roc_auc').fit(X,y)"
   ]
  },
  {
   "cell_type": "code",
   "execution_count": null,
   "metadata": {},
   "outputs": [],
   "source": [
    "col = sfs_forward.get_support(indices=True)\n",
    "df_new = df1.iloc[:,col]\n",
    "df_new.columns"
   ]
  },
  {
   "cell_type": "code",
   "execution_count": null,
   "metadata": {},
   "outputs": [],
   "source": [
    "X = df1.drop(columns=['hospital_death'])  # Exclude the target column\n",
    "y = df1[['hospital_death']]"
   ]
  },
  {
   "cell_type": "code",
   "execution_count": null,
   "metadata": {},
   "outputs": [],
   "source": [
    "print(y['hospital_death'].value_counts())"
   ]
  },
  {
   "cell_type": "code",
   "execution_count": null,
   "metadata": {},
   "outputs": [],
   "source": [
    "trainX, testX, trainy, testy = train_test_split(X, y, test_size=0.3, random_state=2)"
   ]
  },
  {
   "cell_type": "code",
   "execution_count": null,
   "metadata": {},
   "outputs": [],
   "source": [
    "from sklearn.feature_selection import SelectKBest, f_classif\n",
    "\n",
    "k_best_selector = SelectKBest(score_func=f_classif, k=47)\n",
    "X_train_selected = k_best_selector.fit_transform(X, y)\n",
    "X_test_selected = k_best_selector.transform(df2_encoded)"
   ]
  },
  {
   "cell_type": "code",
   "execution_count": null,
   "metadata": {},
   "outputs": [],
   "source": [
    "dt_5_5 = DecisionTreeClassifier(max_depth=7, min_samples_split= 5 , min_samples_leaf=300)  \n",
    "dt_5_5.fit(X,y)\n",
    "#fit_model(dt_5_2, \"Depth 5 Split 2\") \n",
    "md_probs = dt_5_5.predict_proba(df2_encoded)\n",
    "\n",
    "\n",
    "\n",
    "\n",
    "\n"
   ]
  },
  {
   "cell_type": "code",
   "execution_count": null,
   "metadata": {},
   "outputs": [],
   "source": [
    "md_probs"
   ]
  },
  {
   "cell_type": "code",
   "execution_count": null,
   "metadata": {},
   "outputs": [],
   "source": [
    "md_probs = md_probs[:,1]\n",
    "additional_data = pd.read_csv(\"test.csv\")\n",
    "predicted_df = pd.DataFrame(md_probs, columns=['hospital_death'])\n",
    "predicted_df.to_csv('prediction21.csv', index=False)\n",
    "\n",
    "md_probs"
   ]
  },
  {
   "cell_type": "code",
   "execution_count": null,
   "metadata": {},
   "outputs": [],
   "source": [
    "md_auc = roc_auc_score(X_test_selected, md_probs)\n",
    "md_auc"
   ]
  },
  {
   "cell_type": "code",
   "execution_count": null,
   "metadata": {},
   "outputs": [],
   "source": [
    "def fit_model(model, model_name):\n",
    "    model.fit(trainX,trainy)\n",
    "    md_probs = model.predict_proba(testX)\n",
    "    md_probs = md_probs[:,1]\n",
    "    md_auc = roc_auc_score(testy, md_probs)\n",
    "    print(model_name, \" : \", md_auc)\n",
    "    md_fpr, md_tpr, _ = roc_curve(testy, md_probs)\n",
    "    pyplot.plot(md_fpr, md_tpr, marker='.', label=model_name)\n",
    "    #return (md_fpr, md_tpr)"
   ]
  },
  {
   "cell_type": "code",
   "execution_count": null,
   "metadata": {},
   "outputs": [],
   "source": [
    "trainX, testX, trainy, testy = train_test_split(X, y, test_size=0.3)#, random_state=2)\n",
    "dt_5_2 = DecisionTreeClassifier(max_depth=5)  \n",
    "fit_model(dt_5_2, \"Depth 5 Split 2\") \n",
    "\n",
    "dt_7_2 = DecisionTreeClassifier(max_depth=7)  \n",
    "fit_model(dt_7_2, \"Depth 7 Split 2\") \n",
    "\n",
    "dt_5_5 = DecisionTreeClassifier(max_depth=5, min_samples_split=5)  \n",
    "fit_model(dt_5_5, \"Depth 5 Split 5\") \n",
    "\n",
    "dt_7_5 = DecisionTreeClassifier(max_depth=7, min_samples_split=5)  \n",
    "fit_model(dt_7_5, \"Depth 7 Split 5\") \n",
    "\n",
    "dt_3_2 = DecisionTreeClassifier(max_depth=3, min_samples_split=2)  \n",
    "fit_model(dt_3_2, \"Depth 3 Split 2\") \n",
    "\n",
    "dt_3_5 = DecisionTreeClassifier(max_depth=3, min_samples_split=5)  \n",
    "fit_model(dt_3_5, \"Depth 3 Split 5\") \n",
    "\n",
    "#kn = KNeighborsClassifier(n_neighbors=5)\n",
    "#fit_model(kn, \"k-NN\")\n",
    "\n",
    "#pipe_kn = Pipeline([(\"scaler\", MinMaxScaler()), (\"knr\", KNeighborsClassifier(n_neighbors=5))])\n",
    "#fit_model(pipe_kn, \"Scaled k-NN\")\n",
    "\n",
    "pyplot.xlabel('False Positive Rate')\n",
    "pyplot.ylabel('True Positive Rate')\n",
    "# show the legend\n",
    "pyplot.legend()\n",
    "# show the plot\n",
    "pyplot.show()"
   ]
  },
  {
   "cell_type": "code",
   "execution_count": null,
   "metadata": {},
   "outputs": [],
   "source": [
    "def fitting_models_CV2():\n",
    "    cv = RepeatedKFold(n_splits=10, n_repeats=2)#, random_state=1)\n",
    "    \n",
    "    dt_5_2 = DecisionTreeClassifier(max_depth=5)  \n",
    "    dt_7_2 = DecisionTreeClassifier(max_depth=7)  \n",
    "    dt_5_5 = DecisionTreeClassifier(max_depth=5, min_samples_split=5)  \n",
    "    dt_7_5 = DecisionTreeClassifier(max_depth=7, min_samples_split=5)  \n",
    "    #kn = KNeighborsClassifier(n_neighbors=5)\n",
    "    #pipe_kn = Pipeline([(\"scaler\", MinMaxScaler()), \n",
    "    #                     (\"knr\", KNeighborsClassifier(n_neighbors=5))])\n",
    "    clfs = [('Depth 5 Split 2', dt_5_2),        \n",
    "        ('Depth 7 Split 2', dt_7_2),        \n",
    "        ('Depth 5 Split 5', dt_5_5),\n",
    "        ('Depth 7 Split 5', dt_7_5)\n",
    "        #('KNearest Neighbor',kn),\n",
    "        #('Scaled KNearest',pipe_kn)       \n",
    "    ]\n",
    "    for name,clf in clfs:\n",
    "        start = time.perf_counter()\n",
    "        #scores = cross_val_score(clf, X, y, scoring=\"accuracy\", cv=cv) \n",
    "        scores = cross_val_score(clf, X, y, scoring=\"roc_auc\", cv=cv, n_jobs=-1) \n",
    "        end = time.perf_counter()        \n",
    "        score = format(mean(scores), '.4f')\n",
    "        duration = format((end-start),'.4f')\n",
    "        print(\"{} : {} - {}\".format(name,score,duration))"
   ]
  },
  {
   "cell_type": "code",
   "execution_count": null,
   "metadata": {},
   "outputs": [],
   "source": [
    "fitting_models_CV2()"
   ]
  },
  {
   "cell_type": "code",
   "execution_count": null,
   "metadata": {},
   "outputs": [],
   "source": [
    "%%timeit -n1 -r1\n",
    "parameters = {     \n",
    "                'min_samples_split' : [2,5,8, 10],#,400],\n",
    "                'max_depth'    : [3,5,7,9,11],\n",
    "                \n",
    "                }\n",
    "dt = DecisionTreeClassifier()\n",
    "cv = RepeatedKFold(n_splits=10, n_repeats=1)#, random_state=1)\n",
    "grid_search = GridSearchCV(dt, parameters, cv=cv, n_jobs=-1, scoring='roc_auc',verbose=2)#, refit=False)\n",
    "grid_search.fit(X, y)\n",
    "print(grid_search.best_estimator_)\n",
    "print(grid_search.best_score_)\n",
    "print(grid_search.best_params_)"
   ]
  },
  {
   "cell_type": "code",
   "execution_count": null,
   "metadata": {},
   "outputs": [],
   "source": [
    "from sklearn.metrics import accuracy_score\n",
    "from sklearn.metrics import confusion_matrix\n",
    "y_pred = dt_5_5.predict(testX)\n",
    "accuracy = accuracy_score(testy, y_pred)\n",
    "print(confusion_matrix(testy,y_pred))\n",
    "print(accuracy)"
   ]
  }
 ],
 "metadata": {
  "kernelspec": {
   "display_name": "base",
   "language": "python",
   "name": "python3"
  },
  "language_info": {
   "codemirror_mode": {
    "name": "ipython",
    "version": 3
   },
   "file_extension": ".py",
   "mimetype": "text/x-python",
   "name": "python",
   "nbconvert_exporter": "python",
   "pygments_lexer": "ipython3",
   "version": "3.10.9"
  },
  "orig_nbformat": 4
 },
 "nbformat": 4,
 "nbformat_minor": 2
}
