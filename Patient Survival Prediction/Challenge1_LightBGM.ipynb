{
 "cells": [
  {
   "cell_type": "code",
   "execution_count": 47,
   "metadata": {},
   "outputs": [],
   "source": [
    "import pandas as pd   \n",
    "from matplotlib import pyplot\n",
    "from numpy import mean\n",
    "import time\n",
    "\n",
    "\n",
    "\n",
    "from sklearn.tree import DecisionTreeClassifier\n",
    "from sklearn.neighbors import KNeighborsClassifier\n",
    "\n",
    "from sklearn.model_selection import train_test_split, RepeatedKFold, GridSearchCV, cross_val_score\n",
    "from sklearn.metrics import roc_curve, roc_auc_score\n",
    "from sklearn.preprocessing import MinMaxScaler\n",
    "from sklearn.preprocessing import LabelEncoder\n",
    "from sklearn.pipeline import Pipeline\n",
    "from sklearn.preprocessing import StandardScaler\n",
    "from sklearn.impute import KNNImputer\n",
    "from sklearn.ensemble import RandomForestClassifier, GradientBoostingClassifier, AdaBoostClassifier, BaggingClassifier\n",
    "from catboost import CatBoostClassifier\n",
    "import xgboost as xgb\n",
    "import lightgbm as lgb\n",
    "\n",
    "import warnings \n",
    "warnings.filterwarnings('ignore')"
   ]
  },
  {
   "cell_type": "code",
   "execution_count": 48,
   "metadata": {},
   "outputs": [],
   "source": [
    "df1 = pd.read_csv(\"train.csv\")\n",
    "#df1.head()"
   ]
  },
  {
   "cell_type": "code",
   "execution_count": 49,
   "metadata": {},
   "outputs": [],
   "source": [
    "df2 = pd.read_csv('test.csv')\n",
    "#df2"
   ]
  },
  {
   "cell_type": "code",
   "execution_count": 50,
   "metadata": {},
   "outputs": [],
   "source": [
    "#Imputer for categorical columns with most frequent value\n",
    "from sklearn.impute import SimpleImputer\n",
    "Cat_columns =['ethnicity', 'gender','icu_admit_source','icu_stay_type','icu_type','apache_3j_bodysystem','apache_2_bodysystem', 'elective_surgery','apache_post_operative','gcs_eyes_apache','gcs_unable_apache','gcs_verbal_apache','intubated_apache','ventilated_apache','immunosuppression','solid_tumor_with_metastasis']\n",
    "imputer = SimpleImputer(strategy='most_frequent')\n",
    "df1[Cat_columns] = imputer.fit_transform(df1[Cat_columns])\n",
    "\n",
    "\n",
    "#Imputer for categorical columns with most frequent value\n",
    "from sklearn.impute import SimpleImputer\n",
    "Cat_columns =['ethnicity', 'gender','icu_admit_source','icu_stay_type','icu_type','apache_3j_bodysystem','apache_2_bodysystem', 'elective_surgery','apache_post_operative','gcs_eyes_apache','gcs_unable_apache','gcs_verbal_apache','intubated_apache','ventilated_apache','immunosuppression','solid_tumor_with_metastasis']\n",
    "imputer = SimpleImputer(strategy='most_frequent')\n",
    "df2[Cat_columns] = imputer.fit_transform(df2[Cat_columns])\n",
    "\n",
    "from sklearn.impute import SimpleImputer\n",
    "Cat_columns =['RecordID', 'hospital_id','icu_id','heart_rate_apache','resprate_apache','d1_diasbp_min','d1_diasbp_noninvasive_min','d1_sysbp_min','h1_diasbp_min','h1_diasbp_noninvasive_min','h1_heartrate_max','h1_heartrate_min','h1_mbp_min','h1_mbp_noninvasive_max','h1_mbp_noninvasive_min','h1_sysbp_max','h1_sysbp_min','h1_sysbp_noninvasive_min']\n",
    "imputer = SimpleImputer(strategy='mean')\n",
    "df1[Cat_columns] = imputer.fit_transform(df1[Cat_columns])\n",
    "\n",
    "from sklearn.impute import SimpleImputer\n",
    "Cat_columns =['RecordID', 'hospital_id','icu_id','heart_rate_apache','resprate_apache','d1_diasbp_min','d1_diasbp_noninvasive_min','d1_sysbp_min','h1_diasbp_min','h1_diasbp_noninvasive_min','h1_heartrate_max','h1_heartrate_min','h1_mbp_min','h1_mbp_noninvasive_max','h1_mbp_noninvasive_min','h1_sysbp_max','h1_sysbp_min','h1_sysbp_noninvasive_min']\n",
    "imputer = SimpleImputer(strategy='mean')\n",
    "df2[Cat_columns] = imputer.fit_transform(df2[Cat_columns])\n",
    "\n",
    "\n",
    "from sklearn.impute import SimpleImputer\n",
    "Cat_columns =['age', 'pre_icu_los_days','apache_2_diagnosis','apache_3j_diagnosis','gcs_motor_apache','temp_apache','d1_heartrate_max','d1_mbp_min','d1_mbp_noninvasive_min','d1_resprate_max','d1_spo2_min','d1_sysbp_noninvasive_min','d1_temp_min','h1_mbp_max','h1_resprate_max','h1_resprate_min','h1_spo2_max','h1_spo2_min','h1_sysbp_noninvasive_max','d1_glucose_max','d1_potassium_max','apache_4a_hospital_death_prob','apache_4a_icu_death_prob']\n",
    "imputer = SimpleImputer(strategy='median')\n",
    "df1[Cat_columns] = imputer.fit_transform(df1[Cat_columns])\n",
    "\n",
    "from sklearn.impute import SimpleImputer\n",
    "Cat_columns =['age', 'pre_icu_los_days','apache_2_diagnosis','apache_3j_diagnosis','gcs_motor_apache','temp_apache','d1_heartrate_max','d1_mbp_min','d1_mbp_noninvasive_min','d1_resprate_max','d1_spo2_min','d1_sysbp_noninvasive_min','d1_temp_min','h1_mbp_max','h1_resprate_max','h1_resprate_min','h1_spo2_max','h1_spo2_min','h1_sysbp_noninvasive_max','d1_glucose_max','d1_potassium_max','apache_4a_hospital_death_prob','apache_4a_icu_death_prob']\n",
    "imputer = SimpleImputer(strategy='median')\n",
    "df2[Cat_columns] = imputer.fit_transform(df2[Cat_columns])\n",
    "\n"
   ]
  },
  {
   "cell_type": "code",
   "execution_count": null,
   "metadata": {},
   "outputs": [],
   "source": [
    "from sklearn.preprocessing import LabelEncoder\n",
    "\n",
    "# Initialize the LabelEncoder\n",
    "label_encoders ={}\n",
    "\n",
    "# Apply label encoding to the categorical columns in your DataFrame\n",
    "categorical_columns = ['ethnicity', 'gender','icu_admit_source','icu_stay_type','icu_type','apache_3j_bodysystem','apache_2_bodysystem', 'elective_surgery','apache_post_operative','gcs_eyes_apache','gcs_unable_apache','gcs_verbal_apache','intubated_apache','ventilated_apache','immunosuppression','solid_tumor_with_metastasis']\n",
    "  # Replace with your column names\n",
    "for column in categorical_columns:\n",
    "    label_encoder = LabelEncoder()\n",
    "    df1[column] = label_encoder.fit_transform(df1[column].values)\n",
    "    label_encoders[column] = label_encoder\n",
    "\n",
    "# Now, the categorical columns in both DataFrames are label-encoded\n"
   ]
  },
  {
   "cell_type": "code",
   "execution_count": null,
   "metadata": {},
   "outputs": [],
   "source": [
    "from sklearn.preprocessing import LabelEncoder\n",
    "\n",
    "# Initialize the LabelEncoder\n",
    "label_encoders_test ={}\n",
    "\n",
    "# Apply label encoding to the categorical columns in your DataFrame\n",
    "categorical_columns = ['ethnicity', 'gender','icu_admit_source','icu_stay_type','icu_type','apache_3j_bodysystem','apache_2_bodysystem', 'elective_surgery','apache_post_operative','gcs_eyes_apache','gcs_unable_apache','gcs_verbal_apache','intubated_apache','ventilated_apache','immunosuppression','solid_tumor_with_metastasis']\n",
    "  # Replace with your column names\n",
    "for column in categorical_columns:\n",
    "    label_encoder = LabelEncoder()\n",
    "    df2[column] = label_encoder.fit_transform(df2[column].values)\n",
    "    label_encoders_test[column] = label_encoder\n",
    "\n",
    "\n",
    "# Now, the categorical columns in both DataFrames are label-encoded\n"
   ]
  },
  {
   "cell_type": "code",
   "execution_count": 51,
   "metadata": {},
   "outputs": [],
   "source": [
    "df_onehot = pd.get_dummies(df1)\n",
    "df_onehot.dtypes\n",
    "test_onehot = pd.get_dummies(df2)\n",
    "\n",
    "\n",
    "\n",
    "\n"
   ]
  },
  {
   "cell_type": "code",
   "execution_count": null,
   "metadata": {},
   "outputs": [],
   "source": [
    "X = df_onehot.drop(columns=['hospital_death','RecordID','hospital_id','icu_id','ethnicity_African American','ethnicity_Asian','ethnicity_Caucasian','ethnicity_Hispanic','ethnicity_Native American','ethnicity_Other/Unknown','gender_F','gender_M','icu_admit_source_Accident & Emergency','icu_admit_source_Other ICU','icu_stay_type_readmit','icu_type_CTICU','icu_type_Med-Surg ICU','icu_type_Neuro ICU','apache_3j_bodysystem_Cardiovascular','apache_3j_bodysystem_Hematological','apache_2_bodysystem_Haematologic','apache_2_bodysystem_Undefined Diagnoses','h1_spo2_max','immunosuppression_0','immunosuppression_1','icu_admit_source_Other Hospital','icu_stay_type_admit','icu_stay_type_transfer','icu_type_CCU-CTICU','icu_type_CSICU','icu_type_Cardiac ICU','icu_type_MICU','icu_type_SICU','apache_3j_bodysystem_Gastrointestinal','apache_3j_bodysystem_Genitourinary','apache_3j_bodysystem_Gynecological','apache_3j_bodysystem_Musculoskeletal/Skin','apache_3j_bodysystem_Neurological','apache_3j_bodysystem_Respiratory','apache_3j_bodysystem_Trauma','apache_2_bodysystem_Neurologic','apache_2_bodysystem_Renal/Genitourinary','apache_2_bodysystem_Respiratory','apache_2_bodysystem_Trauma','apache_2_bodysystem_Undefined diagnoses','pre_icu_los_days','apache_2_diagnosis','apache_3j_diagnosis','resprate_apache','h1_heartrate_min','h1_mbp_max','h1_mbp_noninvasive_max','h1_sysbp_max','h1_sysbp_noninvasive_max','d1_glucose_max','solid_tumor_with_metastasis_0','solid_tumor_with_metastasis_1','icu_admit_source_Floor','icu_admit_source_Operating Room / Recovery','icu_admit_source_Other Hospital','apache_3j_bodysystem_Metabolic','apache_3j_bodysystem_Sepsis','apache_2_bodysystem_Cardiovascular','apache_2_bodysystem_Metabolic'])\n",
    "y = df_onehot[['hospital_death']]\n",
    "\n",
    "df2_encoded = test_onehot.drop(columns=['RecordID','hospital_id','icu_id','ethnicity_African American','ethnicity_Asian','ethnicity_Caucasian','ethnicity_Hispanic','ethnicity_Native American','ethnicity_Other/Unknown','gender_F','gender_M','icu_admit_source_Accident & Emergency','icu_admit_source_Other ICU','icu_stay_type_readmit','icu_type_CTICU','icu_type_Med-Surg ICU','icu_type_Neuro ICU','apache_3j_bodysystem_Cardiovascular','apache_3j_bodysystem_Hematological','apache_2_bodysystem_Haematologic','apache_2_bodysystem_Undefined Diagnoses','h1_spo2_max','immunosuppression_0','immunosuppression_1','icu_admit_source_Other Hospital','icu_stay_type_admit','icu_stay_type_transfer','icu_type_CCU-CTICU','icu_type_CSICU','icu_type_Cardiac ICU','icu_type_MICU','icu_type_SICU','apache_3j_bodysystem_Gastrointestinal','apache_3j_bodysystem_Genitourinary','apache_3j_bodysystem_Gynecological','apache_3j_bodysystem_Musculoskeletal/Skin','apache_3j_bodysystem_Neurological','apache_3j_bodysystem_Respiratory','apache_3j_bodysystem_Trauma','apache_2_bodysystem_Neurologic','apache_2_bodysystem_Renal/Genitourinary','apache_2_bodysystem_Respiratory','apache_2_bodysystem_Trauma','apache_2_bodysystem_Undefined diagnoses','pre_icu_los_days','apache_2_diagnosis','apache_3j_diagnosis','resprate_apache','h1_heartrate_min','h1_mbp_max','h1_mbp_noninvasive_max','h1_sysbp_max','h1_sysbp_noninvasive_max','d1_glucose_max','solid_tumor_with_metastasis_0','solid_tumor_with_metastasis_1','icu_admit_source_Floor','icu_admit_source_Operating Room / Recovery','icu_admit_source_Other Hospital','apache_3j_bodysystem_Metabolic','apache_3j_bodysystem_Sepsis','apache_2_bodysystem_Cardiovascular','apache_2_bodysystem_Metabolic'])\n"
   ]
  },
  {
   "cell_type": "code",
   "execution_count": 52,
   "metadata": {},
   "outputs": [],
   "source": [
    "X = df_onehot.drop(columns=['hospital_death'])  # Exclude the target column\n",
    "y = df_onehot[['hospital_death']]"
   ]
  },
  {
   "cell_type": "code",
   "execution_count": null,
   "metadata": {},
   "outputs": [],
   "source": [
    "from sklearn.feature_selection import SequentialFeatureSelector\n",
    "\n",
    "sfs_forward = SequentialFeatureSelector(DecisionTreeClassifier(max_depth= 7, min_samples_split= 5, min_samples_leaf=300),\n",
    "                                        n_features_to_select=5,\n",
    "                                        direction='forward',\n",
    "                                        scoring='roc_auc').fit(X,y)\n",
    "\n",
    "\n",
    "sfs_forward.fit(X,y)\n",
    "X = sfs_forward.transform(X)\n",
    "df2_trans = sfs_forward.transform(df2)"
   ]
  },
  {
   "cell_type": "code",
   "execution_count": null,
   "metadata": {},
   "outputs": [],
   "source": [
    "knn_imputer = KNNImputer(n_neighbors=1000)\n",
    "X = knn_imputer.fit_transform(X)\n",
    "df2_encoded_knn = knn_imputer.fit_transform(test_onehot)\n",
    "\n",
    "knn_imputer = KNNImputer(n_neighbors=1000)\n",
    "X = knn_imputer.fit_transform(X)\n",
    "df1_encoded_knn = knn_imputer.fit_transform(df_onehot)\n",
    "\n",
    "\n",
    "\n",
    "\n",
    "#scaler = StandardScaler()\n",
    "#X_scaled = scaler.fit_transform(X)\n",
    "#df2_KNN_scaled = scaler.fit_transform(df2_impu_knn)"
   ]
  },
  {
   "cell_type": "code",
   "execution_count": null,
   "metadata": {},
   "outputs": [],
   "source": [
    "from sklearn.preprocessing import RobustScaler\n",
    "import pandas as pd\n",
    "\n",
    "# Sample data (replace this with your dataset)\n",
    "\n",
    "\n",
    "\n",
    "\n",
    "# Initialize the RobustScaler\n",
    "scaler = RobustScaler()\n",
    "\n",
    "# Fit and transform the data\n",
    "scaled_df2 = scaler.fit_transform(df2_encoded_knn)\n",
    "scaled_df1 = scaler.fit_transform(X)\n",
    "\n",
    "# Display the scaled DataFrame\n",
    "\n"
   ]
  },
  {
   "cell_type": "code",
   "execution_count": 53,
   "metadata": {},
   "outputs": [],
   "source": [
    "trainX, testX, trainy, testy = train_test_split(X, y, test_size=0.3, random_state=2)"
   ]
  },
  {
   "cell_type": "code",
   "execution_count": 219,
   "metadata": {},
   "outputs": [
    {
     "name": "stdout",
     "output_type": "stream",
     "text": [
      "[LightGBM] [Warning] Found whitespace in feature_names, replace with underlines\n",
      "[LightGBM] [Info] Number of positive: 4338, number of negative: 45662\n",
      "[LightGBM] [Info] Auto-choosing col-wise multi-threading, the overhead of testing was 0.033557 seconds.\n",
      "You can set `force_col_wise=true` to remove the overhead.\n",
      "[LightGBM] [Info] Total Bins 4926\n",
      "[LightGBM] [Info] Number of data points in the train set: 50000, number of used features: 109\n",
      "[LightGBM] [Info] [binary:BoostFromScore]: pavg=0.086760 -> initscore=-2.353853\n",
      "[LightGBM] [Info] Start training from score -2.353853\n",
      "[LightGBM] [Warning] No further splits with positive gain, best gain: -inf\n",
      "[LightGBM] [Warning] No further splits with positive gain, best gain: -inf\n",
      "[LightGBM] [Warning] No further splits with positive gain, best gain: -inf\n",
      "[LightGBM] [Warning] No further splits with positive gain, best gain: -inf\n",
      "[LightGBM] [Warning] No further splits with positive gain, best gain: -inf\n",
      "[LightGBM] [Warning] No further splits with positive gain, best gain: -inf\n",
      "[LightGBM] [Warning] No further splits with positive gain, best gain: -inf\n",
      "[LightGBM] [Warning] No further splits with positive gain, best gain: -inf\n",
      "[LightGBM] [Warning] No further splits with positive gain, best gain: -inf\n",
      "[LightGBM] [Warning] No further splits with positive gain, best gain: -inf\n",
      "[LightGBM] [Warning] No further splits with positive gain, best gain: -inf\n",
      "[LightGBM] [Warning] No further splits with positive gain, best gain: -inf\n",
      "[LightGBM] [Warning] No further splits with positive gain, best gain: -inf\n",
      "[LightGBM] [Warning] No further splits with positive gain, best gain: -inf\n",
      "[LightGBM] [Warning] No further splits with positive gain, best gain: -inf\n",
      "[LightGBM] [Warning] No further splits with positive gain, best gain: -inf\n",
      "[LightGBM] [Warning] No further splits with positive gain, best gain: -inf\n",
      "[LightGBM] [Warning] No further splits with positive gain, best gain: -inf\n",
      "[LightGBM] [Warning] No further splits with positive gain, best gain: -inf\n",
      "[LightGBM] [Warning] No further splits with positive gain, best gain: -inf\n",
      "[LightGBM] [Warning] No further splits with positive gain, best gain: -inf\n",
      "[LightGBM] [Warning] No further splits with positive gain, best gain: -inf\n",
      "[LightGBM] [Warning] No further splits with positive gain, best gain: -inf\n",
      "[LightGBM] [Warning] No further splits with positive gain, best gain: -inf\n",
      "[LightGBM] [Warning] No further splits with positive gain, best gain: -inf\n",
      "[LightGBM] [Warning] No further splits with positive gain, best gain: -inf\n",
      "Total time LGB:  1.2609233856201172\n"
     ]
    }
   ],
   "source": [
    "#use lgboost\n",
    "lgb_model = lgb.LGBMClassifier(learning_rate=0.08,max_depth=3,n_estimators=450,num_leaves=65,min_child_samples=5,colsample_bytree=0.9,reg_alpha=0.6,reg_lambda=0.3,random_state=2,n_jobs=-1)\n",
    "start_time = time.time()\n",
    "#fit xgb_model\n",
    "lgb_model.fit(X,y)\n",
    "md_probs = lgb_model.predict_proba(test_onehot)\n",
    "\n",
    "#record the end time\n",
    "end_time = time.time()\n",
    "#calculate the total time\n",
    "total_time = end_time - start_time\n",
    "print(\"Total time LGB: \", total_time)\n",
    "\n",
    "\n",
    "\n",
    "\n",
    "\n"
   ]
  },
  {
   "cell_type": "code",
   "execution_count": 216,
   "metadata": {},
   "outputs": [
    {
     "name": "stdout",
     "output_type": "stream",
     "text": [
      "LG Boost  :  0.8846390974778193\n"
     ]
    }
   ],
   "source": [
    "md_probs = md_probs[:,1]\n",
    "md_auc = roc_auc_score(testy, md_probs)\n",
    "print(\"LG Boost\", \" : \", md_auc)"
   ]
  },
  {
   "cell_type": "code",
   "execution_count": 220,
   "metadata": {},
   "outputs": [
    {
     "data": {
      "text/plain": [
       "array([0.01312276, 0.62093258, 0.07025584, ..., 0.00768519, 0.00857142,\n",
       "       0.00175503])"
      ]
     },
     "execution_count": 220,
     "metadata": {},
     "output_type": "execute_result"
    }
   ],
   "source": [
    "md_probs = md_probs[:,1]\n",
    "additional_data = pd.read_csv(\"test.csv\")\n",
    "predicted_df = pd.DataFrame(md_probs, columns=['hospital_death'])\n",
    "predicted_df.to_csv('prediction7.csv', index=False)\n",
    "\n",
    "md_probs"
   ]
  }
 ],
 "metadata": {
  "kernelspec": {
   "display_name": "base",
   "language": "python",
   "name": "python3"
  },
  "language_info": {
   "codemirror_mode": {
    "name": "ipython",
    "version": 3
   },
   "file_extension": ".py",
   "mimetype": "text/x-python",
   "name": "python",
   "nbconvert_exporter": "python",
   "pygments_lexer": "ipython3",
   "version": "3.10.9"
  },
  "orig_nbformat": 4
 },
 "nbformat": 4,
 "nbformat_minor": 2
}
